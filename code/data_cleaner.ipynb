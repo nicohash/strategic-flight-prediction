{
 "cells": [
  {
   "cell_type": "markdown",
   "metadata": {},
   "source": [
    "Data Cleaner\n",
    "==============\n",
    "\n",
    "**Author:** *Nicolas Haase*"
   ]
  },
  {
   "cell_type": "markdown",
   "metadata": {},
   "source": [
    "## Data Import"
   ]
  },
  {
   "cell_type": "code",
   "execution_count": 14,
   "metadata": {},
   "outputs": [
    {
     "name": "stderr",
     "output_type": "stream",
     "text": [
      "/var/folders/k_/7tyv0nps0tn9zv3mhhdms5y80000gn/T/ipykernel_3887/2991058277.py:4: DtypeWarning: Columns (48,69,76,77,84,85,92) have mixed types. Specify dtype option on import or set low_memory=False.\n",
      "  df = pd.read_csv('/Users/nico/Local/Thesis/Data/flight_data.csv')\n"
     ]
    },
    {
     "name": "stdout",
     "output_type": "stream",
     "text": [
      "(13453022, 110)\n"
     ]
    }
   ],
   "source": [
    "import pandas as pd\n",
    "\n",
    "# Load data into a DataFrame\n",
    "df = pd.read_csv('/Users/nico/Local/Thesis/Data/flight_data.csv')"
   ]
  },
  {
   "cell_type": "markdown",
   "metadata": {},
   "source": [
    "## Data Information"
   ]
  },
  {
   "cell_type": "code",
   "execution_count": 20,
   "metadata": {},
   "outputs": [
    {
     "name": "stdout",
     "output_type": "stream",
     "text": [
      "(13453022, 64)\n",
      "=======================\n",
      "<class 'pandas.core.frame.DataFrame'>\n",
      "RangeIndex: 13453022 entries, 0 to 13453021\n",
      "Data columns (total 64 columns):\n",
      " #   Column                           Dtype  \n",
      "---  ------                           -----  \n",
      " 0   Year                             int64  \n",
      " 1   Quarter                          int64  \n",
      " 2   Month                            int64  \n",
      " 3   DayofMonth                       int64  \n",
      " 4   DayOfWeek                        int64  \n",
      " 5   FlightDate                       object \n",
      " 6   Reporting_Airline                object \n",
      " 7   DOT_ID_Reporting_Airline         int64  \n",
      " 8   IATA_CODE_Reporting_Airline      object \n",
      " 9   Tail_Number                      object \n",
      " 10  Flight_Number_Reporting_Airline  int64  \n",
      " 11  OriginAirportID                  int64  \n",
      " 12  OriginAirportSeqID               int64  \n",
      " 13  OriginCityMarketID               int64  \n",
      " 14  Origin                           object \n",
      " 15  OriginCityName                   object \n",
      " 16  OriginState                      object \n",
      " 17  OriginStateFips                  int64  \n",
      " 18  OriginStateName                  object \n",
      " 19  OriginWac                        int64  \n",
      " 20  DestAirportID                    int64  \n",
      " 21  DestAirportSeqID                 int64  \n",
      " 22  DestCityMarketID                 int64  \n",
      " 23  Dest                             object \n",
      " 24  DestCityName                     object \n",
      " 25  DestState                        object \n",
      " 26  DestStateFips                    int64  \n",
      " 27  DestStateName                    object \n",
      " 28  DestWac                          int64  \n",
      " 29  CRSDepTime                       int64  \n",
      " 30  DepTime                          float64\n",
      " 31  DepDelay                         float64\n",
      " 32  DepDelayMinutes                  float64\n",
      " 33  DepDel15                         float64\n",
      " 34  DepartureDelayGroups             float64\n",
      " 35  DepTimeBlk                       object \n",
      " 36  TaxiOut                          float64\n",
      " 37  WheelsOff                        float64\n",
      " 38  WheelsOn                         float64\n",
      " 39  TaxiIn                           float64\n",
      " 40  CRSArrTime                       int64  \n",
      " 41  ArrTime                          float64\n",
      " 42  ArrDelay                         float64\n",
      " 43  ArrDelayMinutes                  float64\n",
      " 44  ArrDel15                         float64\n",
      " 45  ArrivalDelayGroups               float64\n",
      " 46  ArrTimeBlk                       object \n",
      " 47  Cancelled                        float64\n",
      " 48  CancellationCode                 object \n",
      " 49  Diverted                         float64\n",
      " 50  CRSElapsedTime                   float64\n",
      " 51  ActualElapsedTime                float64\n",
      " 52  AirTime                          float64\n",
      " 53  Flights                          float64\n",
      " 54  Distance                         float64\n",
      " 55  DistanceGroup                    int64  \n",
      " 56  CarrierDelay                     float64\n",
      " 57  WeatherDelay                     float64\n",
      " 58  NASDelay                         float64\n",
      " 59  SecurityDelay                    float64\n",
      " 60  LateAircraftDelay                float64\n",
      " 61  FirstDepTime                     float64\n",
      " 62  TotalAddGTime                    float64\n",
      " 63  LongestAddGTime                  float64\n",
      "dtypes: float64(29), int64(20), object(15)\n",
      "memory usage: 6.4+ GB\n"
     ]
    }
   ],
   "source": [
    "print(df.shape)\n",
    "print(\"=======================\")\n",
    "df.info()"
   ]
  },
  {
   "cell_type": "markdown",
   "metadata": {},
   "source": [
    "## Feature Selection"
   ]
  },
  {
   "cell_type": "code",
   "execution_count": 15,
   "metadata": {},
   "outputs": [],
   "source": [
    "# Drop the last 46 columns\n",
    "df = df.iloc[:, :-46]\n",
    "\n",
    "# Create a boolean mask to filter rows where \"cancelled\" or \"diverted\" is equal to one\n",
    "mask = (df['Cancelled'] != 1) & (df['Diverted'] != 1)\n",
    "\n",
    "# Apply the mask to the DataFrame to filter the rows\n",
    "df_filtered = df[mask]\n",
    "\n",
    "# df_filtered now contains rows where \"cancelled\" and \"diverted\" are not equal to one"
   ]
  },
  {
   "cell_type": "code",
   "execution_count": 16,
   "metadata": {},
   "outputs": [],
   "source": [
    "columns_to_remove = [\n",
    "    \"Quarter\", \"DOT_ID_Reporting_Airline\", \"IATA_CODE_Reporting_Airline\",\n",
    "    \"OriginAirportSeqID\", \"OriginCityMarketID\", \"OriginCityName\", \"OriginState\",\n",
    "    \"OriginStateFips\", \"OriginStateName\", \"OriginWac\", \"DestAirportSeqID\",\n",
    "    \"DestCityMarketID\", \"DestCityName\", \"DestState\", \"DestStateFips\",\n",
    "    \"DestStateName\", \"DestWac\", \"DepDelayMinutes\", \"ArrDelayMinutes\",\n",
    "    \"FirstDepTime\", \"TotalAddGTime\", \"LongestAddGTime\", \"Cancelled\", \"Diverted\", \"CancellationCode\"\n",
    "]\n",
    "\n",
    "# Remove the specified columns and reset the index\n",
    "df_filtered = df_filtered.drop(columns=columns_to_remove)\n",
    "df_filtered.reset_index(drop=True, inplace=True)"
   ]
  },
  {
   "cell_type": "code",
   "execution_count": 17,
   "metadata": {},
   "outputs": [
    {
     "name": "stdout",
     "output_type": "stream",
     "text": [
      "<class 'pandas.core.frame.DataFrame'>\n",
      "RangeIndex: 13119923 entries, 0 to 13119922\n",
      "Data columns (total 39 columns):\n",
      " #   Column                           Dtype  \n",
      "---  ------                           -----  \n",
      " 0   Year                             int64  \n",
      " 1   Month                            int64  \n",
      " 2   DayofMonth                       int64  \n",
      " 3   DayOfWeek                        int64  \n",
      " 4   FlightDate                       object \n",
      " 5   Reporting_Airline                object \n",
      " 6   Tail_Number                      object \n",
      " 7   Flight_Number_Reporting_Airline  int64  \n",
      " 8   OriginAirportID                  int64  \n",
      " 9   Origin                           object \n",
      " 10  DestAirportID                    int64  \n",
      " 11  Dest                             object \n",
      " 12  CRSDepTime                       int64  \n",
      " 13  DepTime                          float64\n",
      " 14  DepDelay                         float64\n",
      " 15  DepDel15                         float64\n",
      " 16  DepartureDelayGroups             float64\n",
      " 17  DepTimeBlk                       object \n",
      " 18  TaxiOut                          float64\n",
      " 19  WheelsOff                        float64\n",
      " 20  WheelsOn                         float64\n",
      " 21  TaxiIn                           float64\n",
      " 22  CRSArrTime                       int64  \n",
      " 23  ArrTime                          float64\n",
      " 24  ArrDelay                         float64\n",
      " 25  ArrDel15                         float64\n",
      " 26  ArrivalDelayGroups               float64\n",
      " 27  ArrTimeBlk                       object \n",
      " 28  CRSElapsedTime                   float64\n",
      " 29  ActualElapsedTime                float64\n",
      " 30  AirTime                          float64\n",
      " 31  Flights                          float64\n",
      " 32  Distance                         float64\n",
      " 33  DistanceGroup                    int64  \n",
      " 34  CarrierDelay                     float64\n",
      " 35  WeatherDelay                     float64\n",
      " 36  NASDelay                         float64\n",
      " 37  SecurityDelay                    float64\n",
      " 38  LateAircraftDelay                float64\n",
      "dtypes: float64(22), int64(10), object(7)\n",
      "memory usage: 3.8+ GB\n"
     ]
    }
   ],
   "source": [
    "df_filtered.info()"
   ]
  },
  {
   "cell_type": "markdown",
   "metadata": {},
   "source": [
    "## Save Cleaned Data"
   ]
  },
  {
   "cell_type": "code",
   "execution_count": 19,
   "metadata": {},
   "outputs": [],
   "source": [
    "# Specify the path for the output file\n",
    "output_file = '/Users/nico/Developments/strategic-flight-prediction/data/flight_data_cleaned.csv'\n",
    "\n",
    "# Save the modified DataFrame to a new CSV file\n",
    "df_filtered.to_csv(output_file, index=False)  # Set index to False to avoid saving the index as a column"
   ]
  }
 ],
 "metadata": {
  "kernelspec": {
   "display_name": "Python 3",
   "language": "python",
   "name": "python3"
  },
  "language_info": {
   "codemirror_mode": {
    "name": "ipython",
    "version": 3
   },
   "file_extension": ".py",
   "mimetype": "text/x-python",
   "name": "python",
   "nbconvert_exporter": "python",
   "pygments_lexer": "ipython3",
   "version": "3.9.6"
  }
 },
 "nbformat": 4,
 "nbformat_minor": 2
}
