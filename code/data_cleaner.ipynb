{
 "cells": [
  {
   "cell_type": "markdown",
   "metadata": {},
   "source": [
    "Data Cleaner\n",
    "==============\n",
    "\n",
    "**Author:** *Nicolas Haase*"
   ]
  },
  {
   "cell_type": "markdown",
   "metadata": {},
   "source": [
    "## Data Import"
   ]
  },
  {
   "cell_type": "code",
   "execution_count": 17,
   "metadata": {},
   "outputs": [
    {
     "name": "stderr",
     "output_type": "stream",
     "text": [
      "/var/folders/k_/7tyv0nps0tn9zv3mhhdms5y80000gn/T/ipykernel_13735/1834435320.py:4: DtypeWarning: Columns (48,69,76,77,84,85,92) have mixed types. Specify dtype option on import or set low_memory=False.\n",
      "  df = pd.read_csv('/Users/nico/Developments/strategic-flight-prediction/data/flight_data.csv')\n"
     ]
    }
   ],
   "source": [
    "import pandas as pd\n",
    "\n",
    "# Load data into a DataFrame\n",
    "df = pd.read_csv('/Users/nico/Developments/strategic-flight-prediction/data/flight_data.csv')"
   ]
  },
  {
   "cell_type": "markdown",
   "metadata": {},
   "source": [
    "## Data Information"
   ]
  },
  {
   "cell_type": "code",
   "execution_count": 1,
   "metadata": {},
   "outputs": [
    {
     "ename": "NameError",
     "evalue": "name 'df' is not defined",
     "output_type": "error",
     "traceback": [
      "\u001b[0;31m---------------------------------------------------------------------------\u001b[0m",
      "\u001b[0;31mNameError\u001b[0m                                 Traceback (most recent call last)",
      "\u001b[1;32m/Users/nico/Developments/strategic-flight-prediction/code/data_cleaner.ipynb Cell 5\u001b[0m line \u001b[0;36m1\n\u001b[0;32m----> <a href='vscode-notebook-cell:/Users/nico/Developments/strategic-flight-prediction/code/data_cleaner.ipynb#W4sZmlsZQ%3D%3D?line=0'>1</a>\u001b[0m \u001b[39mprint\u001b[39m(df\u001b[39m.\u001b[39mshape)\n\u001b[1;32m      <a href='vscode-notebook-cell:/Users/nico/Developments/strategic-flight-prediction/code/data_cleaner.ipynb#W4sZmlsZQ%3D%3D?line=1'>2</a>\u001b[0m \u001b[39mprint\u001b[39m(\u001b[39m\"\u001b[39m\u001b[39m=======================\u001b[39m\u001b[39m\"\u001b[39m)\n\u001b[1;32m      <a href='vscode-notebook-cell:/Users/nico/Developments/strategic-flight-prediction/code/data_cleaner.ipynb#W4sZmlsZQ%3D%3D?line=2'>3</a>\u001b[0m df\u001b[39m.\u001b[39minfo()\n",
      "\u001b[0;31mNameError\u001b[0m: name 'df' is not defined"
     ]
    }
   ],
   "source": [
    "print(df.shape)\n",
    "print(\"=======================\")\n",
    "df.info()"
   ]
  },
  {
   "cell_type": "markdown",
   "metadata": {},
   "source": [
    "## Feature Selection"
   ]
  },
  {
   "cell_type": "code",
   "execution_count": 19,
   "metadata": {},
   "outputs": [],
   "source": [
    "# Drop the last 46 columns\n",
    "df = df.iloc[:, :-46]\n",
    "\n",
    "# Create a boolean mask to filter rows where \"cancelled\" or \"diverted\" is equal to one\n",
    "mask = (df['Cancelled'] != 1) & (df['Diverted'] != 1)\n",
    "\n",
    "# Apply the mask to the DataFrame to filter the rows\n",
    "df_filtered = df[mask]\n",
    "\n",
    "# df_filtered now contains rows where \"cancelled\" and \"diverted\" are not equal to one"
   ]
  },
  {
   "cell_type": "code",
   "execution_count": 20,
   "metadata": {},
   "outputs": [],
   "source": [
    "columns_to_remove = [\n",
    "    \"Quarter\", \"DOT_ID_Reporting_Airline\", \"IATA_CODE_Reporting_Airline\",\n",
    "    \"OriginAirportSeqID\", \"OriginCityMarketID\", \"OriginCityName\", \"OriginState\",\n",
    "    \"OriginStateFips\", \"OriginStateName\", \"OriginWac\", \"DestAirportSeqID\",\n",
    "    \"DestCityMarketID\", \"DestCityName\", \"DestState\", \"DestStateFips\",\n",
    "    \"DestStateName\", \"DestWac\", \"DepDelayMinutes\", \"ArrDelayMinutes\",\n",
    "    \"FirstDepTime\", \"TotalAddGTime\", \"LongestAddGTime\", \"Cancelled\", \"Diverted\", \"CancellationCode\", \"Flights\"\n",
    "]\n",
    "\n",
    "# Remove the specified columns and reset the index\n",
    "df_filtered = df_filtered.drop(columns=columns_to_remove)\n",
    "df_filtered.reset_index(drop=True, inplace=True)"
   ]
  },
  {
   "cell_type": "code",
   "execution_count": 22,
   "metadata": {},
   "outputs": [
    {
     "name": "stdout",
     "output_type": "stream",
     "text": [
      "<class 'pandas.core.frame.DataFrame'>\n",
      "RangeIndex: 13119923 entries, 0 to 13119922\n",
      "Data columns (total 39 columns):\n",
      " #   Column                           Dtype  \n",
      "---  ------                           -----  \n",
      " 0   Year                             int64  \n",
      " 1   Month                            int64  \n",
      " 2   DayofMonth                       int64  \n",
      " 3   DayOfWeek                        int64  \n",
      " 4   FlightDate                       object \n",
      " 5   Reporting_Airline                object \n",
      " 6   Tail_Number                      object \n",
      " 7   Flight_Number_Reporting_Airline  int64  \n",
      " 8   OriginAirportID                  int64  \n",
      " 9   Origin                           object \n",
      " 10  DestAirportID                    int64  \n",
      " 11  Dest                             object \n",
      " 12  CRSDepTime                       int64  \n",
      " 13  DepTime                          float64\n",
      " 14  DepDelay                         float64\n",
      " 15  DepDel15                         float64\n",
      " 16  DepartureDelayGroups             float64\n",
      " 17  DepTimeBlk                       object \n",
      " 18  TaxiOut                          float64\n",
      " 19  WheelsOff                        float64\n",
      " 20  WheelsOn                         float64\n",
      " 21  TaxiIn                           float64\n",
      " 22  CRSArrTime                       int64  \n",
      " 23  ArrTime                          float64\n",
      " 24  ArrDelay                         float64\n",
      " 25  ArrDel15                         float64\n",
      " 26  ArrivalDelayGroups               float64\n",
      " 27  ArrTimeBlk                       object \n",
      " 28  CRSElapsedTime                   float64\n",
      " 29  ActualElapsedTime                float64\n",
      " 30  AirTime                          float64\n",
      " 31  Flights                          float64\n",
      " 32  Distance                         float64\n",
      " 33  DistanceGroup                    int64  \n",
      " 34  CarrierDelay                     float64\n",
      " 35  WeatherDelay                     float64\n",
      " 36  NASDelay                         float64\n",
      " 37  SecurityDelay                    float64\n",
      " 38  LateAircraftDelay                float64\n",
      "dtypes: float64(22), int64(10), object(7)\n",
      "memory usage: 3.8+ GB\n"
     ]
    }
   ],
   "source": [
    "df_filtered.info()"
   ]
  },
  {
   "cell_type": "markdown",
   "metadata": {},
   "source": [
    "## Atlanta Airport"
   ]
  },
  {
   "cell_type": "code",
   "execution_count": 23,
   "metadata": {},
   "outputs": [
    {
     "name": "stdout",
     "output_type": "stream",
     "text": [
      "<class 'pandas.core.frame.DataFrame'>\n",
      "RangeIndex: 1276177 entries, 0 to 1276176\n",
      "Data columns (total 39 columns):\n",
      " #   Column                           Non-Null Count    Dtype  \n",
      "---  ------                           --------------    -----  \n",
      " 0   Year                             1276177 non-null  int64  \n",
      " 1   Month                            1276177 non-null  int64  \n",
      " 2   DayofMonth                       1276177 non-null  int64  \n",
      " 3   DayOfWeek                        1276177 non-null  int64  \n",
      " 4   FlightDate                       1276177 non-null  object \n",
      " 5   Reporting_Airline                1276177 non-null  object \n",
      " 6   Tail_Number                      1276177 non-null  object \n",
      " 7   Flight_Number_Reporting_Airline  1276177 non-null  int64  \n",
      " 8   OriginAirportID                  1276177 non-null  int64  \n",
      " 9   Origin                           1276177 non-null  object \n",
      " 10  DestAirportID                    1276177 non-null  int64  \n",
      " 11  Dest                             1276177 non-null  object \n",
      " 12  CRSDepTime                       1276177 non-null  int64  \n",
      " 13  DepTime                          1276177 non-null  float64\n",
      " 14  DepDelay                         1276177 non-null  float64\n",
      " 15  DepDel15                         1276177 non-null  float64\n",
      " 16  DepartureDelayGroups             1276177 non-null  float64\n",
      " 17  DepTimeBlk                       1276177 non-null  object \n",
      " 18  TaxiOut                          1276177 non-null  float64\n",
      " 19  WheelsOff                        1276177 non-null  float64\n",
      " 20  WheelsOn                         1276177 non-null  float64\n",
      " 21  TaxiIn                           1276177 non-null  float64\n",
      " 22  CRSArrTime                       1276177 non-null  int64  \n",
      " 23  ArrTime                          1276177 non-null  float64\n",
      " 24  ArrDelay                         1276177 non-null  float64\n",
      " 25  ArrDel15                         1276177 non-null  float64\n",
      " 26  ArrivalDelayGroups               1276177 non-null  float64\n",
      " 27  ArrTimeBlk                       1276177 non-null  object \n",
      " 28  CRSElapsedTime                   1276177 non-null  float64\n",
      " 29  ActualElapsedTime                1276177 non-null  float64\n",
      " 30  AirTime                          1276177 non-null  float64\n",
      " 31  Flights                          1276177 non-null  float64\n",
      " 32  Distance                         1276177 non-null  float64\n",
      " 33  DistanceGroup                    1276177 non-null  int64  \n",
      " 34  CarrierDelay                     223100 non-null   float64\n",
      " 35  WeatherDelay                     223100 non-null   float64\n",
      " 36  NASDelay                         223100 non-null   float64\n",
      " 37  SecurityDelay                    223100 non-null   float64\n",
      " 38  LateAircraftDelay                223100 non-null   float64\n",
      "dtypes: float64(22), int64(10), object(7)\n",
      "memory usage: 379.7+ MB\n"
     ]
    }
   ],
   "source": [
    "# Filter for flights with 10397 as the origin or destination id\n",
    "atl_origin_id = 10397\n",
    "df_atl = df_filtered[(df_filtered['OriginAirportID'] == atl_origin_id) | (df_filtered['DestAirportID'] == atl_origin_id)]\n",
    "df_atl.reset_index(drop=True, inplace=True)\n",
    "\n",
    "df_atl.info()"
   ]
  },
  {
   "cell_type": "markdown",
   "metadata": {},
   "source": [
    "## Top 5 Airports"
   ]
  },
  {
   "cell_type": "code",
   "execution_count": 24,
   "metadata": {},
   "outputs": [
    {
     "name": "stdout",
     "output_type": "stream",
     "text": [
      "<class 'pandas.core.frame.DataFrame'>\n",
      "RangeIndex: 2615525 entries, 0 to 2615524\n",
      "Data columns (total 2 columns):\n",
      " #   Column           Dtype \n",
      "---  ------           ----- \n",
      " 0   Origin           object\n",
      " 1   OriginAirportID  int64 \n",
      "dtypes: int64(1), object(1)\n",
      "memory usage: 39.9+ MB\n",
      "[10397 11298 11292 13930 12892]\n"
     ]
    }
   ],
   "source": [
    "# List of top ten airport codes to filter for\n",
    "airport_codes = ['ATL', 'DFW', 'DEN', 'ORD', 'LAX']\n",
    "\n",
    "# Create a DataFrame containing 'Origin' values\n",
    "origin_df = pd.DataFrame({'Origin': airport_codes})\n",
    "\n",
    "# Merge the 'Origin' DataFrame with the original DataFrame to get 'OriginAirportID'\n",
    "result_df = pd.merge(origin_df, df_filtered[['Origin', 'OriginAirportID']], on='Origin', how='left')\n",
    "\n",
    "# Extract only the unique values of the 'OriginAirportID' column\n",
    "airport_ids = result_df['OriginAirportID'].unique()\n",
    "\n",
    "result_df.info()\n",
    "print(airport_ids)"
   ]
  },
  {
   "cell_type": "code",
   "execution_count": 25,
   "metadata": {},
   "outputs": [
    {
     "name": "stdout",
     "output_type": "stream",
     "text": [
      "<class 'pandas.core.frame.DataFrame'>\n",
      "Index: 4991757 entries, 718 to 13119922\n",
      "Data columns (total 39 columns):\n",
      " #   Column                           Dtype  \n",
      "---  ------                           -----  \n",
      " 0   Year                             int64  \n",
      " 1   Month                            int64  \n",
      " 2   DayofMonth                       int64  \n",
      " 3   DayOfWeek                        int64  \n",
      " 4   FlightDate                       object \n",
      " 5   Reporting_Airline                object \n",
      " 6   Tail_Number                      object \n",
      " 7   Flight_Number_Reporting_Airline  int64  \n",
      " 8   OriginAirportID                  int64  \n",
      " 9   Origin                           object \n",
      " 10  DestAirportID                    int64  \n",
      " 11  Dest                             object \n",
      " 12  CRSDepTime                       int64  \n",
      " 13  DepTime                          float64\n",
      " 14  DepDelay                         float64\n",
      " 15  DepDel15                         float64\n",
      " 16  DepartureDelayGroups             float64\n",
      " 17  DepTimeBlk                       object \n",
      " 18  TaxiOut                          float64\n",
      " 19  WheelsOff                        float64\n",
      " 20  WheelsOn                         float64\n",
      " 21  TaxiIn                           float64\n",
      " 22  CRSArrTime                       int64  \n",
      " 23  ArrTime                          float64\n",
      " 24  ArrDelay                         float64\n",
      " 25  ArrDel15                         float64\n",
      " 26  ArrivalDelayGroups               float64\n",
      " 27  ArrTimeBlk                       object \n",
      " 28  CRSElapsedTime                   float64\n",
      " 29  ActualElapsedTime                float64\n",
      " 30  AirTime                          float64\n",
      " 31  Flights                          float64\n",
      " 32  Distance                         float64\n",
      " 33  DistanceGroup                    int64  \n",
      " 34  CarrierDelay                     float64\n",
      " 35  WeatherDelay                     float64\n",
      " 36  NASDelay                         float64\n",
      " 37  SecurityDelay                    float64\n",
      " 38  LateAircraftDelay                float64\n",
      "dtypes: float64(22), int64(10), object(7)\n",
      "memory usage: 1.5+ GB\n"
     ]
    }
   ],
   "source": [
    "# Use the isin() method to filter the DataFrame based on the list of airport ids\n",
    "df_top_ten = df_filtered[(df_filtered['OriginAirportID'].isin(airport_ids)) | (df_filtered['DestAirportID'].isin(airport_ids))]\n",
    "\n",
    "df_top_ten.info()"
   ]
  },
  {
   "cell_type": "markdown",
   "metadata": {},
   "source": [
    "## Save Cleaned Data"
   ]
  },
  {
   "cell_type": "code",
   "execution_count": 26,
   "metadata": {},
   "outputs": [],
   "source": [
    "# Save data to .csv files\n",
    "df_filtered.to_csv('../data/cleaned/flight_data_cleaned.csv', index=False)  # Set index to False to avoid saving the index as a column\n",
    "df_atl.to_csv('../data/cleaned/atl_cleaned.csv', index=False)\n",
    "df_top_ten.to_csv('../data/cleaned/top_five_cleaned.csv', index=False)"
   ]
  }
 ],
 "metadata": {
  "kernelspec": {
   "display_name": "Python 3",
   "language": "python",
   "name": "python3"
  },
  "language_info": {
   "codemirror_mode": {
    "name": "ipython",
    "version": 3
   },
   "file_extension": ".py",
   "mimetype": "text/x-python",
   "name": "python",
   "nbconvert_exporter": "python",
   "pygments_lexer": "ipython3",
   "version": "3.9.6"
  }
 },
 "nbformat": 4,
 "nbformat_minor": 2
}
