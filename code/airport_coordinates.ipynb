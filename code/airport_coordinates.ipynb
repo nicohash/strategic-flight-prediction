{
 "cells": [
  {
   "cell_type": "code",
   "execution_count": null,
   "metadata": {},
   "outputs": [],
   "source": [
    "import pandas as pd\n",
    "import folium\n",
    "from folium import plugins"
   ]
  },
  {
   "cell_type": "code",
   "execution_count": null,
   "metadata": {},
   "outputs": [],
   "source": [
    "# Load airport coordinates data\n",
    "airport_coordinates = pd.read_csv('../data/airport_coordinates.csv')"
   ]
  },
  {
   "cell_type": "code",
   "execution_count": null,
   "metadata": {},
   "outputs": [],
   "source": [
    "airport_coordinates = airport_coordinates[['AIRPORT_ID', 'LATITUDE', 'LONGITUDE']]\n",
    "\n",
    "# Step 1: Group by Airport ID and aggregate coordinates\n",
    "grouped_coordinates = airport_coordinates.groupby('AIRPORT').agg({'LONGITUDE': 'mean', 'LATITUDE': 'mean'}).reset_index()"
   ]
  },
  {
   "cell_type": "code",
   "execution_count": null,
   "metadata": {},
   "outputs": [],
   "source": [
    "relevant_airports = ['ATL', 'MCO', 'LGA', 'FLL', 'MIA', 'DCA', 'TPA', 'EWR', 'ORD', 'DFW', 'DEN', 'PHL', 'BWI', 'LAX', 'CLT', 'DTW', 'BOS', 'IAH', 'LAS', 'MSY', 'JAX', 'RDU', 'BNA', 'PBI', 'AUS', 'MSP', 'JFK', 'IAD', 'PHX', 'MEM', 'SEA', 'RIC', 'DAL', 'GSP', 'JAN', 'RSW', 'MDW', 'CLE', 'STL', 'IND', 'SLC', 'SDF', 'MCI', 'HOU', 'CHS', 'SAT', 'BHM', 'CMH', 'SAV', 'SRQ', 'TYS', 'SFO', 'PNS', 'PIT', 'CHA', 'CVG', 'LIT', 'ORF', 'GSO', 'CAE', 'LEX', 'MKE', 'AGS', 'ECP', 'OKC', 'BDL', 'HSV', 'OMA', 'VPS', 'SAN', 'AVL', 'HPN', 'TLH', 'GNV', 'MYR', 'TRI', 'EYW', 'MOB', 'XNA', 'MGM', 'SJU', 'BTR', 'DAB', 'DAY', 'TUL', 'MLB', 'GRR', 'ILM', 'GPT', 'PDX', 'SHV', 'BUF', 'DSM', 'MSN', 'ROA', 'CHO', 'ICT', 'PVD', 'SGF', 'ROC', 'ALB', 'SYR', 'ABQ', 'LFT', 'MDT', 'VLD', 'CSG', 'GTR', 'ABY', 'ABE', 'SBN', 'ONT', 'CRW', 'FWA', 'SNA', 'DHN', 'SMF', 'OAJ', 'MLU', 'EVV', 'BQK', 'FAY', 'AEX', 'TUS', 'BMI', 'MLI', 'ELP', 'STT', 'SJC', 'PWM', 'HHH', 'CID', 'ATW', 'GRB', 'GEG', 'BOI', 'BTV', 'HNL', 'FSD', 'BZN', 'TTN', 'JAC', 'ISP', 'ANC', 'ASE', 'STX', 'EGE', 'PSP', 'HDN', 'MTJ', 'ACY', 'OGG', 'SWF', 'COS', 'TVC', 'RST', 'RNO', 'RAP', 'OAK', 'FCA', 'BGR', 'MSO', 'SCE']\n",
    "\n",
    "airport_coordinates = airport_coordinates.isin(relevant_airports)"
   ]
  },
  {
   "cell_type": "code",
   "execution_count": null,
   "metadata": {},
   "outputs": [],
   "source": [
    "# Create a folium map centered at the average coordinates of all airports\n",
    "center_lat = airport_coordinates[['LATITUDE']].mean().mean()\n",
    "center_lon = airport_coordinates[['LONGITUDE']].mean().mean()\n",
    "map_center = [center_lat, center_lon]\n",
    "my_map = folium.Map(location=map_center, zoom_start=4)\n",
    "\n",
    "# Add markers for each airport\n",
    "for _, row in airport_coordinates.iterrows():\n",
    "    folium.Marker([row['LONGITUDE'], row['OriginLongitude']], popup=f\"Airport {row['Origin']}\").add_to(my_map)\n",
    "    folium.Marker([row['DestLatitude'], row['DestLongitude']], popup=f\"Airport {row['Dest']}\").add_to(my_map)\n",
    "\n",
    "# Add lines for connections\n",
    "for _, row in df.iterrows():\n",
    "    folium.PolyLine([(row['OriginLatitude'], row['OriginLongitude']), (row['DestLatitude'], row['DestLongitude'])], color=\"blue\").add_to(my_map)\n",
    "\n",
    "# Save the map to an HTML file\n",
    "my_map.save(\"airport_connections_map.html\")"
   ]
  }
 ],
 "metadata": {
  "language_info": {
   "name": "python"
  }
 },
 "nbformat": 4,
 "nbformat_minor": 2
}
