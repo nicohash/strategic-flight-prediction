{
  "cells": [
    {
      "cell_type": "markdown",
      "metadata": {
        "id": "AlSrEe59xu47"
      },
      "source": [
        "Flight Delay Distribution Prediction\n",
        "==============\n",
        "\n",
        "**Author:** *Nicolas Haase*"
      ]
    },
    {
      "cell_type": "markdown",
      "metadata": {
        "id": "HW63oXtWxu4-"
      },
      "source": [
        "# 0 Environment Insights"
      ]
    },
    {
      "cell_type": "code",
      "execution_count": null,
      "metadata": {
        "colab": {
          "base_uri": "https://localhost:8080/"
        },
        "id": "9v4dJwB5xu4-",
        "outputId": "20f6a2b7-a013-47db-e61e-7503509ad211"
      },
      "outputs": [],
      "source": [
        "from psutil import virtual_memory\n",
        "ram_gb = virtual_memory().total / 1e9\n",
        "print('Your runtime has {:.1f} gigabytes of available RAM\\n'.format(ram_gb))\n",
        "\n",
        "if ram_gb < 20:\n",
        "    print('Not using a high-RAM runtime')\n",
        "else:\n",
        "    print('You are using a high-RAM runtime!')\n",
        "\n",
        "gpu_info = !nvidia-smi\n",
        "gpu_info = '\\n'.join(gpu_info)\n",
        "if gpu_info.find('failed') >= 0:\n",
        "    print('Not connected to a GPU')\n",
        "else:\n",
        "    print(gpu_info)"
      ]
    },
    {
      "cell_type": "code",
      "execution_count": null,
      "metadata": {
        "colab": {
          "base_uri": "https://localhost:8080/"
        },
        "id": "R2NfpH6OlOXh",
        "outputId": "9108e5e1-67d2-4e12-a1ea-8b45f06ebdf1"
      },
      "outputs": [],
      "source": [
        "import os\n",
        "# Run a shell command to get CPU information\n",
        "cpu_info = !cat /proc/cpuinfo\n",
        "# Print the CPU information\n",
        "print('\\n'.join(cpu_info))"
      ]
    },
    {
      "cell_type": "markdown",
      "metadata": {
        "id": "B1_1hyXVxu5A"
      },
      "source": [
        "# 1 Setup"
      ]
    },
    {
      "cell_type": "code",
      "execution_count": null,
      "metadata": {
        "colab": {
          "base_uri": "https://localhost:8080/"
        },
        "id": "0eISESmSet4p",
        "outputId": "a1225d51-80d2-488c-b4b5-c8bee11eff9c"
      },
      "outputs": [],
      "source": [
        "from google.colab import drive\n",
        "drive.mount('/content/drive')"
      ]
    },
    {
      "cell_type": "code",
      "execution_count": null,
      "metadata": {
        "id": "keULw7iqZhR1"
      },
      "outputs": [],
      "source": [
        "from google.colab import files"
      ]
    },
    {
      "cell_type": "code",
      "execution_count": null,
      "metadata": {
        "colab": {
          "base_uri": "https://localhost:8080/"
        },
        "id": "cvLcGmaDewfO",
        "outputId": "f91a4ed8-b5aa-496f-cb92-25de8dd75973"
      },
      "outputs": [],
      "source": [
        "! pip install properscoring"
      ]
    },
    {
      "cell_type": "code",
      "execution_count": null,
      "metadata": {
        "colab": {
          "base_uri": "https://localhost:8080/"
        },
        "id": "oOoqj34S2Hk2",
        "outputId": "0fc1eeb0-defd-4e5c-8a15-9c44d95af6d8"
      },
      "outputs": [],
      "source": [
        "! pip install shap"
      ]
    },
    {
      "cell_type": "code",
      "execution_count": null,
      "metadata": {
        "colab": {
          "background_save": true,
          "base_uri": "https://localhost:8080/"
        },
        "id": "5QAH5z7LeyZz",
        "outputId": "e81bcb47-8368-422a-f62f-600fd0bf451f"
      },
      "outputs": [],
      "source": [
        "! pip install --upgrade tensorflow"
      ]
    },
    {
      "cell_type": "code",
      "execution_count": null,
      "metadata": {
        "colab": {
          "background_save": true
        },
        "id": "Lj4qz37sb1ui",
        "outputId": "37af2a71-07d7-4e3d-e780-b221771d7618"
      },
      "outputs": [],
      "source": [
        "! pip install scikeras"
      ]
    },
    {
      "cell_type": "markdown",
      "metadata": {
        "id": "dVgWToLsxu5A"
      },
      "source": [
        "## 1.1 Used Libraries"
      ]
    },
    {
      "cell_type": "code",
      "execution_count": null,
      "metadata": {
        "colab": {
          "background_save": true
        },
        "id": "5xJav46oxu5A"
      },
      "outputs": [],
      "source": [
        "import folium\n",
        "import matplotlib.pyplot as plt\n",
        "from matplotlib.lines import Line2D\n",
        "from matplotlib.ticker import MultipleLocator\n",
        "import numpy as np\n",
        "import pandas as pd\n",
        "import properscoring as ps\n",
        "import seaborn as sns\n",
        "import shap\n",
        "import sklearn\n",
        "import statsmodels.api as sm\n",
        "import tensorflow as tf\n",
        "import tensorflow_probability as tfp\n",
        "from imblearn.under_sampling import RandomUnderSampler\n",
        "from tensorflow import keras\n",
        "from tensorflow.keras import layers\n",
        "from scipy.stats import norm\n",
        "from sklearn import preprocessing\n",
        "from sklearn.ensemble import RandomForestRegressor\n",
        "from sklearn.linear_model import LinearRegression\n",
        "from sklearn.metrics import mean_absolute_error, mean_squared_error, r2_score\n",
        "from sklearn.model_selection import GridSearchCV, train_test_split\n",
        "from sklearn.model_selection import RandomizedSearchCV\n",
        "from sklearn.metrics import make_scorer\n",
        "from sklearn.exceptions import ConvergenceWarning\n",
        "from sklearn.neural_network import MLPRegressor\n",
        "import warnings\n",
        "\n",
        "warnings.filterwarnings(\"ignore\", category=ConvergenceWarning)\n",
        "warnings.filterwarnings(\"ignore\", category=UserWarning, module=\"sklearn\")"
      ]
    },
    {
      "cell_type": "markdown",
      "metadata": {
        "id": "2-DTVfcsxu5B"
      },
      "source": [
        "## 1.2 Data Import"
      ]
    },
    {
      "cell_type": "code",
      "execution_count": null,
      "metadata": {
        "colab": {
          "background_save": true
        },
        "id": "cJWYAP0oxu5B"
      },
      "outputs": [],
      "source": [
        "# Load data into a DataFrame\n",
        "df = pd.read_csv(\"/content/drive/MyDrive/ColabNotebooks/data/cleaned/atl_cleaned.csv\")"
      ]
    },
    {
      "cell_type": "markdown",
      "metadata": {
        "id": "3pH2CHW7xu5B"
      },
      "source": [
        "## 1.3 Workspace Settings"
      ]
    },
    {
      "cell_type": "code",
      "execution_count": null,
      "metadata": {
        "colab": {
          "background_save": true
        },
        "id": "5MRko5dxxu5B"
      },
      "outputs": [],
      "source": [
        "pd.set_option('display.max_columns', None)\n",
        "pd.set_option('display.max_rows', None)"
      ]
    },
    {
      "cell_type": "markdown",
      "metadata": {
        "id": "syEhV0Gpxu5C"
      },
      "source": [
        "## 1.4 Feature Preparation"
      ]
    },
    {
      "cell_type": "code",
      "execution_count": null,
      "metadata": {
        "colab": {
          "background_save": true
        },
        "id": "oEUaOjRgxu5C"
      },
      "outputs": [],
      "source": [
        "# Rename the column \"DayofMonth\" to \"DayOfMonth\"\n",
        "df.rename(columns={\"DayofMonth\": \"DayOfMonth\"}, inplace=True)"
      ]
    },
    {
      "cell_type": "markdown",
      "metadata": {
        "id": "kF9iaERKxu5C"
      },
      "source": [
        "# 2 Exploratory Data Analysis"
      ]
    },
    {
      "cell_type": "code",
      "execution_count": null,
      "metadata": {
        "colab": {
          "background_save": true
        },
        "id": "4EISvF72xu5C",
        "outputId": "81510b51-f7b3-423c-ea34-c618f42ba9d3"
      },
      "outputs": [],
      "source": [
        "df.info()"
      ]
    },
    {
      "cell_type": "code",
      "execution_count": null,
      "metadata": {
        "colab": {
          "background_save": true
        },
        "id": "Oks4LvM8xu5D",
        "outputId": "86209da8-8ef5-4b99-bab8-744a789c66ab"
      },
      "outputs": [],
      "source": [
        "# Print the first ten rows to get an overview\n",
        "df.head(10)"
      ]
    },
    {
      "cell_type": "code",
      "execution_count": null,
      "metadata": {
        "colab": {
          "background_save": true
        },
        "id": "NIxb0Ezgxu5D",
        "outputId": "dd17f282-acd6-4e23-ea52-4c3ce3cafdbf"
      },
      "outputs": [],
      "source": [
        "print(df.dtypes)"
      ]
    },
    {
      "cell_type": "code",
      "execution_count": null,
      "metadata": {
        "colab": {
          "background_save": true
        },
        "id": "hpSDeFQIxu5D",
        "outputId": "cd41ce68-900c-4c51-9259-b9e6d99893fc"
      },
      "outputs": [],
      "source": [
        "# Print the columns\n",
        "print(list(df))"
      ]
    },
    {
      "cell_type": "code",
      "execution_count": null,
      "metadata": {
        "colab": {
          "background_save": true
        },
        "id": "eecG4-pJxu5D",
        "outputId": "3fea4ccc-344b-46b8-9246-b096ca5df173"
      },
      "outputs": [],
      "source": [
        "df.describe()"
      ]
    },
    {
      "cell_type": "code",
      "execution_count": null,
      "metadata": {
        "colab": {
          "background_save": true
        },
        "id": "oynQjIAwxu5D",
        "outputId": "74179007-12c4-416b-8075-1b577134e824"
      },
      "outputs": [],
      "source": [
        "print(df.shape)"
      ]
    },
    {
      "cell_type": "code",
      "execution_count": null,
      "metadata": {
        "colab": {
          "background_save": true
        },
        "id": "qxP2FKAVcMlV",
        "outputId": "16b2228c-741e-4ae5-a228-fa2ce407b0f1"
      },
      "outputs": [],
      "source": [
        "print(df.isnull().sum())"
      ]
    },
    {
      "cell_type": "code",
      "execution_count": null,
      "metadata": {},
      "outputs": [],
      "source": [
        "# Specify the columns to exclude from the search\n",
        "exclude_columns = ['CarrierDelay', 'WeatherDelay', 'NASDelay', 'SecurityDelay', 'LateAircraftDelay']\n",
        "\n",
        "# Exclude specified columns from the count of missing values\n",
        "missing_values_excluded = df.drop(columns=exclude_columns).isnull().sum()\n",
        "\n",
        "# Find the column with the max number of missing values\n",
        "max_missing_column = missing_values_excluded.idxmax()\n",
        "max_missing_value = missing_values_excluded[max_missing_column]\n",
        "\n",
        "print(f\"The column with the minimum missing values (excluding specified columns) is '{max_missing_column}' with {max_missing_value} missing values.\")"
      ]
    },
    {
      "cell_type": "code",
      "execution_count": null,
      "metadata": {
        "colab": {
          "background_save": true
        },
        "id": "snp7JhDuxu5E",
        "outputId": "387f68e1-5e19-4d5c-d750-6aca0acbaddf"
      },
      "outputs": [],
      "source": [
        "# Get all unique values from the \"Origin\" column\n",
        "num_unique_values = df['Origin'].nunique()\n",
        "unique_values = sorted(df['Origin'].unique())\n",
        "\n",
        "# Print the unique values\n",
        "print(\"Number of unique values in the 'Origin' column:\", num_unique_values)\n",
        "print(\"Unique values in the 'Origin' column:\")\n",
        "for value in unique_values:\n",
        "    print(value, end=\", \")"
      ]
    },
    {
      "cell_type": "code",
      "execution_count": null,
      "metadata": {
        "colab": {
          "background_save": true
        },
        "id": "vFRo3Xjvxu5E",
        "outputId": "4e125ba0-9f4e-4ee5-aed8-85013a4b9c79"
      },
      "outputs": [],
      "source": [
        "# Convert the 'FlightDate' column to a datetime format if it's not already\n",
        "df['FlightDate'] = pd.to_datetime(df['FlightDate'])\n",
        "\n",
        "# Group the data by month and count the data points in each group\n",
        "monthly_counts = df.groupby(df['FlightDate'].dt.to_period('M')).size().reset_index(name='Count')\n",
        "\n",
        "# Convert 'FlightDate' to a numeric representation\n",
        "monthly_counts['NumericDate'] = monthly_counts['FlightDate'].dt.year + monthly_counts['FlightDate'].dt.month / 12\n",
        "\n",
        "print(monthly_counts)"
      ]
    },
    {
      "cell_type": "code",
      "execution_count": null,
      "metadata": {
        "colab": {
          "background_save": true
        },
        "id": "mBG_vypGxu5E",
        "outputId": "367ee1cd-db42-48a7-b360-94081716501a"
      },
      "outputs": [],
      "source": [
        "# Plot the monthly counts\n",
        "plt.figure(figsize=(10, 6), dpi=300)\n",
        "plt.plot(monthly_counts['NumericDate'], monthly_counts['Count'], marker='o')\n",
        "# plt.title('Monthly Counts of Flights')\n",
        "plt.xlabel('Month')\n",
        "plt.ylabel('Flights')\n",
        "\n",
        "# Set the ticks and labels with a gap of 3 months\n",
        "tick_positions = monthly_counts['NumericDate'][::2]\n",
        "tick_labels = monthly_counts['FlightDate'][::2].dt.strftime('%b %Y')\n",
        "\n",
        "plt.xticks(tick_positions, tick_labels, rotation=45)  # Rotate x-axis labels for better readability\n",
        "plt.grid(True)\n",
        "plt.show()"
      ]
    },
    {
      "cell_type": "code",
      "execution_count": null,
      "metadata": {
        "colab": {
          "background_save": true
        },
        "id": "twb3l8w7xu5E",
        "outputId": "2de80226-6cf2-4bb8-91e5-c3002c14ba35"
      },
      "outputs": [],
      "source": [
        "# Find the maximum and minimum values in the 'Count' column\n",
        "max_value = monthly_counts['Count'].max()\n",
        "min_value = monthly_counts['Count'].min()\n",
        "\n",
        "# Find the corresponding months for the maximum and minimum values\n",
        "month_with_max = monthly_counts.loc[monthly_counts['Count'] == max_value, 'FlightDate'].values[0]\n",
        "month_with_min = monthly_counts.loc[monthly_counts['Count'] == min_value, 'FlightDate'].values[0]\n",
        "\n",
        "# Print the results\n",
        "print(\"Maximum Count:\", max_value)\n",
        "print(\"Month with Maximum Count:\", month_with_max)\n",
        "print(\"Minimum Count:\", min_value)\n",
        "print(\"Month with Minimum Count:\", month_with_min)"
      ]
    },
    {
      "cell_type": "code",
      "execution_count": null,
      "metadata": {
        "colab": {
          "background_save": true
        },
        "id": "f-eRHUfiboyG",
        "outputId": "91fa36b8-ad6e-45c2-8ae1-25a1f5290719"
      },
      "outputs": [],
      "source": [
        "fig, ax = plt.subplots(figsize=(8, 4.5), dpi=300)\n",
        "\n",
        "arr = df['ArrDelay']\n",
        "dep = df['DepDelay']\n",
        "\n",
        "delay_range = np.arange(-50, 151, 1)\n",
        "\n",
        "# Plot histogram for ArrDelay\n",
        "ax.hist(arr, bins=delay_range, alpha=0.7, label='Arrivals', color='lightblue', edgecolor='white', align='mid', linewidth=0.5)\n",
        "\n",
        "# Plot histogram for DepDelay\n",
        "lightorange = '#ffcc66'\n",
        "ax.hist(dep, bins=delay_range, alpha=0.7, label='Departures', color=lightorange, edgecolor='white', align='mid', linewidth=0.5)\n",
        "\n",
        "# Adding labels and title\n",
        "ax.set_xlabel('Delay [min]')\n",
        "ax.set_ylabel('Frequency')\n",
        "\n",
        "ax.axvline(x=0, color='grey', linestyle='--', label='Scheduled time')\n",
        "ax.axvline(x=15, color='lightcoral', linestyle='--', label='15 min delay')\n",
        "\n",
        "ax.set_xlim(-50, 150)\n",
        "\n",
        "# Adding legend\n",
        "ax.legend()\n",
        "\n",
        "# Show the plot\n",
        "plt.show()"
      ]
    },
    {
      "cell_type": "code",
      "execution_count": null,
      "metadata": {
        "colab": {
          "background_save": true
        },
        "id": "mmLLaDJkbtux",
        "outputId": "220253ca-de4c-4b92-bd68-8d3f61ffc2a9"
      },
      "outputs": [],
      "source": [
        "count_above_180 = (df['ArrDelay'] >= 180).sum()\n",
        "print(f\"Number of values in 'ArrDelay' greater than or equal to 180: {count_above_180}\")"
      ]
    },
    {
      "cell_type": "code",
      "execution_count": null,
      "metadata": {
        "colab": {
          "background_save": true
        },
        "id": "CLaehB0cbyTa",
        "outputId": "3cc54567-42ff-4f9a-b9ac-ff75c19b0ac3"
      },
      "outputs": [],
      "source": [
        "above_zero_count = (df['ArrDelay'] > 0).sum()\n",
        "below_zero_count = (df['ArrDelay'] < 0).sum()\n",
        "\n",
        "if above_zero_count > below_zero_count:\n",
        "    print(\"More values of ArrDelay are above 0.\")\n",
        "elif above_zero_count < below_zero_count:\n",
        "    print(\"More values of ArrDelay are below 0.\")\n",
        "else:\n",
        "    print(\"The number of values above and below 0 are equal.\")"
      ]
    },
    {
      "cell_type": "code",
      "execution_count": null,
      "metadata": {
        "colab": {
          "background_save": true
        },
        "id": "v0OFF4C4b0bR",
        "outputId": "761b67e2-e2a1-423f-bf86-89a6fc746e7b"
      },
      "outputs": [],
      "source": [
        "count_above_180 = (df['DepDelay'] >= 180).sum()\n",
        "print(f\"Number of values in 'DepDelay' greater than or equal to 180: {count_above_180}\")"
      ]
    },
    {
      "cell_type": "code",
      "execution_count": null,
      "metadata": {
        "colab": {
          "background_save": true
        },
        "id": "9WCS7QBzb6i8",
        "outputId": "8c904b40-1eb6-40bf-fbf4-fab4ef9cfe80"
      },
      "outputs": [],
      "source": [
        "count_above_180 = ((df['DepDelay'] >= 180) | (df['ArrDelay'] >= 180)).sum()\n",
        "print(f\"Number of values where 'DepDelay' or 'ArrDelay' is greater than or equal to 180: {count_above_180}\")"
      ]
    },
    {
      "cell_type": "code",
      "execution_count": null,
      "metadata": {
        "colab": {
          "background_save": true
        },
        "id": "7nE2FfjMb8t9",
        "outputId": "a94548fb-d6a3-445e-f5fd-917d5b8bc922"
      },
      "outputs": [],
      "source": [
        "above_zero_count_dep = (df['DepDelay'] > 0).sum()\n",
        "below_zero_count_dep = (df['DepDelay'] < 0).sum()\n",
        "\n",
        "if above_zero_count_dep > below_zero_count_dep:\n",
        "    print(\"More values of DepDelay are above 0.\")\n",
        "elif above_zero_count_dep < below_zero_count_dep:\n",
        "    print(\"More values of DepDelay are below 0.\")\n",
        "else:\n",
        "    print(\"The number of values above and below 0 are equal for DepDelay.\")"
      ]
    },
    {
      "cell_type": "code",
      "execution_count": null,
      "metadata": {
        "colab": {
          "background_save": true
        },
        "id": "SP6JUJE9b_vD",
        "outputId": "3b9a6756-ed8b-42e1-ca58-4c6fac76ffa9"
      },
      "outputs": [],
      "source": [
        "mean_arr_delay = df['ArrDelay'].median()\n",
        "\n",
        "print(f\"The mean arrival delay is: {mean_arr_delay:.2f} minutes\")"
      ]
    },
    {
      "cell_type": "markdown",
      "metadata": {
        "id": "hDB5NMG5JX_b"
      },
      "source": [
        "### Flight Network Map"
      ]
    },
    {
      "cell_type": "code",
      "execution_count": null,
      "metadata": {
        "colab": {
          "background_save": true
        },
        "id": "O1KDBSaZxu5F",
        "outputId": "9266cbb4-ed3f-4c76-9550-47cd7ffc0258"
      },
      "outputs": [],
      "source": [
        "# Calculate value counts for each Dest\n",
        "airport_counts = df['Dest'].value_counts()\n",
        "\n",
        "# Calculate cumulative percentage\n",
        "cumulative_percentage = airport_counts.cumsum() / airport_counts.sum()\n",
        "\n",
        "# Find the top Dest contributing to 75% of the total value counts\n",
        "top_airports = cumulative_percentage[cumulative_percentage <= 0.75].index\n",
        "\n",
        "# Select the top 25 airports\n",
        "top_25_airports = airport_counts.loc[top_airports].nlargest(25)\n",
        "\n",
        "# Get all airports not in the top 25\n",
        "other_airports = airport_counts[~airport_counts.index.isin(top_25_airports.index)]\n",
        "\n",
        "# Display the result\n",
        "print(\"Top 25 Dest contributing to 75% of total value counts:\")\n",
        "print(top_25_airports)\n",
        "\n",
        "print(\"\\nOther airports (not in the top 25):\")\n",
        "print(other_airports)"
      ]
    },
    {
      "cell_type": "code",
      "execution_count": null,
      "metadata": {
        "colab": {
          "background_save": true
        },
        "id": "MZ7kdHX2xu5G"
      },
      "outputs": [],
      "source": [
        "# Select the specified columns\n",
        "selected_columns = ['Origin', 'Dest', 'OriginLatitude', 'OriginLongitude', 'DestLatitude', 'DestLongitude']\n",
        "selected_airports = ['ATL', 'MCO', 'LGA', 'FLL', 'MIA', 'DCA', 'TPA', 'EWR', 'ORD', 'DFW', 'DEN', 'PHL', 'BWI', 'LAX', 'CLT', 'DTW', 'BOS', 'IAH', 'LAS', 'MSY', 'JAX', 'RDU', 'BNA', 'PBI', 'AUS']\n",
        "\n",
        "# Create a new DataFrame with only the selected columns\n",
        "coordinates_df = df[selected_columns]\n",
        "unique_rows_df = coordinates_df.drop_duplicates()\n",
        "\n",
        "# Filter DataFrame to include only rows related to the top 25 airports\n",
        "top_25_airports_data = unique_rows_df[unique_rows_df['Dest'].isin(selected_airports) & unique_rows_df['Origin'].isin(selected_airports)]"
      ]
    },
    {
      "cell_type": "code",
      "execution_count": null,
      "metadata": {
        "colab": {
          "background_save": true
        },
        "id": "vpR7Xq1cxu5G",
        "outputId": "998b5310-879d-4060-c201-7bbf2cf6ba7d"
      },
      "outputs": [],
      "source": [
        "top_25_airports_data.head()"
      ]
    },
    {
      "cell_type": "code",
      "execution_count": null,
      "metadata": {
        "colab": {
          "background_save": true
        },
        "id": "7e0YnaDhxu5G"
      },
      "outputs": [],
      "source": [
        "# Filter DataFrame to get data related to the origin airport (ATL)\n",
        "atl_data = top_25_airports_data[top_25_airports_data['Origin'] == 'ATL']\n",
        "\n",
        "# Calculate the geographic center of the origin airport (ATL)\n",
        "center_lat = atl_data[['OriginLatitude']].mean().mean()\n",
        "center_lon = atl_data[['OriginLongitude']].mean().mean()\n",
        "\n",
        "# Create a Folium map centered at the geographic center\n",
        "my_map = folium.Map(location=[center_lat, center_lon], zoom_start=4)\n",
        "\n",
        "# Function to create a DivIcon with a white rectangle background\n",
        "def create_div_icon(label):\n",
        "    return folium.DivIcon(html=f\"<div style='font-size: 12pt; font-weight: bold; background-color: white; padding: 2px; display: inline-block;'>{label}</div>\")\n",
        "\n",
        "# Function to add airport labels and connections\n",
        "def add_airport_labels(row, color, has_labels):\n",
        "    if has_labels:\n",
        "        # Adding markers with white rectangle background for Origin\n",
        "        folium.Marker(\n",
        "            location=[row['OriginLatitude'], row['OriginLongitude']],\n",
        "            icon=create_div_icon(row['Origin']),\n",
        "            popup=f\"Origin: {row['Origin']}\"\n",
        "        ).add_to(my_map)\n",
        "\n",
        "        # Adding markers with white rectangle background for Destination\n",
        "        folium.Marker(\n",
        "            location=[row['DestLatitude'], row['DestLongitude']],\n",
        "            icon=create_div_icon(row['Dest']),\n",
        "            popup=f\"Dest: {row['Dest']}\"\n",
        "        ).add_to(my_map)\n",
        "\n",
        "    # Adding blue PolyLine\n",
        "    folium.PolyLine([(row['OriginLatitude'], row['OriginLongitude']), (row['DestLatitude'], row['DestLongitude'])], color=color).add_to(my_map)\n",
        "\n",
        "# Apply the function to each row in the DataFrame\n",
        "unique_rows_df.apply(add_airport_labels, color=\"lightgreen\", has_labels=False, axis=1)\n",
        "top_25_airports_data.apply(add_airport_labels, color=\"green\", has_labels=True, axis=1)\n",
        "\n",
        "# Save the map to an HTML file\n",
        "my_map.save(\"airport_connections_map_labels.html\")"
      ]
    },
    {
      "cell_type": "markdown",
      "metadata": {},
      "source": [
        "### Test Flights"
      ]
    },
    {
      "cell_type": "code",
      "execution_count": null,
      "metadata": {},
      "outputs": [],
      "source": [
        "indices = [[956708, 139955, 512127, 1186702],\n",
        "           [1252428, 1041594, 601064, 1142614],\n",
        "           [436420, 665839, 139612, 425634],\n",
        "           [782558, 123849, 82184, 367556],\n",
        "           [681257, 644526, 448386, 393871],\n",
        "           [792921, 950747, 1236213, 918685]]\n",
        "\n",
        "columns = ['FlightDate', 'CRSDepTime', 'CRSArrTime', 'Origin', 'Dest', 'Reporting_Airline']\n",
        "\n",
        "# Loop through each list of indices\n",
        "for idx_list in indices:\n",
        "    print(f\"\\nIndices: {idx_list}\")\n",
        "    \n",
        "    # Select rows based on indices and append to the result DataFrame\n",
        "    result_df = df.loc[idx_list, columns]\n",
        "\n",
        "    # Print the rows for the current iteration using head()\n",
        "    print(result_df)"
      ]
    },
    {
      "cell_type": "markdown",
      "metadata": {
        "id": "0Uo3Su3Wxu5F"
      },
      "source": [
        "### Features\n",
        "\n",
        "We see no missing values in our dataset besides the features CarrierDelay, WeatherDelay, NASDelay, SecurityDelay, LateAircraftDelay. However, those five categories only hold values if the flight is delayed.\n",
        "\n",
        "**Feature overview and meaning:**\n",
        "<table>\n",
        "<tr>\n",
        "<th>Feature name</th>\n",
        "<th>Definition</th>\n",
        "<th>Feature type</th>\n",
        "</tr>\n",
        "<tr>\n",
        "<td>Year</td>\n",
        "<td>Year</td>\n",
        "<td>Int</td>\n",
        "<tr>\n",
        "</tr>\n",
        "<tr>\n",
        "<td>Month</td>\n",
        "<td>Month</td>\n",
        "<td>Object/String</td>\n",
        "<tr>\n",
        "</tr>\n",
        "<tr>\n",
        "<td>DayOfMonth</td>\n",
        "<td>Day of the Month</td>\n",
        "<td>Object/String</td>\n",
        "<tr>\n",
        "<tr>\n",
        "<td>DayOfWeek</td>\n",
        "<td>Day of the Week</td>\n",
        "<td>Object/String</td>\n",
        "<tr>\n",
        "<tr>\n",
        "<td>FlightDate</td>\n",
        "<td>Flight Date (yyyymmdd)</td>\n",
        "<td>Int</td>\n",
        "<tr>\n",
        "<tr>\n",
        "<td>Reporting_Airline</td>\n",
        "<td>Unique Carrier Code. When the same code has been used by multiple carriers, a numeric suffix is used for earlier users, for example, PA, PA(1), PA(2)</td>\n",
        "<td>Object/String</td>\n",
        "<tr>\n",
        "<tr>\n",
        "<td>Tail_Number</td>\n",
        "<td>Tail Number of the airplane</td>\n",
        "<td>Object/String</td>\n",
        "<tr>\n",
        "<tr>\n",
        "<td>Flight_Number_Reporting_Airline</td>\n",
        "<td>Marital Status of User</td>\n",
        "<td>Int</td>\n",
        "<tr>\n",
        "<tr>\n",
        "<td>OriginAirportID</td>\n",
        "<td>An identification number assigned by US DOT to identify a unique airport</td>\n",
        "<td>Int</td>\n",
        "<tr>\n",
        "<tr>\n",
        "<td>Origin</td>\n",
        "<td>Origin Aiport</td>\n",
        "<td>Float</td>\n",
        "<tr>\n",
        "<tr>\n",
        "<td>DestAirportID</td>\n",
        "<td>An identification number assigned by US DOT to identify a unique airport</td>\n",
        "<td>Float</td>\n",
        "<tr>\n",
        "<tr>\n",
        "<td>Dest</td>\n",
        "<td>DestAirport</td>\n",
        "<td></td>\n",
        "<tr>\n",
        "<tr>\n",
        "<td>CRSDepTime</td>\n",
        "<td>Scheduled Departure Time (local time: hhmm)</td>\n",
        "<td></td>\n",
        "<tr>\n",
        "<tr>\n",
        "<td>DepTime</td>\n",
        "<td>Actual Departure Time (local time: hhmm)</td>\n",
        "<td></td>\n",
        "<tr>\n",
        "<tr>\n",
        "<td>**DepDelay**</td>\n",
        "<td>Difference in minutes between scheduled and actual departure time; Early departures show negative numbers (target variable)</td>\n",
        "<td>Int</td>\n",
        "<tr>\n",
        "<tr>\n",
        "<td>DepDel15</td>\n",
        "<td>Departure Delay Indicator, 15 Minutes or More (1=Yes)</td>\n",
        "<td></td>\n",
        "<tr>\n",
        "<tr>\n",
        "<td>DepartureDelayGroups</td>\n",
        "<td>Departure Delay intervals, every (15 minutes from <-15 to >180)</td>\n",
        "<td></td>\n",
        "<tr>\n",
        "<tr>\n",
        "<td>DepTimeBlk</td>\n",
        "<td>Scheduled Departure Time Block, Hourly Intervals</td>\n",
        "<td></td>\n",
        "<tr>\n",
        "<tr>\n",
        "<td>TaxiOut</td>\n",
        "<td>Taxi Out Time, in Minutes</td>\n",
        "<td></td>\n",
        "<tr>\n",
        "<tr>\n",
        "<td>WheelsOff</td>\n",
        "<td>Wheels Off Time (local time: hhmm)</td>\n",
        "<td></td>\n",
        "<tr>\n",
        "<tr>\n",
        "<td>Wheels On</td>\n",
        "<td>Wheels On Time (local time: hhmm)</td>\n",
        "<td></td>\n",
        "<tr>\n",
        "<tr>\n",
        "<td>TaxiIn</td>\n",
        "<td>Taxi In Time, in Minutes</td>\n",
        "<td></td>\n",
        "<tr>\n",
        "<tr>\n",
        "<td>CRSArrTime</td>\n",
        "<td>Schduled Arrival Time (local time: hhmm)</td>\n",
        "<td></td>\n",
        "<tr>\n",
        "<tr>\n",
        "<td>ArrTime</td>\n",
        "<td>Actual Arrival Time (local time: hhmm)</td>\n",
        "<td></td>\n",
        "<tr>\n",
        "<tr>\n",
        "<td>ArrDelay</td>\n",
        "<td>Difference in minutes between scheduled and actual arrival time; Early arrivals show negative numbers</td>\n",
        "<td></td>\n",
        "<tr>\n",
        "<tr>\n",
        "<td>ArrDel15</td>\n",
        "<td>Arrival Delay Indicator, 15 Minutes or More (1=Yes)</td>\n",
        "<td></td>\n",
        "<tr>\n",
        "<tr>\n",
        "<td>ArrivalDelayGroups</td>\n",
        "<td>Arrival Delay intervals, every (15-minutes from <-15 to >180)</td>\n",
        "<td></td>\n",
        "<tr>\n",
        "<tr>\n",
        "<td>ArrTimeBlk</td>\n",
        "<td>Scheduled Arrival Time Block, Hourly Intervals</td>\n",
        "<td></td>\n",
        "<tr>\n",
        "<tr>\n",
        "<td>CRSElapsedTime</td>\n",
        "<td>CRS Elapsed Time of Flight, in Minutes</td>\n",
        "<td></td>\n",
        "<tr>\n",
        "<tr>\n",
        "<td>ActualElapsedTime</td>\n",
        "<td>Elapsed Time of Flight, in Minutes</td>\n",
        "<td></td>\n",
        "<tr>\n",
        "<tr>\n",
        "<td>AirTime</td>\n",
        "<td>Flight Time, in Minutes</td>\n",
        "<td></td>\n",
        "<tr>\n",
        "<tr>\n",
        "<td>Flights</td>\n",
        "<td>Number of Flights</td>\n",
        "<td></td>\n",
        "<tr>\n",
        "<tr>\n",
        "<td>Distance</td>\n",
        "<td>Distance between airports (miles)</td>\n",
        "<td></td>\n",
        "<tr>\n",
        "<tr>\n",
        "<td>DistanceGroup</td>\n",
        "<td>Distance Intervals, every 250 Miles, for Flight Segment</td>\n",
        "<td></td>\n",
        "<tr>\n",
        "<tr>\n",
        "<td>CarrierDelay</td>\n",
        "<td>Carrier Delay, in Minutes</td>\n",
        "<td></td>\n",
        "<tr>\n",
        "<tr>\n",
        "<td>WeatherDelay</td>\n",
        "<td>Weather Delay, in Minutes</td>\n",
        "<td></td>\n",
        "<tr>\n",
        "<tr>\n",
        "<td>NASDelay</td>\n",
        "<td>National Air System Delay, in Minutes</td>\n",
        "<td></td>\n",
        "<tr>\n",
        "<tr>\n",
        "<td>SecurityDelay</td>\n",
        "<td>Security Delay, in Minutes</td>\n",
        "<td></td>\n",
        "<tr>\n",
        "<tr>\n",
        "<td>LateAircraftDelay</td>\n",
        "<td>Late Aircraft Delay, in Minutes</td>\n",
        "<td></td>\n",
        "<tr>\n",
        "<tr>\n",
        "</table>"
      ]
    },
    {
      "cell_type": "markdown",
      "metadata": {
        "id": "cyOJgvApxu5G"
      },
      "source": [
        "# 3 Feature Exploration, Feature Engeneering, Feature Encoding, Feature Selection and Data Frame Preparation"
      ]
    },
    {
      "cell_type": "markdown",
      "metadata": {
        "id": "j-y-OpfNxu5G"
      },
      "source": [
        "For this project four data frames will be constructed - data_1H_arr, data_1H_dep, data_1M_arr data_1M_dep.<br> data_1H_arr will contain all features relevant for arrival delays that are available one day before the predicted delay.<br> data_1H_dep will contain all features relevant for departure delays that are available one day before the predicted delay.<br> data_1M_arr will contain the features relevant for arrival delays which are available one month prior to the predicted delay.<br> data_1M_dep will contain the features relevant for departure delays which are available one month prior to the predicted delay.\n",
        "<br> .loc is used, so the new data frame inherits the structure from the df data frame."
      ]
    },
    {
      "cell_type": "code",
      "execution_count": null,
      "metadata": {
        "colab": {
          "background_save": true
        },
        "id": "okaCiGpHxu5G"
      },
      "outputs": [],
      "source": [
        "data_1H_arr = data_1H_dep = data_1M_arr = data_1M_dep = data_6M_arr = data_6M_dep = df.loc[:,[]]"
      ]
    },
    {
      "cell_type": "markdown",
      "metadata": {
        "id": "ElAyfEOixu5H"
      },
      "source": [
        "data_6M_arr and data_6M_dep will contain only the strategic features:\n",
        "\n",
        "['Year', 'Month', 'DayOfMonth', 'DayOfWeek', 'FlightDate', 'Reporting_Airline',<br>\n",
        "'Tail_Number', 'Flight_Number_Reporting_Airline', 'OriginAirportID', 'Origin',<br>\n",
        "'DestAirportID', 'Dest', 'CRSDepTime', 'DepDelay', 'DepTimeBlk', 'CRSArrTime',<br>\n",
        "'ArrDelay', 'ArrTimeBlk', 'CRSElapsedTime', 'Distance', 'DistanceGroup']\n",
        "\n",
        "The departure and arrival features will be added accordingly."
      ]
    },
    {
      "cell_type": "markdown",
      "metadata": {
        "id": "2pARghaWxu5H"
      },
      "source": [
        "Below, I will follow the same approach for every feature in our data cleansing process. I will first check for the correctness of the data and then bring it into an appropriate form in which an algorithm can find meaning. Lastly, we will add the engineered feature to our target datasets."
      ]
    },
    {
      "cell_type": "code",
      "execution_count": null,
      "metadata": {
        "colab": {
          "background_save": true
        },
        "id": "HeQ-i8DdJIBP"
      },
      "outputs": [],
      "source": [
        "# Define helper function for encoding\n",
        "def encode_cyclical_feature(input_df, output_df, column, period):\n",
        "    \"\"\" Encodes cyclical features to sine and cosine\n",
        "\n",
        "    Args:\n",
        "        input_df (DataFrame): The input data frame\n",
        "        output_df (DataFrame): The output data frame\n",
        "        column (str): The feature to encode\n",
        "        period (int64): The cycle duration\n",
        "    \"\"\"\n",
        "    sin_values = np.sin(2 * np.pi * input_df[column] / period)\n",
        "    cos_values = np.cos(2 * np.pi * input_df[column] / period)\n",
        "\n",
        "    output_df[column + '_sin'] = sin_values\n",
        "    output_df[column + '_cos'] = cos_values"
      ]
    },
    {
      "cell_type": "markdown",
      "metadata": {
        "id": "J12t9tfDxu5H"
      },
      "source": [
        "### Year"
      ]
    },
    {
      "cell_type": "code",
      "execution_count": null,
      "metadata": {
        "colab": {
          "background_save": true
        },
        "id": "CuSQAzF1xu5H",
        "outputId": "e445eac1-799f-49cd-a35e-de0313a53d12"
      },
      "outputs": [],
      "source": [
        "print(\"----------Gaeneral feature information----------\")\n",
        "print(df.Year.describe())\n",
        "print()\n",
        "print(\"----------Value information----------\")\n",
        "print(df.Year.value_counts())\n",
        "\n",
        "plt.figure(figsize=(10, 6))\n",
        "sns.histplot(data=df, x='Year', bins=df['Year'].nunique(),\n",
        "             stat='count', palette=\"light:m_r\", edgecolor=\".3\", linewidth=.5)\n",
        "plt.xlabel('Year')\n",
        "plt.ylabel('Number of Values')\n",
        "plt.title('Number of Values for each Year')\n",
        "plt.show()"
      ]
    },
    {
      "cell_type": "code",
      "execution_count": null,
      "metadata": {
        "colab": {
          "background_save": true
        },
        "id": "ttbzVQ1Uxu5H"
      },
      "outputs": [],
      "source": [
        "data_1H_arr['Year'] = data_1H_dep['Year'] = data_1M_arr['Year'] = data_1M_dep['Year'] = data_6M_arr['Year'] = data_6M_dep['Year'] = df['Year']"
      ]
    },
    {
      "cell_type": "markdown",
      "metadata": {
        "id": "6ydZ0KOKxu5H"
      },
      "source": [
        "### Month"
      ]
    },
    {
      "cell_type": "code",
      "execution_count": null,
      "metadata": {
        "colab": {
          "background_save": true
        },
        "id": "z2d5dJRcxu5Q",
        "outputId": "4e18abb0-cdcf-49b1-fc56-3a499c9c0998"
      },
      "outputs": [],
      "source": [
        "print(\"----------General feature information----------\")\n",
        "print(df.groupby('Month').Month.describe())\n",
        "print()\n",
        "print(\"----------Value information----------\")\n",
        "print(df.groupby('Month').Month.value_counts())\n",
        "\n",
        "plt.figure(figsize=(10, 6))\n",
        "sns.histplot(data=df, x='Month', bins=df['Month'].nunique(),\n",
        "             stat='count', palette=\"light:m_r\", edgecolor=\".3\", linewidth=.5)\n",
        "plt.xlabel('Month')\n",
        "plt.ylabel('Number of Values')\n",
        "plt.title('Number of Values for Each Month')\n",
        "plt.show()"
      ]
    },
    {
      "cell_type": "code",
      "execution_count": null,
      "metadata": {
        "colab": {
          "background_save": true
        },
        "id": "5Rbasantxu5R"
      },
      "outputs": [],
      "source": [
        "encode_cyclical_feature(df, data_1H_arr, 'Month', 12)\n",
        "encode_cyclical_feature(df, data_1H_dep, 'Month', 12)\n",
        "encode_cyclical_feature(df, data_1M_arr, 'Month', 12)\n",
        "encode_cyclical_feature(df, data_1M_dep, 'Month', 12)\n",
        "encode_cyclical_feature(df, data_6M_arr, 'Month', 12)\n",
        "encode_cyclical_feature(df, data_6M_dep, 'Month', 12)"
      ]
    },
    {
      "cell_type": "markdown",
      "metadata": {
        "id": "zJPUQJ33xu5R"
      },
      "source": [
        "### Season"
      ]
    },
    {
      "cell_type": "code",
      "execution_count": null,
      "metadata": {
        "colab": {
          "background_save": true
        },
        "id": "eHlCfSHhxu5R",
        "outputId": "535df074-43c7-401e-f8b3-8d34b61cd76d"
      },
      "outputs": [],
      "source": [
        "print(\"----------General feature information----------\")\n",
        "print(df.groupby('Season').Season.describe())\n",
        "print()\n",
        "print(\"----------Value information----------\")\n",
        "print(df.groupby('Season').Season.value_counts())\n",
        "\n",
        "plt.figure(figsize=(10, 6))\n",
        "sns.histplot(data=df, x='Season', bins=4,\n",
        "             stat='count', palette=\"light:m_r\", edgecolor=\".3\", linewidth=.5)\n",
        "# Get the x-axis ticks\n",
        "#bin_edges = hist.get_xticks()\n",
        "# Set the x-axis ticks to be at the edges of the bins\n",
        "plt.xticks([1, 2, 3, 4])\n",
        "plt.xlabel('Season')\n",
        "plt.ylabel('Number of Values')\n",
        "plt.title('Number of Values for Each Season')\n",
        "plt.show()"
      ]
    },
    {
      "cell_type": "code",
      "execution_count": null,
      "metadata": {
        "colab": {
          "background_save": true
        },
        "id": "h-z8itXWxu5S"
      },
      "outputs": [],
      "source": [
        "data_1H_arr['Season'] = data_1H_dep['Season'] = data_1M_arr['Season'] = data_1M_dep['Season'] = data_6M_arr['Season'] = data_6M_dep['Season'] = df['Season']"
      ]
    },
    {
      "cell_type": "markdown",
      "metadata": {
        "id": "pnP1Anhnxu5S"
      },
      "source": [
        "### DayOfMonth"
      ]
    },
    {
      "cell_type": "code",
      "execution_count": null,
      "metadata": {
        "colab": {
          "background_save": true
        },
        "id": "_jeWnquTxu5S",
        "outputId": "632a6e64-377e-4988-b378-46737df0ba4f"
      },
      "outputs": [],
      "source": [
        "print(\"----------General feature information----------\")\n",
        "print(df.groupby('DayOfMonth').DayOfMonth.describe())\n",
        "print()\n",
        "print(\"----------Value information----------\")\n",
        "print(df.groupby('DayOfMonth').DayOfMonth.value_counts())\n",
        "\n",
        "plt.figure(figsize=(10, 6))\n",
        "sns.histplot(data=df, x='DayOfMonth', bins=df['DayOfMonth'].nunique(),\n",
        "             stat='count', palette=\"light:m_r\", edgecolor=\".3\", linewidth=.5)\n",
        "plt.xlabel('Day of the Month')\n",
        "plt.ylabel('Number of Values')\n",
        "plt.title('Number of Values for Each Day of the Month')\n",
        "plt.show()"
      ]
    },
    {
      "cell_type": "code",
      "execution_count": null,
      "metadata": {
        "colab": {
          "background_save": true
        },
        "id": "5Mqy_tdExu5S"
      },
      "outputs": [],
      "source": [
        "encode_cyclical_feature(df, data_1H_arr, 'DayOfMonth', 31)\n",
        "encode_cyclical_feature(df, data_1H_dep, 'DayOfMonth', 31)\n",
        "encode_cyclical_feature(df, data_1M_arr, 'DayOfMonth', 31)\n",
        "encode_cyclical_feature(df, data_1M_dep, 'DayOfMonth', 31)\n",
        "encode_cyclical_feature(df, data_6M_arr, 'DayOfMonth', 31)\n",
        "encode_cyclical_feature(df, data_6M_dep, 'DayOfMonth', 31)"
      ]
    },
    {
      "cell_type": "markdown",
      "metadata": {
        "id": "kx9KkRMHxu5S"
      },
      "source": [
        "### DayOfWeek"
      ]
    },
    {
      "cell_type": "code",
      "execution_count": null,
      "metadata": {
        "colab": {
          "background_save": true
        },
        "id": "ZMf3Fs5dxu5T",
        "outputId": "a7fc8571-7a00-4b14-aac4-5b5b71088c14"
      },
      "outputs": [],
      "source": [
        "print(\"----------General feature information----------\")\n",
        "print(df.groupby('DayOfWeek').DayOfWeek.describe())\n",
        "print()\n",
        "print(\"----------Value information----------\")\n",
        "print(df.groupby('DayOfWeek').DayOfWeek.value_counts())\n",
        "\n",
        "plt.figure(figsize=(10, 6))\n",
        "sns.histplot(data=df, x='DayOfWeek', bins=df['DayOfWeek'].nunique(),\n",
        "             stat='count', palette=\"light:m_r\", edgecolor=\".3\", linewidth=.5)\n",
        "plt.xlabel('Day of the Week')\n",
        "plt.ylabel('Number of Values')\n",
        "plt.title('Number of Values for Each Day of the Week')\n",
        "plt.show()"
      ]
    },
    {
      "cell_type": "code",
      "execution_count": null,
      "metadata": {
        "colab": {
          "background_save": true
        },
        "id": "AgnfNKRCxu5T"
      },
      "outputs": [],
      "source": [
        "encode_cyclical_feature(df, data_1H_arr, 'DayOfWeek', 7)\n",
        "encode_cyclical_feature(df, data_1H_dep, 'DayOfWeek', 7)\n",
        "encode_cyclical_feature(df, data_1M_arr, 'DayOfWeek', 7)\n",
        "encode_cyclical_feature(df, data_1M_dep, 'DayOfWeek', 7)\n",
        "encode_cyclical_feature(df, data_6M_arr, 'DayOfWeek', 7)\n",
        "encode_cyclical_feature(df, data_6M_dep, 'DayOfWeek', 7)"
      ]
    },
    {
      "cell_type": "code",
      "execution_count": null,
      "metadata": {
        "colab": {
          "background_save": true
        },
        "id": "-sXE24tjxu5T",
        "outputId": "2a1eac7c-3d72-4824-ec60-06ad3d8b8591"
      },
      "outputs": [],
      "source": [
        "data_1H_arr.head()"
      ]
    },
    {
      "cell_type": "markdown",
      "metadata": {
        "id": "TF8uPUwpxu5T"
      },
      "source": [
        "### FlightDate"
      ]
    },
    {
      "cell_type": "code",
      "execution_count": null,
      "metadata": {
        "colab": {
          "background_save": true
        },
        "id": "CAHi9nEzxu5T",
        "outputId": "424c6f83-055a-4b48-e16d-3ca7a85bee1f"
      },
      "outputs": [],
      "source": [
        "print(\"----------General feature information----------\")\n",
        "print(df.groupby('FlightDate').FlightDate.describe())\n",
        "print()\n",
        "print(\"----------Value information----------\")\n",
        "print(df.groupby('FlightDate').FlightDate.value_counts())"
      ]
    },
    {
      "cell_type": "markdown",
      "metadata": {
        "id": "76wy2EWRxu5U"
      },
      "source": [
        "### Reporting Airline"
      ]
    },
    {
      "cell_type": "code",
      "execution_count": null,
      "metadata": {
        "colab": {
          "background_save": true
        },
        "id": "05ggO0l4xu5U",
        "outputId": "d9b85b28-d05d-4a01-afc6-7d4f85fcc5bd"
      },
      "outputs": [],
      "source": [
        "print(\"----------General feature information----------\")\n",
        "print(df.groupby('Reporting_Airline').Reporting_Airline.describe())\n",
        "print()\n",
        "print(\"----------Value information----------\")\n",
        "print(df.groupby('Reporting_Airline').Reporting_Airline.value_counts())\n",
        "\n",
        "plt.figure(figsize=(10, 6))\n",
        "sns.histplot(data=df, x='Reporting_Airline', bins=df['Reporting_Airline'].nunique(),\n",
        "             stat='count', palette=\"light:m_r\", edgecolor=\".3\", linewidth=.5)\n",
        "plt.xlabel('Reporting_Airline')\n",
        "plt.ylabel('Number of Values')\n",
        "plt.title('Number of Values for Each Reporting_Airline')\n",
        "plt.show()"
      ]
    },
    {
      "cell_type": "code",
      "execution_count": null,
      "metadata": {
        "colab": {
          "background_save": true
        },
        "id": "2bd--Yk1xu5U",
        "outputId": "acf16ab3-1690-4f3f-f0e1-595cf1186a91"
      },
      "outputs": [],
      "source": [
        "bi_DF = preprocessing.LabelBinarizer()\n",
        "bi_dummys = bi_DF.fit_transform(df['Reporting_Airline'])\n",
        "print(bi_dummys.sum(axis=0))\n",
        "print(df.Reporting_Airline.value_counts())"
      ]
    },
    {
      "cell_type": "code",
      "execution_count": null,
      "metadata": {
        "colab": {
          "background_save": true
        },
        "id": "wADNGdX5xu5U",
        "outputId": "1bae0556-e70d-49a3-dc6b-9ea0ce4d0465"
      },
      "outputs": [],
      "source": [
        "print(df['Reporting_Airline'].dtype)"
      ]
    },
    {
      "cell_type": "code",
      "execution_count": null,
      "metadata": {
        "colab": {
          "background_save": true
        },
        "id": "gAB2hLy3xu5V"
      },
      "outputs": [],
      "source": [
        "# Assuming 'df' is your original DataFrame and 'AirlineCode' is the column to encode\n",
        "df_encoded = pd.get_dummies(df[['Reporting_Airline']], prefix='Airline')\n",
        "\n",
        "# Cast boolean columns to integers\n",
        "df_encoded = df_encoded.astype(int)\n",
        "\n",
        "# Assuming 'df_result' is another DataFrame where you want to save the encoded column\n",
        "data_1H_arr = pd.concat([data_1H_arr, df_encoded], axis=1)\n",
        "data_1H_dep = pd.concat([data_1H_dep, df_encoded], axis=1)\n",
        "data_1M_arr = pd.concat([data_1M_arr, df_encoded], axis=1)\n",
        "data_1M_dep = pd.concat([data_1M_dep, df_encoded], axis=1)\n",
        "data_6M_arr = pd.concat([data_6M_arr, df_encoded], axis=1)\n",
        "data_6M_dep = pd.concat([data_6M_dep, df_encoded], axis=1)"
      ]
    },
    {
      "cell_type": "code",
      "execution_count": null,
      "metadata": {
        "colab": {
          "background_save": true
        },
        "id": "lwjtHKGCxu5V",
        "outputId": "26215e62-f6ee-4b2b-ab64-395a31863608"
      },
      "outputs": [],
      "source": [
        "print(df_encoded.dtypes)"
      ]
    },
    {
      "cell_type": "code",
      "execution_count": null,
      "metadata": {
        "colab": {
          "background_save": true
        },
        "id": "fVfTBJ_3xu5V",
        "outputId": "b8cf41f1-e797-40eb-e1de-95dc9556fa03"
      },
      "outputs": [],
      "source": [
        "data_1M_dep.head()"
      ]
    },
    {
      "cell_type": "markdown",
      "metadata": {
        "id": "oVSIo5VYxu5V"
      },
      "source": [
        "### Tail Number"
      ]
    },
    {
      "cell_type": "code",
      "execution_count": null,
      "metadata": {
        "colab": {
          "background_save": true
        },
        "id": "nXx5BWoWxu5V",
        "outputId": "5737d147-4801-4a83-b463-2eccac59f656"
      },
      "outputs": [],
      "source": [
        "print(\"----------General feature information----------\")\n",
        "print(df.groupby('Tail_Number').Tail_Number.describe())\n",
        "print()\n",
        "print(\"----------Value information----------\")\n",
        "print(df.groupby('Tail_Number').Tail_Number.value_counts())"
      ]
    },
    {
      "cell_type": "code",
      "execution_count": null,
      "metadata": {
        "colab": {
          "background_save": true
        },
        "id": "GydcOscOxu5V",
        "outputId": "10479477-7b80-4993-fce7-6e47ffabaf7f"
      },
      "outputs": [],
      "source": [
        "print(df.Tail_Number.nunique())"
      ]
    },
    {
      "cell_type": "markdown",
      "metadata": {
        "id": "g6GTQESwxu5V"
      },
      "source": [
        "### Flight Number Reporting Airline"
      ]
    },
    {
      "cell_type": "code",
      "execution_count": null,
      "metadata": {
        "colab": {
          "background_save": true
        },
        "id": "b68t7mhTxu5W",
        "outputId": "14bee605-8d28-4514-a9f4-019ec0f84159"
      },
      "outputs": [],
      "source": [
        "print(\"----------General feature information----------\")\n",
        "print(df.groupby('Flight_Number_Reporting_Airline').Flight_Number_Reporting_Airline.describe())\n",
        "print()\n",
        "print(\"----------Value information----------\")\n",
        "print(df.groupby('Flight_Number_Reporting_Airline').Flight_Number_Reporting_Airline.value_counts())"
      ]
    },
    {
      "cell_type": "code",
      "execution_count": null,
      "metadata": {
        "colab": {
          "background_save": true
        },
        "id": "L6Njf158xu5W",
        "outputId": "e0ae6d6e-a1f4-4e99-ccd5-3cf2152ac76b"
      },
      "outputs": [],
      "source": [
        "print(df.Flight_Number_Reporting_Airline.nunique())"
      ]
    },
    {
      "cell_type": "markdown",
      "metadata": {
        "id": "l91LyuEhxu5W"
      },
      "source": [
        "### Origin Airport ID"
      ]
    },
    {
      "cell_type": "code",
      "execution_count": null,
      "metadata": {
        "colab": {
          "background_save": true
        },
        "id": "j05RMoccxu5W",
        "outputId": "5d77641b-1cda-4b8a-8962-8915771e992f"
      },
      "outputs": [],
      "source": [
        "print(\"----------General feature information----------\")\n",
        "print(df.groupby('OriginAirportID').OriginAirportID.describe())\n",
        "print()\n",
        "print(\"----------Value information----------\")\n",
        "print(df.groupby('OriginAirportID').OriginAirportID.value_counts())"
      ]
    },
    {
      "cell_type": "code",
      "execution_count": null,
      "metadata": {
        "colab": {
          "background_save": true
        },
        "id": "laDEWQOuxu5W",
        "outputId": "97d2c5e6-d558-4702-c863-30077680b49c"
      },
      "outputs": [],
      "source": [
        "print(df.OriginAirportID.nunique())"
      ]
    },
    {
      "cell_type": "markdown",
      "metadata": {
        "id": "GrEeZVu6xu5X"
      },
      "source": [
        "### Origin"
      ]
    },
    {
      "cell_type": "code",
      "execution_count": null,
      "metadata": {
        "colab": {
          "background_save": true
        },
        "id": "UICzOmlkxu5X",
        "outputId": "7f7209fa-616b-46a4-c94d-5d33a6b6df32"
      },
      "outputs": [],
      "source": [
        "print(\"----------General feature information----------\")\n",
        "print(df.Origin.describe())\n",
        "print()\n",
        "print(\"----------Value information----------\")\n",
        "print(df.groupby('Origin').Origin.value_counts())\n",
        "\n",
        "plt.figure(figsize=(10, 6))\n",
        "sns.histplot(data=df, x='Origin', bins=df['Origin'].nunique(),\n",
        "             stat='count', palette=\"light:m_r\", edgecolor=\".3\", linewidth=.5)\n",
        "plt.xlabel('Origin')\n",
        "plt.ylabel('Number of Values')\n",
        "plt.title('Number of Values for Each Origin')\n",
        "plt.show()"
      ]
    },
    {
      "cell_type": "code",
      "execution_count": null,
      "metadata": {
        "colab": {
          "background_save": true
        },
        "id": "g4OkfcFKxu5X",
        "outputId": "52d9cf1e-efea-4475-f437-2d06dcedb530"
      },
      "outputs": [],
      "source": [
        "# Add the Origin to the result DataFrame\n",
        "data_1H_arr['Origin'] = df['Origin'].copy()\n",
        "data_1H_dep['Origin'] = df['Origin'].copy()\n",
        "data_1M_arr['Origin'] = df['Origin'].copy()\n",
        "data_1M_dep['Origin'] = df['Origin'].copy()\n",
        "data_6M_arr['Origin'] = df['Origin'].copy()\n",
        "data_6M_dep['Origin'] = df['Origin'].copy()\n",
        "\n",
        "data_1H_arr.head()"
      ]
    },
    {
      "cell_type": "code",
      "execution_count": null,
      "metadata": {
        "colab": {
          "background_save": true
        },
        "id": "h9v6AEd8xu5Y",
        "outputId": "df8cb741-857b-4f4c-eb33-62b6cf35c152"
      },
      "outputs": [],
      "source": [
        "origin_counts = df['Origin'].value_counts()\n",
        "\n",
        "# Sort the unique origins by the number of data points\n",
        "sorted_origins = origin_counts.index.tolist()\n",
        "\n",
        "# Print the sorted list of origins\n",
        "print(sorted_origins)\n",
        "\n",
        "# Create an ordinal mapping dictionary\n",
        "ordinal_mapping = {code: i for i, code in enumerate(sorted_origins)}\n",
        "\n",
        "# Add a new column with ordinal values to the DataFrame\n",
        "data_1H_arr['Origin'] = data_1H_arr['Origin'].map(ordinal_mapping)\n",
        "data_1H_dep['Origin'] = data_1H_dep['Origin'].map(ordinal_mapping)\n",
        "data_1M_arr['Origin'] = data_1M_arr['Origin'].map(ordinal_mapping)\n",
        "data_1M_dep['Origin'] = data_1M_dep['Origin'].map(ordinal_mapping)\n",
        "data_6M_arr['Origin'] = data_6M_arr['Origin'].map(ordinal_mapping)\n",
        "data_6M_dep['Origin'] = data_6M_dep['Origin'].map(ordinal_mapping)"
      ]
    },
    {
      "cell_type": "code",
      "execution_count": null,
      "metadata": {
        "colab": {
          "background_save": true
        },
        "id": "MpM4khBBxu5Y",
        "outputId": "efbc76dc-c4ef-4bce-c945-9da6f0dde14a"
      },
      "outputs": [],
      "source": [
        "data_1H_arr.head()"
      ]
    },
    {
      "cell_type": "code",
      "execution_count": null,
      "metadata": {
        "colab": {
          "background_save": true
        },
        "id": "40_GBJfjxu5Y",
        "outputId": "f5901074-8022-46c4-a971-eeb369668b42"
      },
      "outputs": [],
      "source": [
        "data_1H_arr.Origin.nunique()"
      ]
    },
    {
      "cell_type": "code",
      "execution_count": null,
      "metadata": {
        "colab": {
          "background_save": true
        },
        "id": "1qiSjskExu5Y",
        "outputId": "bd0dadaf-878b-4321-baf3-3324af6090e6"
      },
      "outputs": [],
      "source": [
        "print(data_1H_arr.Origin.unique())"
      ]
    },
    {
      "cell_type": "markdown",
      "metadata": {
        "id": "CLocFcVexu5Z"
      },
      "source": [
        "### OriginLongitude"
      ]
    },
    {
      "cell_type": "code",
      "execution_count": null,
      "metadata": {
        "colab": {
          "background_save": true
        },
        "id": "fML_axwxxu5Z",
        "outputId": "abbf71d6-b5c3-46b5-a668-7dea0b12c5c4"
      },
      "outputs": [],
      "source": [
        "print(\"----------General feature information----------\")\n",
        "print(df.OriginLongitude.describe())\n",
        "print()\n",
        "print(\"----------Value information----------\")\n",
        "print(df.groupby('OriginLongitude').OriginLongitude.value_counts())\n",
        "\n",
        "plt.figure(figsize=(10, 6))\n",
        "sns.histplot(data=df, x='OriginLongitude', bins=df['OriginLongitude'].nunique(),\n",
        "             stat='count', palette=\"light:m_r\", edgecolor=\".3\", linewidth=.5)\n",
        "plt.xlabel('OriginLongitude')\n",
        "plt.ylabel('Number of Values')\n",
        "plt.title('Number of Values for Each OriginLongitude')\n",
        "plt.show()"
      ]
    },
    {
      "cell_type": "code",
      "execution_count": null,
      "metadata": {
        "colab": {
          "background_save": true
        },
        "id": "Q5l-Pglzxu5Z",
        "outputId": "90520d33-7036-42a7-b04d-4b99bb77a0c6"
      },
      "outputs": [],
      "source": [
        "# Add the top origin lon to the result DataFrame\n",
        "data_1H_arr['OriginLongitude'] = df['OriginLongitude'].copy()\n",
        "data_1H_dep['OriginLongitude'] = df['OriginLongitude'].copy()\n",
        "data_1M_arr['OriginLongitude'] = df['OriginLongitude'].copy()\n",
        "data_1M_dep['OriginLongitude'] = df['OriginLongitude'].copy()\n",
        "data_6M_arr['OriginLongitude'] = df['OriginLongitude'].copy()\n",
        "data_6M_dep['OriginLongitude'] = df['OriginLongitude'].copy()\n",
        "\n",
        "data_1H_arr.head()"
      ]
    },
    {
      "cell_type": "code",
      "execution_count": null,
      "metadata": {
        "colab": {
          "background_save": true
        },
        "id": "pvUkOSYYxu5Z",
        "outputId": "da7dc5cb-ef3d-417f-bdb7-950662602b0d"
      },
      "outputs": [],
      "source": [
        "data_1H_arr.head()"
      ]
    },
    {
      "cell_type": "markdown",
      "metadata": {
        "id": "YM-gT5YIxu5Z"
      },
      "source": [
        "### OriginLatitude"
      ]
    },
    {
      "cell_type": "code",
      "execution_count": null,
      "metadata": {
        "colab": {
          "background_save": true
        },
        "id": "MdCpYB4Exu5Z",
        "outputId": "2be1eae7-5247-4d91-bf12-d7642d2b4910"
      },
      "outputs": [],
      "source": [
        "print(\"----------General feature information----------\")\n",
        "print(df.OriginLatitude.describe())\n",
        "print()\n",
        "print(\"----------Value information----------\")\n",
        "print(df.groupby('OriginLatitude').OriginLatitude.value_counts())\n",
        "\n",
        "plt.figure(figsize=(10, 6))\n",
        "sns.histplot(data=df, x='OriginLatitude', bins=df['OriginLatitude'].nunique(),\n",
        "             stat='count', palette=\"light:m_r\", edgecolor=\".3\", linewidth=.5)\n",
        "plt.xlabel('OriginLatitude')\n",
        "plt.ylabel('Number of Values')\n",
        "plt.title('Number of Values for Each OriginLatitude')\n",
        "plt.show()"
      ]
    },
    {
      "cell_type": "code",
      "execution_count": null,
      "metadata": {
        "colab": {
          "background_save": true
        },
        "id": "BOwIvps-xu5a",
        "outputId": "fa4735a8-5e6c-4f59-e02a-85de5a323981"
      },
      "outputs": [],
      "source": [
        "# Add the top origin lon to the result DataFrame\n",
        "data_1H_arr['OriginLatitude'] = df['OriginLatitude'].copy()\n",
        "data_1H_dep['OriginLatitude'] = df['OriginLatitude'].copy()\n",
        "data_1M_arr['OriginLatitude'] = df['OriginLatitude'].copy()\n",
        "data_1M_dep['OriginLatitude'] = df['OriginLatitude'].copy()\n",
        "data_6M_arr['OriginLatitude'] = df['OriginLatitude'].copy()\n",
        "data_6M_dep['OriginLatitude'] = df['OriginLatitude'].copy()\n",
        "\n",
        "data_1H_arr.head()"
      ]
    },
    {
      "cell_type": "code",
      "execution_count": null,
      "metadata": {
        "colab": {
          "background_save": true
        },
        "id": "BeBG4dEaxu5a",
        "outputId": "0607928c-820e-46f8-9d0a-82b3f00dc001"
      },
      "outputs": [],
      "source": [
        "data_1H_arr.head()"
      ]
    },
    {
      "cell_type": "markdown",
      "metadata": {
        "id": "yaPP7UVaxu5a"
      },
      "source": [
        "### Dest Airport ID"
      ]
    },
    {
      "cell_type": "code",
      "execution_count": null,
      "metadata": {
        "colab": {
          "background_save": true
        },
        "id": "R1eNsJvvxu5a",
        "outputId": "6ac5d3e9-c0b1-4105-daeb-b591c2040e7d"
      },
      "outputs": [],
      "source": [
        "print(\"----------General feature information----------\")\n",
        "print(df.DestAirportID.describe())\n",
        "print()\n",
        "print(\"----------Value information----------\")\n",
        "print(df.DestAirportID.value_counts())"
      ]
    },
    {
      "cell_type": "code",
      "execution_count": null,
      "metadata": {
        "colab": {
          "background_save": true
        },
        "id": "CITr93b0xu5a",
        "outputId": "b10ec290-5b5f-4aaa-c62c-f15d3377d75d"
      },
      "outputs": [],
      "source": [
        "print(df.DestAirportID.nunique())"
      ]
    },
    {
      "cell_type": "markdown",
      "metadata": {
        "id": "v8ccAZ48xu5b"
      },
      "source": [
        "### Dest"
      ]
    },
    {
      "cell_type": "code",
      "execution_count": null,
      "metadata": {
        "colab": {
          "background_save": true
        },
        "id": "Mn8OFTRrxu5b",
        "outputId": "3607eeb9-7c8c-4caa-ce16-65e5b9c1c023"
      },
      "outputs": [],
      "source": [
        "print(\"----------General feature information----------\")\n",
        "print(df.Dest.describe())\n",
        "print()\n",
        "print(\"----------Value information----------\")\n",
        "print(df.Dest.value_counts())\n",
        "\n",
        "plt.figure(figsize=(10, 6))\n",
        "sns.histplot(data=df, x='Dest', bins=df['Dest'].nunique(),\n",
        "             stat='count', palette=\"light:m_r\", edgecolor=\".3\", linewidth=.5)\n",
        "plt.xlabel('Dest')\n",
        "plt.ylabel('Number of Values')\n",
        "plt.title('Number of Values for Each Dest')\n",
        "plt.show()"
      ]
    },
    {
      "cell_type": "code",
      "execution_count": null,
      "metadata": {
        "colab": {
          "background_save": true
        },
        "id": "8VrlsBZwxu5b",
        "outputId": "3fb41651-1ba8-41c5-c077-f34629e8ab02"
      },
      "outputs": [],
      "source": [
        "# Add the Dest to the result DataFrame\n",
        "data_1H_arr['Dest'] = df['Dest'].copy()\n",
        "data_1H_dep['Dest'] = df['Dest'].copy()\n",
        "data_1M_arr['Dest'] = df['Dest'].copy()\n",
        "data_1M_dep['Dest'] = df['Dest'].copy()\n",
        "data_6M_arr['Dest'] = df['Dest'].copy()\n",
        "data_6M_dep['Dest'] = df['Dest'].copy()\n",
        "\n",
        "data_1H_arr.head()"
      ]
    },
    {
      "cell_type": "code",
      "execution_count": null,
      "metadata": {
        "colab": {
          "background_save": true
        },
        "id": "G25YTcZbxu5b",
        "outputId": "7a483f17-b4d9-4fcc-8ecb-ed802dd195dd"
      },
      "outputs": [],
      "source": [
        "dest_counts = df['Dest'].value_counts()\n",
        "\n",
        "# Sort the unique destinations by the number of data points\n",
        "sorted_destinations = dest_counts.index.tolist()\n",
        "\n",
        "# Print the sorted list of destinations\n",
        "print(sorted_destinations)\n",
        "\n",
        "# Create an ordinal mapping dictionary\n",
        "ordinal_mapping = {code: i for i, code in enumerate(sorted_destinations)}\n",
        "\n",
        "# Add a new column with ordinal values to the DataFrame\n",
        "data_1H_arr['Dest'] = data_1H_arr['Dest'].map(ordinal_mapping)\n",
        "data_1H_dep['Dest'] = data_1H_dep['Dest'].map(ordinal_mapping)\n",
        "data_1M_arr['Dest'] = data_1M_arr['Dest'].map(ordinal_mapping)\n",
        "data_1M_dep['Dest'] = data_1M_dep['Dest'].map(ordinal_mapping)\n",
        "data_6M_arr['Dest'] = data_6M_arr['Dest'].map(ordinal_mapping)\n",
        "data_6M_dep['Dest'] = data_6M_dep['Dest'].map(ordinal_mapping)"
      ]
    },
    {
      "cell_type": "code",
      "execution_count": null,
      "metadata": {
        "colab": {
          "background_save": true
        },
        "id": "tFYih1HMxu5b",
        "outputId": "4a820860-e9eb-49b9-acfc-a6a3ecea81f2"
      },
      "outputs": [],
      "source": [
        "data_1H_arr.head()"
      ]
    },
    {
      "cell_type": "code",
      "execution_count": null,
      "metadata": {
        "colab": {
          "background_save": true
        },
        "id": "7T8-2al8xu5c",
        "outputId": "2702f2e8-b5ae-428b-bc06-4da979aa0d45"
      },
      "outputs": [],
      "source": [
        "data_1H_arr.Dest.nunique()"
      ]
    },
    {
      "cell_type": "markdown",
      "metadata": {
        "id": "OFIalikgxu5c"
      },
      "source": [
        "### DestLongitude"
      ]
    },
    {
      "cell_type": "code",
      "execution_count": null,
      "metadata": {
        "colab": {
          "background_save": true
        },
        "id": "eGTSC2a7xu5c",
        "outputId": "43e90138-4af0-4902-af7f-6c57cbe76be1"
      },
      "outputs": [],
      "source": [
        "print(\"----------General feature information----------\")\n",
        "print(df.DestLongitude.describe())\n",
        "print()\n",
        "print(\"----------Value information----------\")\n",
        "print(df.groupby('DestLongitude').DestLongitude.value_counts())\n",
        "\n",
        "plt.figure(figsize=(10, 6))\n",
        "sns.histplot(data=df, x='DestLongitude', bins=df['DestLongitude'].nunique(),\n",
        "             stat='count', palette=\"light:m_r\", edgecolor=\".3\", linewidth=.5)\n",
        "plt.xlabel('DestLongitude')\n",
        "plt.ylabel('Number of Values')\n",
        "plt.title('Number of Values for Each DestLongitude')\n",
        "plt.show()"
      ]
    },
    {
      "cell_type": "code",
      "execution_count": null,
      "metadata": {
        "colab": {
          "background_save": true
        },
        "id": "nFC_0KUWxu5c",
        "outputId": "c9d18be9-e8bd-45d1-c5b3-2b0f18280ed5"
      },
      "outputs": [],
      "source": [
        "# Add the top origin lon to the result DataFrame\n",
        "data_1H_arr['DestLongitude'] = df['DestLongitude'].copy()\n",
        "data_1H_dep['DestLongitude'] = df['DestLongitude'].copy()\n",
        "data_1M_arr['DestLongitude'] = df['DestLongitude'].copy()\n",
        "data_1M_dep['DestLongitude'] = df['DestLongitude'].copy()\n",
        "data_6M_arr['DestLongitude'] = df['DestLongitude'].copy()\n",
        "data_6M_dep['DestLongitude'] = df['DestLongitude'].copy()\n",
        "\n",
        "data_1H_arr.head()"
      ]
    },
    {
      "cell_type": "code",
      "execution_count": null,
      "metadata": {
        "colab": {
          "background_save": true
        },
        "id": "3TGrP_TKxu5c",
        "outputId": "aeecec9a-37cf-4e31-bc63-434089e9049c"
      },
      "outputs": [],
      "source": [
        "data_1H_arr.head()"
      ]
    },
    {
      "cell_type": "markdown",
      "metadata": {
        "id": "I9I12qu5xu5d"
      },
      "source": [
        "### DestLatitude"
      ]
    },
    {
      "cell_type": "code",
      "execution_count": null,
      "metadata": {
        "colab": {
          "background_save": true
        },
        "id": "NC08X198xu5d",
        "outputId": "8ca2d81f-67ef-4407-9f7c-25c866e8a3da"
      },
      "outputs": [],
      "source": [
        "print(\"----------General feature information----------\")\n",
        "print(df.DestLatitude.describe())\n",
        "print()\n",
        "print(\"----------Value information----------\")\n",
        "print(df.groupby('DestLatitude').DestLatitude.value_counts())\n",
        "\n",
        "plt.figure(figsize=(10, 6))\n",
        "sns.histplot(data=df, x='DestLatitude', bins=df['DestLatitude'].nunique(),\n",
        "             stat='count', palette=\"light:m_r\", edgecolor=\".3\", linewidth=.5)\n",
        "plt.xlabel('DestLatitude')\n",
        "plt.ylabel('Number of Values')\n",
        "plt.title('Number of Values for Each DestLatitude')\n",
        "plt.show()"
      ]
    },
    {
      "cell_type": "code",
      "execution_count": null,
      "metadata": {
        "colab": {
          "background_save": true
        },
        "id": "QnJFsCj8xu5d",
        "outputId": "295e0032-680d-4d7d-9a93-914cc88bbd5a"
      },
      "outputs": [],
      "source": [
        "# Add the top origin lon to the result DataFrame\n",
        "data_1H_arr['DestLatitude'] = df['DestLatitude'].copy()\n",
        "data_1H_dep['DestLatitude'] = df['DestLatitude'].copy()\n",
        "data_1M_arr['DestLatitude'] = df['DestLatitude'].copy()\n",
        "data_1M_dep['DestLatitude'] = df['DestLatitude'].copy()\n",
        "data_6M_arr['DestLatitude'] = df['DestLatitude'].copy()\n",
        "data_6M_dep['DestLatitude'] = df['DestLatitude'].copy()\n",
        "\n",
        "data_1H_arr.head()"
      ]
    },
    {
      "cell_type": "code",
      "execution_count": null,
      "metadata": {
        "colab": {
          "background_save": true
        },
        "id": "UxCJV19Uxu5d",
        "outputId": "4bf41d59-06f6-4f65-92a1-2dfa9cbb39ca"
      },
      "outputs": [],
      "source": [
        "data_1H_arr.head()"
      ]
    },
    {
      "cell_type": "markdown",
      "metadata": {
        "id": "7q3UkJKdxu5d"
      },
      "source": [
        "### CRSDepTime"
      ]
    },
    {
      "cell_type": "code",
      "execution_count": null,
      "metadata": {
        "colab": {
          "background_save": true
        },
        "id": "S7Mdyq0wxu5d",
        "outputId": "b674dc25-e52c-47d2-be0f-2f1f66336bd2"
      },
      "outputs": [],
      "source": [
        "print(\"----------General feature information----------\")\n",
        "print(df.CRSDepTime.describe())\n",
        "print()\n",
        "print(\"----------Value information----------\")\n",
        "print(df.CRSDepTime.value_counts())\n",
        "print(\"----------Sorted value information----------\")\n",
        "print(df.groupby('CRSDepTime').CRSDepTime.value_counts())\n",
        "\n",
        "plt.figure(figsize=(10, 6))\n",
        "sns.histplot(data=df, x='CRSDepTime', bins=df['CRSDepTime'].nunique(),\n",
        "             stat='count', palette=\"light:m_r\", edgecolor=\".3\", linewidth=.5)\n",
        "plt.xlabel('CRSDepTime')\n",
        "plt.ylabel('Number of Values')\n",
        "plt.title('Number of Values for Each CRSDepTime')\n",
        "plt.show()"
      ]
    },
    {
      "cell_type": "code",
      "execution_count": null,
      "metadata": {
        "colab": {
          "background_save": true
        },
        "id": "7Fj3aOYVxu5e"
      },
      "outputs": [],
      "source": [
        "encode_cyclical_feature(df, data_1H_arr, 'CRSDepTime', 2359)\n",
        "encode_cyclical_feature(df, data_1H_dep, 'CRSDepTime', 2359)\n",
        "encode_cyclical_feature(df, data_1M_arr, 'CRSDepTime', 2359)\n",
        "encode_cyclical_feature(df, data_1M_dep, 'CRSDepTime', 2359)\n",
        "encode_cyclical_feature(df, data_6M_arr, 'CRSDepTime', 2359)\n",
        "encode_cyclical_feature(df, data_6M_dep, 'CRSDepTime', 2359)"
      ]
    },
    {
      "cell_type": "code",
      "execution_count": null,
      "metadata": {
        "colab": {
          "background_save": true
        },
        "id": "rlpabNQGxu5e",
        "outputId": "e66c994d-0660-4035-cd9d-4b692dc712c1"
      },
      "outputs": [],
      "source": [
        "data_1H_arr.head()"
      ]
    },
    {
      "cell_type": "markdown",
      "metadata": {
        "id": "dHrj8GjVxu5e"
      },
      "source": [
        "### DepTime"
      ]
    },
    {
      "cell_type": "code",
      "execution_count": null,
      "metadata": {
        "colab": {
          "background_save": true
        },
        "id": "gzPmwU8Pxu5e",
        "outputId": "5e4e05fd-2f68-47be-d979-68a65c15f7c7"
      },
      "outputs": [],
      "source": [
        "print(\"----------General feature information----------\")\n",
        "print(df.DepTime.describe())\n",
        "print()\n",
        "print(\"----------Value information----------\")\n",
        "print(df.DepTime.value_counts())"
      ]
    },
    {
      "cell_type": "markdown",
      "metadata": {
        "id": "hYfY-v8cxu5e"
      },
      "source": [
        "### DepDelay"
      ]
    },
    {
      "cell_type": "code",
      "execution_count": null,
      "metadata": {
        "colab": {
          "background_save": true
        },
        "id": "lZzQCn-gxu5f",
        "outputId": "65f2a749-287a-4550-c847-d99dabbf6f7a"
      },
      "outputs": [],
      "source": [
        "print(\"----------General feature information----------\")\n",
        "print(df.DepDelay.describe())\n",
        "print()\n",
        "print(\"----------Value information----------\")\n",
        "print(df.DepDelay.value_counts())\n",
        "print(\"----------Sorted value information----------\")\n",
        "print(df.groupby('DepDelay').DepDelay.value_counts())\n",
        "\n",
        "plt.figure(figsize=(10, 6))\n",
        "sns.histplot(data=df, x='DepDelay', bins=df['DepDelay'].nunique(),\n",
        "             stat='count', palette=\"light:m_r\", edgecolor=\".3\", linewidth=.5)\n",
        "plt.xlabel('DepDelay')\n",
        "plt.ylabel('Number of Values')\n",
        "plt.title('Number of Values for Each DepDelay')\n",
        "plt.xlim(right=180)\n",
        "plt.show()\n",
        "\n",
        "data = df.DepDelay\n",
        "# Fit a probability distribution (Gaussian distribution) to the data\n",
        "mu, std = norm.fit(data)\n",
        "\n",
        "# Create a range of values for the x-axis\n",
        "x = np.linspace(data.min(), data.max(), 100)\n",
        "\n",
        "# Calculate the probability density function (PDF) for the fitted Gaussian distribution\n",
        "pdf = norm.pdf(x, mu, std)\n",
        "\n",
        "# Plot the data and the fitted distribution\n",
        "plt.figure(figsize=(10, 5))\n",
        "plt.hist(data, bins=df['DepDelay'].nunique(), density=True, alpha=0.6, color='b', label='Data')\n",
        "plt.plot(x, pdf, 'r-', lw=2, label='Fitted Gaussian Distribution')\n",
        "plt.title('Probability Distribution Prediction')\n",
        "plt.xlabel('Value')\n",
        "plt.ylabel('Probability')\n",
        "plt.xlim(right=180)\n",
        "plt.legend()\n",
        "plt.show()"
      ]
    },
    {
      "cell_type": "code",
      "execution_count": null,
      "metadata": {
        "colab": {
          "background_save": true
        },
        "id": "YKdJ5K6cxu5f",
        "outputId": "d524588b-b836-42af-a9cc-899a0fb6d1ac"
      },
      "outputs": [],
      "source": [
        "min_value = df['DepDelay'].min()\n",
        "max_value = df['DepDelay'].max()\n",
        "\n",
        "# Display the result\n",
        "print(f\"The minimum value in the 'DepDelay' column is: {min_value}\")\n",
        "print(f\"The minimum value in the 'DepDelay' column is: {max_value}\")"
      ]
    },
    {
      "cell_type": "markdown",
      "metadata": {
        "id": "1NSfchhbxu5f"
      },
      "source": [
        "According to the defintion, a delay above 180 minutes is considered as cancellation. Therefore delays above 180 minutes are not considered. This also reduces noise and removes outliers."
      ]
    },
    {
      "cell_type": "code",
      "execution_count": null,
      "metadata": {
        "colab": {
          "background_save": true
        },
        "id": "k1z9Knd8xu5f"
      },
      "outputs": [],
      "source": [
        "# df_filtered = df[(df['DepDelay'] >= -30.0) & (df['DepDelay'] <= 180.0)]\n",
        "# Exclude values outside the specified range\n",
        "df_filtered_dep = df[df['DepDelay'] <= 180.0]\n",
        "\n",
        "data_1H_dep = data_1H_dep.merge(df_filtered_dep[['DepDelay']], left_index=True, right_index=True, how='inner')\n",
        "data_1M_dep = data_1M_dep.merge(df_filtered_dep[['DepDelay']], left_index=True, right_index=True, how='inner')\n",
        "data_6M_dep = data_6M_dep.merge(df_filtered_dep[['DepDelay']], left_index=True, right_index=True, how='inner')"
      ]
    },
    {
      "cell_type": "code",
      "execution_count": null,
      "metadata": {
        "colab": {
          "background_save": true
        },
        "id": "d4PJxAojxu5f",
        "outputId": "c2ef0ad4-c966-4fb8-d0a1-9c0704b08862"
      },
      "outputs": [],
      "source": [
        "# Count delays that are 15 minutes or larger\n",
        "count_large_delays = len(df_filtered_dep[df_filtered_dep['DepDelay'] >= 15])\n",
        "\n",
        "# Count delays less than 15 minutes\n",
        "count_small_delays = len(df_filtered_dep[df_filtered_dep['DepDelay'] < 15])\n",
        "\n",
        "print(f\"Count of delays 15 minutes or larger: {count_large_delays}\")\n",
        "print(f\"Count of delays less than 15 minutes: {count_small_delays}\")"
      ]
    },
    {
      "cell_type": "code",
      "execution_count": null,
      "metadata": {
        "colab": {
          "background_save": true
        },
        "id": "FVIryLDoxu5f",
        "outputId": "bf4f64d6-48e7-428a-d6d6-ade950fe43ea"
      },
      "outputs": [],
      "source": [
        "plt.figure(figsize=(10, 6))\n",
        "sns.histplot(data=data_1H_dep, x='DepDelay', bins=data_1H_dep['DepDelay'].nunique(),\n",
        "             stat='count', palette=\"light:m_r\", edgecolor=\".3\", linewidth=.5)\n",
        "plt.xlabel('DepDelay')\n",
        "plt.ylabel('Number of Values')\n",
        "plt.title('Number of Values for Each DepDelay')\n",
        "plt.show()\n",
        "\n",
        "data = data_1H_dep.DepDelay\n",
        "\n",
        "# Fit a probability distribution (Gaussian distribution) to the data\n",
        "mu, std = norm.fit(data)\n",
        "\n",
        "# Create a range of values for the x-axis\n",
        "x = np.linspace(data.min(), data.max(), 100)\n",
        "\n",
        "# Calculate the probability density function (PDF) for the fitted Gaussian distribution\n",
        "pdf = norm.pdf(x, mu, std)\n",
        "\n",
        "# Plot the data and the fitted distribution\n",
        "plt.figure(figsize=(10, 5))\n",
        "plt.hist(data, bins=data_1H_dep['DepDelay'].nunique(), density=True, alpha=0.6, color='b', label='Data')\n",
        "plt.plot(x, pdf, 'r-', lw=2, label='Fitted Gaussian Distribution')\n",
        "plt.title('Probability Distribution Prediction')\n",
        "plt.xlabel('Value')\n",
        "plt.ylabel('Probability')\n",
        "plt.legend()\n",
        "plt.show()"
      ]
    },
    {
      "cell_type": "markdown",
      "metadata": {
        "id": "5DQM9tb3xu5g"
      },
      "source": [
        "Possibility use Log Transformation to decrease the right-skewness not given due to negative values."
      ]
    },
    {
      "cell_type": "code",
      "execution_count": null,
      "metadata": {
        "colab": {
          "background_save": true
        },
        "id": "DGvIisamxu5g",
        "outputId": "81943cd2-1c26-4c57-b336-74b33bc84a0c"
      },
      "outputs": [],
      "source": [
        "data_1H_dep.head()"
      ]
    },
    {
      "cell_type": "code",
      "execution_count": null,
      "metadata": {
        "colab": {
          "background_save": true
        },
        "id": "KrfHlxIhxu5g",
        "outputId": "1e9a9c15-146e-4634-f73d-d9b84311efbe"
      },
      "outputs": [],
      "source": [
        "data_1H_dep.info()"
      ]
    },
    {
      "cell_type": "markdown",
      "metadata": {
        "id": "yFcsAulrxu5g"
      },
      "source": [
        "### DepDel15"
      ]
    },
    {
      "cell_type": "code",
      "execution_count": null,
      "metadata": {
        "colab": {
          "background_save": true
        },
        "id": "WH3TF6M_xu5g",
        "outputId": "b066f814-c0bf-4113-c4bb-8b773b2751ef"
      },
      "outputs": [],
      "source": [
        "print(\"----------General feature information----------\")\n",
        "print(df.DepDel15.describe())\n",
        "print()\n",
        "print(\"----------Value information----------\")\n",
        "print(df.DepDel15.value_counts())"
      ]
    },
    {
      "cell_type": "markdown",
      "metadata": {
        "id": "3mJlrl0Exu5h"
      },
      "source": [
        "### DepartureDelayGroups"
      ]
    },
    {
      "cell_type": "code",
      "execution_count": null,
      "metadata": {
        "colab": {
          "background_save": true
        },
        "id": "VfcI4s2jxu5h",
        "outputId": "46519184-0fa5-4456-f80b-5ff663c52268"
      },
      "outputs": [],
      "source": [
        "print(\"----------General feature information----------\")\n",
        "print(df.DepartureDelayGroups.describe())\n",
        "print()\n",
        "print(\"----------Value information----------\")\n",
        "print(df.groupby('DepartureDelayGroups').DepartureDelayGroups.value_counts())\n",
        "\n",
        "plt.figure(figsize=(10, 6))\n",
        "sns.histplot(data=df, x='DepartureDelayGroups', bins=14,\n",
        "             stat='count', palette=\"light:m_r\", edgecolor=\".3\", linewidth=.5)\n",
        "plt.xlabel('DepartureDelayGroups')\n",
        "plt.ylabel('Number of Values')\n",
        "plt.title('Number of Values for Each DepartureDelayGroups')\n",
        "plt.show()"
      ]
    },
    {
      "cell_type": "markdown",
      "metadata": {
        "id": "5d4XogmYxu5h"
      },
      "source": [
        "### DepTimeBlk"
      ]
    },
    {
      "cell_type": "code",
      "execution_count": null,
      "metadata": {
        "colab": {
          "background_save": true
        },
        "id": "jocw9tqexu5h",
        "outputId": "2209abb3-d01d-4aec-c442-56fa135a66c2"
      },
      "outputs": [],
      "source": [
        "print(\"----------General feature information----------\")\n",
        "print(df.DepTimeBlk.describe())\n",
        "print()\n",
        "print(\"----------Value information----------\")\n",
        "print(df.groupby('DepTimeBlk').DepTimeBlk.value_counts())\n",
        "\n",
        "# Sort the time blocks for plotting\n",
        "sorted_time_blocks = df.groupby('DepTimeBlk').indices\n",
        "\n",
        "plt.figure(figsize=(20, 6))\n",
        "sns.countplot(data=df, x='DepTimeBlk', color=\"cornflowerblue\", edgecolor=\".3\", linewidth=.5, order=sorted_time_blocks)\n",
        "plt.xlabel('DepTimeBlk')\n",
        "plt.ylabel('Number of Values')\n",
        "plt.title('Number of Values for Each DepTimeBlk')\n",
        "plt.show()"
      ]
    },
    {
      "cell_type": "code",
      "execution_count": null,
      "metadata": {
        "colab": {
          "background_save": true
        },
        "id": "km5eZi84xu5h"
      },
      "outputs": [],
      "source": [
        "dep_time_block_mapping = {\n",
        "    '0001-0559': 0,\n",
        "    '0600-0659': 1,\n",
        "    '0700-0759': 2,\n",
        "    '0800-0859': 3,\n",
        "    '0900-0959': 4,\n",
        "    '1000-1059': 5,\n",
        "    '1100-1159': 6,\n",
        "    '1200-1259': 7,\n",
        "    '1300-1359': 8,\n",
        "    '1400-1459': 9,\n",
        "    '1500-1559': 10,\n",
        "    '1600-1659': 11,\n",
        "    '1700-1759': 12,\n",
        "    '1800-1859': 13,\n",
        "    '1900-1959': 14,\n",
        "    '2000-2059': 15,\n",
        "    '2100-2159': 16,\n",
        "    '2200-2259': 17,\n",
        "    '2300-2359': 18\n",
        "}\n",
        "\n",
        "# Perform mapping\n",
        "dep_time_blocks_encoded = df['DepTimeBlk'].map(dep_time_block_mapping)\n",
        "\n",
        "# Concatenate the encoded columns to the result DataFrames\n",
        "data_1H_arr = pd.concat([data_1H_arr, dep_time_blocks_encoded], axis=1)\n",
        "data_1H_dep = pd.concat([data_1H_dep, dep_time_blocks_encoded], axis=1)\n",
        "data_1M_arr = pd.concat([data_1M_arr, dep_time_blocks_encoded], axis=1)\n",
        "data_1M_dep = pd.concat([data_1M_dep, dep_time_blocks_encoded], axis=1)\n",
        "data_6M_arr = pd.concat([data_6M_arr, dep_time_blocks_encoded], axis=1)\n",
        "data_6M_dep = pd.concat([data_6M_dep, dep_time_blocks_encoded], axis=1)"
      ]
    },
    {
      "cell_type": "code",
      "execution_count": null,
      "metadata": {
        "colab": {
          "background_save": true
        },
        "id": "CwnsABhixu5i",
        "outputId": "db090e3a-a0ea-43ff-9fc6-8a3e9b81e8df"
      },
      "outputs": [],
      "source": [
        "data_1H_arr.info()"
      ]
    },
    {
      "cell_type": "markdown",
      "metadata": {
        "id": "uSzqkqzsxu5i"
      },
      "source": [
        "### TaxiOut"
      ]
    },
    {
      "cell_type": "code",
      "execution_count": null,
      "metadata": {
        "colab": {
          "background_save": true
        },
        "id": "k-YeyBmdxu5i",
        "outputId": "bfc7cbce-8c68-4a4b-f7f7-ad345804b6c6"
      },
      "outputs": [],
      "source": [
        "print(\"----------General feature information----------\")\n",
        "print(df.TaxiOut.describe())\n",
        "print()\n",
        "print(\"----------Value information----------\")\n",
        "print(df.groupby('TaxiOut').TaxiOut.value_counts())"
      ]
    },
    {
      "cell_type": "markdown",
      "metadata": {
        "id": "f1iQElatxu5i"
      },
      "source": [
        "### WheelsOff"
      ]
    },
    {
      "cell_type": "code",
      "execution_count": null,
      "metadata": {
        "colab": {
          "background_save": true
        },
        "id": "ZpXhXV25xu5i",
        "outputId": "e07a0103-6b3a-4141-f6ea-be7e01c4c872"
      },
      "outputs": [],
      "source": [
        "print(\"----------General feature information----------\")\n",
        "print(df.WheelsOff.describe())\n",
        "print()\n",
        "print(\"----------Value information----------\")\n",
        "print(df.groupby('WheelsOff').WheelsOff.value_counts())"
      ]
    },
    {
      "cell_type": "markdown",
      "metadata": {
        "id": "blJW8t_nxu5j"
      },
      "source": [
        "### WheelsOn"
      ]
    },
    {
      "cell_type": "code",
      "execution_count": null,
      "metadata": {
        "colab": {
          "background_save": true
        },
        "id": "Y0-3jnTrxu5j",
        "outputId": "c253d83b-e074-440d-943b-d05a6199d4d8"
      },
      "outputs": [],
      "source": [
        "print(\"----------General feature information----------\")\n",
        "print(df.WheelsOn.describe())\n",
        "print()\n",
        "print(\"----------Value information----------\")\n",
        "print(df.groupby('WheelsOn').WheelsOn.value_counts())"
      ]
    },
    {
      "cell_type": "markdown",
      "metadata": {
        "id": "uFV4-8Pgxu5j"
      },
      "source": [
        "### TaxiIn"
      ]
    },
    {
      "cell_type": "code",
      "execution_count": null,
      "metadata": {
        "colab": {
          "background_save": true
        },
        "id": "8uFlAkuOxu5j",
        "outputId": "7e3b1a3c-5ea7-409e-8b35-bc25c6674817"
      },
      "outputs": [],
      "source": [
        "print(\"----------General feature information----------\")\n",
        "print(df.TaxiIn.describe())\n",
        "print()\n",
        "print(\"----------Value information----------\")\n",
        "print(df.groupby('TaxiIn').TaxiIn.value_counts())"
      ]
    },
    {
      "cell_type": "markdown",
      "metadata": {
        "id": "oksMYdoYxu5j"
      },
      "source": [
        "### CRSArrTime"
      ]
    },
    {
      "cell_type": "code",
      "execution_count": null,
      "metadata": {
        "colab": {
          "background_save": true
        },
        "id": "agdxoUBexu5j",
        "outputId": "9ce7aee6-ea58-416c-83ea-14774eff37e4"
      },
      "outputs": [],
      "source": [
        "print(\"----------General feature information----------\")\n",
        "print(df.CRSArrTime.describe())\n",
        "print()\n",
        "print(\"----------Value information----------\")\n",
        "print(df.CRSArrTime.value_counts())\n",
        "print()\n",
        "print(\"----------Sorted value information----------\")\n",
        "print(df.groupby('CRSArrTime').CRSArrTime.value_counts())\n",
        "\n",
        "plt.figure(figsize=(10, 6))\n",
        "sns.histplot(data=df, x='CRSArrTime', bins=df['CRSArrTime'].nunique(),\n",
        "             stat='count', palette=\"light:m_r\", edgecolor=\".3\", linewidth=.5)\n",
        "plt.xlabel('CRSArrTime')\n",
        "plt.ylabel('Number of Values')\n",
        "plt.title('Number of Values for Each CRSArrTime')\n",
        "plt.show()"
      ]
    },
    {
      "cell_type": "code",
      "execution_count": null,
      "metadata": {
        "colab": {
          "background_save": true
        },
        "id": "_5PrPVimxu5j"
      },
      "outputs": [],
      "source": [
        "encode_cyclical_feature(df, data_1H_arr, 'CRSArrTime', 2359)\n",
        "encode_cyclical_feature(df, data_1H_dep, 'CRSArrTime', 2359)\n",
        "encode_cyclical_feature(df, data_1M_arr, 'CRSArrTime', 2359)\n",
        "encode_cyclical_feature(df, data_1M_dep, 'CRSArrTime', 2359)\n",
        "encode_cyclical_feature(df, data_6M_arr, 'CRSArrTime', 2359)\n",
        "encode_cyclical_feature(df, data_6M_dep, 'CRSArrTime', 2359)"
      ]
    },
    {
      "cell_type": "code",
      "execution_count": null,
      "metadata": {
        "colab": {
          "background_save": true
        },
        "id": "-B40atM1xu5k",
        "outputId": "56aefd93-731e-48ae-8d47-270bdd7dece0"
      },
      "outputs": [],
      "source": [
        "data_1H_arr.head()"
      ]
    },
    {
      "cell_type": "markdown",
      "metadata": {
        "id": "twhSn7kgxu5k"
      },
      "source": [
        "### ArrDelay"
      ]
    },
    {
      "cell_type": "code",
      "execution_count": null,
      "metadata": {
        "colab": {
          "background_save": true
        },
        "id": "AGRaWMQgxu5k",
        "outputId": "8323a407-b071-4072-dc98-5c3808e92c42"
      },
      "outputs": [],
      "source": [
        "print(\"----------General feature information----------\")\n",
        "print(df.ArrDelay.describe())\n",
        "print()\n",
        "print(\"----------Value information----------\")\n",
        "print(df.ArrDelay.value_counts())\n",
        "print(\"----------Sorted value information----------\")\n",
        "print(df.groupby('ArrDelay').ArrDelay.value_counts())\n",
        "\n",
        "plt.figure(figsize=(10, 6))\n",
        "sns.histplot(data=df, x='ArrDelay', bins=df['ArrDelay'].nunique(),\n",
        "             stat='count', palette=\"light:m_r\", edgecolor=\".3\", linewidth=.5)\n",
        "plt.xlabel('ArrDelay')\n",
        "plt.ylabel('Number of Values')\n",
        "plt.title('Number of Values for Each ArrDelay')\n",
        "plt.xlim(right=180)\n",
        "plt.show()\n",
        "\n",
        "data = df.ArrDelay\n",
        "# Fit a probability distribution (Gaussian distribution) to the data\n",
        "mu, std = norm.fit(data)\n",
        "\n",
        "# Create a range of values for the x-axis\n",
        "x = np.linspace(data.min(), data.max(), 100)\n",
        "\n",
        "# Calculate the probability density function (PDF) for the fitted Gaussian distribution\n",
        "pdf = norm.pdf(x, mu, std)\n",
        "\n",
        "# Plot the data and the fitted distribution\n",
        "plt.figure(figsize=(10, 5))\n",
        "plt.hist(data, bins=df['ArrDelay'].nunique(), density=True, alpha=0.6, color='b', label='Data')\n",
        "plt.plot(x, pdf, 'r-', lw=2, label='Fitted Gaussian Distribution')\n",
        "plt.title('Probability Distribution Prediction')\n",
        "plt.xlabel('Value')\n",
        "plt.ylabel('Probability')\n",
        "plt.xlim(right=180)\n",
        "plt.legend()\n",
        "plt.show()"
      ]
    },
    {
      "cell_type": "code",
      "execution_count": null,
      "metadata": {
        "colab": {
          "background_save": true
        },
        "id": "OANZdIKxxu5k",
        "outputId": "9aeda1b2-74cd-405a-a159-e6de4661b4c0"
      },
      "outputs": [],
      "source": [
        "min_value = df['ArrDelay'].min()\n",
        "max_value = df['ArrDelay'].max()\n",
        "\n",
        "# Display the result\n",
        "print(f\"The minimum value in the 'ArrDelay' column is: {min_value}\")\n",
        "print(f\"The minimum value in the 'ArrDelay' column is: {max_value}\")"
      ]
    },
    {
      "cell_type": "code",
      "execution_count": null,
      "metadata": {
        "colab": {
          "background_save": true
        },
        "id": "KnLvhco3xu5k"
      },
      "outputs": [],
      "source": [
        "df_filtered_arr = df[df['ArrDelay'] <= 180.0]\n",
        "\n",
        "data_1H_arr = data_1H_arr.merge(df_filtered_arr[['ArrDelay']], left_index=True, right_index=True, how='inner')\n",
        "data_1M_arr = data_1M_arr.merge(df_filtered_arr[['ArrDelay']], left_index=True, right_index=True, how='inner')\n",
        "data_6M_arr = data_6M_arr.merge(df_filtered_arr[['ArrDelay']], left_index=True, right_index=True, how='inner')"
      ]
    },
    {
      "cell_type": "code",
      "execution_count": null,
      "metadata": {
        "colab": {
          "background_save": true
        },
        "id": "BKkosNsFxu5l",
        "outputId": "3945094a-971b-4e62-f428-1714d63b124f"
      },
      "outputs": [],
      "source": [
        "plt.figure(figsize=(10, 6))\n",
        "sns.histplot(data=data_1H_arr, x='ArrDelay', bins=data_1H_arr['ArrDelay'].nunique(),\n",
        "             stat='count', palette=\"light:m_r\", edgecolor=\".3\", linewidth=.5)\n",
        "plt.xlabel('ArrDelay')\n",
        "plt.ylabel('Number of Values')\n",
        "plt.title('Number of Values for Each ArrDelay')\n",
        "plt.show()\n",
        "\n",
        "data = data_1H_arr.ArrDelay\n",
        "\n",
        "# Fit a probability distribution (Gaussian distribution) to the data\n",
        "mu, std = norm.fit(data)\n",
        "\n",
        "# Create a range of values for the x-axis\n",
        "x = np.linspace(data.min(), data.max(), 100)\n",
        "\n",
        "# Calculate the probability density function (PDF) for the fitted Gaussian distribution\n",
        "pdf = norm.pdf(x, mu, std)\n",
        "\n",
        "# Plot the data and the fitted distribution\n",
        "plt.figure(figsize=(10, 5))\n",
        "plt.hist(data, bins=data_1H_arr['ArrDelay'].nunique(), density=True, alpha=0.6, color='b', label='Data')\n",
        "plt.plot(x, pdf, 'r-', lw=2, label='Fitted Gaussian Distribution')\n",
        "plt.title('Probability Distribution Prediction')\n",
        "plt.xlabel('Value')\n",
        "plt.ylabel('Probability')\n",
        "plt.legend()\n",
        "plt.show()"
      ]
    },
    {
      "cell_type": "code",
      "execution_count": null,
      "metadata": {
        "colab": {
          "background_save": true
        },
        "id": "onUiZQgWxu5l",
        "outputId": "34417baa-8970-4b36-8c10-6789f82c8a87"
      },
      "outputs": [],
      "source": [
        "data_1H_arr.info()"
      ]
    },
    {
      "cell_type": "code",
      "execution_count": null,
      "metadata": {
        "colab": {
          "background_save": true
        },
        "id": "pWMWi35Qxu5l",
        "outputId": "f6351779-2f72-4a28-a53b-3444cc9506e9"
      },
      "outputs": [],
      "source": [
        "data_1H_arr.head()"
      ]
    },
    {
      "cell_type": "markdown",
      "metadata": {
        "id": "lVBdtX6Txu5m"
      },
      "source": [
        "### ArrivalDelayGroups"
      ]
    },
    {
      "cell_type": "code",
      "execution_count": null,
      "metadata": {
        "colab": {
          "background_save": true
        },
        "id": "lRQ31fzwxu5m",
        "outputId": "ca1b8c9f-9728-4d7c-cbc8-8afa9ac2ca0b"
      },
      "outputs": [],
      "source": [
        "print(\"----------General feature information----------\")\n",
        "print(df.ArrivalDelayGroups.describe())\n",
        "print()\n",
        "print(\"----------Value information----------\")\n",
        "print(df.groupby('ArrivalDelayGroups').ArrivalDelayGroups.value_counts())\n",
        "\n",
        "plt.figure(figsize=(10, 6))\n",
        "sns.histplot(data=df, x='ArrivalDelayGroups', bins=14,\n",
        "             stat='count', palette=\"light:m_r\", edgecolor=\".3\", linewidth=.5)\n",
        "plt.xlabel('ArrivalDelayGroups')\n",
        "plt.ylabel('Number of Values')\n",
        "plt.title('Number of Values for Each ArrivalDelayGroups')\n",
        "plt.show()"
      ]
    },
    {
      "cell_type": "markdown",
      "metadata": {
        "id": "w1PbSFPFxu5m"
      },
      "source": [
        "### ArrTimeBlk"
      ]
    },
    {
      "cell_type": "code",
      "execution_count": null,
      "metadata": {
        "colab": {
          "background_save": true
        },
        "id": "9woPxXfbxu5n",
        "outputId": "df6231c9-c2bc-442e-ef03-7ca268a3ea0b"
      },
      "outputs": [],
      "source": [
        "print(\"----------General feature information----------\")\n",
        "print(df.ArrTimeBlk.describe())\n",
        "print()\n",
        "print(\"----------Value information----------\")\n",
        "print(df.groupby('ArrTimeBlk').ArrTimeBlk.value_counts())\n",
        "\n",
        "# Sort the time blocks for plotting\n",
        "sorted_time_blocks = df.groupby('ArrTimeBlk').indices\n",
        "\n",
        "plt.figure(figsize=(20, 6))\n",
        "sns.countplot(data=df, x='ArrTimeBlk', color=\"cornflowerblue\", edgecolor=\".3\", linewidth=.5, order=sorted_time_blocks)\n",
        "plt.xlabel('ArrTimeBlk')\n",
        "plt.ylabel('Number of Values')\n",
        "plt.title('Number of Values for Each ArrTimeBlk')\n",
        "plt.show()"
      ]
    },
    {
      "cell_type": "code",
      "execution_count": null,
      "metadata": {
        "colab": {
          "background_save": true
        },
        "id": "xM8vYdiAxu5n",
        "outputId": "5cc8db9a-8302-4746-912b-1f0ee2abb51d"
      },
      "outputs": [],
      "source": [
        "print(df.groupby('ArrTimeBlk').ArrTimeBlk.unique())"
      ]
    },
    {
      "cell_type": "code",
      "execution_count": null,
      "metadata": {
        "colab": {
          "background_save": true
        },
        "id": "it8E90M_xu5n"
      },
      "outputs": [],
      "source": [
        "arr_time_block_mapping = {\n",
        "    '0001-0559': 0,\n",
        "    '0600-0659': 1,\n",
        "    '0700-0759': 2,\n",
        "    '0800-0859': 3,\n",
        "    '0900-0959': 4,\n",
        "    '1000-1059': 5,\n",
        "    '1100-1159': 6,\n",
        "    '1200-1259': 7,\n",
        "    '1300-1359': 8,\n",
        "    '1400-1459': 9,\n",
        "    '1500-1559': 10,\n",
        "    '1600-1659': 11,\n",
        "    '1700-1759': 12,\n",
        "    '1800-1859': 13,\n",
        "    '1900-1959': 14,\n",
        "    '2000-2059': 15,\n",
        "    '2100-2159': 16,\n",
        "    '2200-2259': 17,\n",
        "    '2300-2359': 18\n",
        "}\n",
        "\n",
        "# Perform mapping\n",
        "arr_time_blocks_encoded = df['ArrTimeBlk'].map(arr_time_block_mapping)\n",
        "\n",
        "# Concatenate the encoded columns to the original DataFrame\n",
        "data_1H_arr = pd.concat([data_1H_arr, arr_time_blocks_encoded], axis=1)\n",
        "data_1H_dep = pd.concat([data_1H_dep, arr_time_blocks_encoded], axis=1)\n",
        "data_1M_arr = pd.concat([data_1M_arr, arr_time_blocks_encoded], axis=1)\n",
        "data_1M_dep = pd.concat([data_1M_dep, arr_time_blocks_encoded], axis=1)\n",
        "data_6M_arr = pd.concat([data_6M_arr, arr_time_blocks_encoded], axis=1)\n",
        "data_6M_dep = pd.concat([data_6M_dep, arr_time_blocks_encoded], axis=1)"
      ]
    },
    {
      "cell_type": "code",
      "execution_count": null,
      "metadata": {
        "colab": {
          "background_save": true
        },
        "id": "gQihgkmcxu5n",
        "outputId": "eb6f201a-31cc-490e-da15-7736045b83d9"
      },
      "outputs": [],
      "source": [
        "data_1H_arr.info()"
      ]
    },
    {
      "cell_type": "markdown",
      "metadata": {
        "id": "zxiAaLlOxu5n"
      },
      "source": [
        "### CRSElapsedTime"
      ]
    },
    {
      "cell_type": "code",
      "execution_count": null,
      "metadata": {
        "colab": {
          "background_save": true
        },
        "id": "_NRYbwK7xu5n",
        "outputId": "469666f0-8a97-4637-8c69-dc7f4689e4d4"
      },
      "outputs": [],
      "source": [
        "print(\"----------General feature information----------\")\n",
        "print(df.CRSElapsedTime.describe())\n",
        "print()\n",
        "print(\"----------Value information----------\")\n",
        "print(df.CRSElapsedTime.value_counts())\n",
        "print()\n",
        "print(\"----------Sorted value information----------\")\n",
        "print(df.groupby('CRSElapsedTime').CRSElapsedTime.value_counts())\n",
        "\n",
        "plt.figure(figsize=(10, 6))\n",
        "sns.histplot(data=df, x='CRSElapsedTime', bins=df['CRSElapsedTime'].nunique(),\n",
        "             stat='count', palette=\"light:m_r\", edgecolor=\".3\", linewidth=.5)\n",
        "plt.xlabel('CRSElapsedTime')\n",
        "plt.ylabel('Number of Values')\n",
        "plt.title('Number of Values for Each CRSElapsedTime')\n",
        "plt.show()"
      ]
    },
    {
      "cell_type": "code",
      "execution_count": null,
      "metadata": {
        "colab": {
          "background_save": true
        },
        "id": "wny3Ei7Bxu5n",
        "outputId": "c816d7cf-4372-4f32-87c9-946eeedf413d"
      },
      "outputs": [],
      "source": [
        "data_1H_arr['CRSElapsedTime'] = data_1H_dep['CRSElapsedTime'] = data_1M_arr['CRSElapsedTime'] = data_1M_dep['CRSElapsedTime'] = data_6M_arr['CRSElapsedTime'] = data_6M_dep['CRSElapsedTime'] = df['CRSElapsedTime']\n",
        "data_1H_arr.info()"
      ]
    },
    {
      "cell_type": "markdown",
      "metadata": {
        "id": "HeZnpYA3xu5o"
      },
      "source": [
        "### ActualElapsedTime"
      ]
    },
    {
      "cell_type": "code",
      "execution_count": null,
      "metadata": {
        "colab": {
          "background_save": true
        },
        "id": "_J_KJRAIxu5o",
        "outputId": "f0e3f8f9-1eec-4045-c61b-e0abd1dbed1a"
      },
      "outputs": [],
      "source": [
        "print(\"----------General feature information----------\")\n",
        "print(df.ActualElapsedTime.describe())\n",
        "print()\n",
        "print(\"----------Value information----------\")\n",
        "print(df.ActualElapsedTime.value_counts())\n",
        "print()\n",
        "print(\"----------Sorted value information----------\")\n",
        "print(df.groupby('ActualElapsedTime').ActualElapsedTime.value_counts())"
      ]
    },
    {
      "cell_type": "markdown",
      "metadata": {
        "id": "jZ0BKNHOxu5o"
      },
      "source": [
        "### AirTime"
      ]
    },
    {
      "cell_type": "code",
      "execution_count": null,
      "metadata": {
        "colab": {
          "background_save": true
        },
        "id": "FObMOpGUxu5o",
        "outputId": "982829b4-b415-435b-b23a-15b75e9eb806"
      },
      "outputs": [],
      "source": [
        "print(\"----------General feature information----------\")\n",
        "print(df.AirTime.describe())\n",
        "print()\n",
        "print(\"----------Value information----------\")\n",
        "print(df.AirTime.value_counts())\n",
        "print()\n",
        "print(\"----------Sorted value information----------\")\n",
        "print(df.groupby('AirTime').AirTime.value_counts())\n",
        "\n",
        "plt.figure(figsize=(10, 6))\n",
        "sns.histplot(data=df, x='AirTime', bins=df['AirTime'].nunique(),\n",
        "             stat='count', palette=\"light:m_r\", edgecolor=\".3\", linewidth=.5)\n",
        "plt.xlabel('AirTime')\n",
        "plt.ylabel('Number of Values')\n",
        "plt.title('Number of Values for Each AirTime')\n",
        "plt.show()"
      ]
    },
    {
      "cell_type": "markdown",
      "metadata": {
        "id": "v3qgy_C_xu5o"
      },
      "source": [
        "### Distance"
      ]
    },
    {
      "cell_type": "code",
      "execution_count": null,
      "metadata": {
        "colab": {
          "background_save": true
        },
        "id": "hkzFQVQkxu5o",
        "outputId": "1874930e-27b1-47a5-edd8-32d9abf5c62c"
      },
      "outputs": [],
      "source": [
        "print(\"----------General feature information----------\")\n",
        "print(df.Distance.describe())\n",
        "print()\n",
        "print(\"----------Value information----------\")\n",
        "print(df.Distance.value_counts())\n",
        "print()\n",
        "print(\"----------Sorted value information----------\")\n",
        "print(df.groupby('Distance').Distance.value_counts())\n",
        "\n",
        "plt.figure(figsize=(10, 6))\n",
        "sns.histplot(data=df, x='Distance', bins=df['Distance'].nunique(),\n",
        "             stat='count', palette=\"light:m_r\", edgecolor=\".3\", linewidth=.5)\n",
        "plt.xlabel('Distance')\n",
        "plt.ylabel('Number of Values')\n",
        "plt.title('Number of Values for Each Distance')\n",
        "plt.show()"
      ]
    },
    {
      "cell_type": "code",
      "execution_count": null,
      "metadata": {
        "colab": {
          "background_save": true
        },
        "id": "G7p_pHgjxu5p",
        "outputId": "5d5789b9-f8df-4b5e-e170-49406f1aa4a7"
      },
      "outputs": [],
      "source": [
        "data_1H_arr['Distance'] = data_1H_dep['Distance'] = data_1M_arr['Distance'] = data_1M_dep['Distance'] = data_6M_arr['Distance'] = data_6M_dep['Distance'] = df['Distance']\n",
        "data_1H_arr.info()"
      ]
    },
    {
      "cell_type": "markdown",
      "metadata": {
        "id": "kK_-Cv8Bxu5p"
      },
      "source": [
        "### DistanceGroup"
      ]
    },
    {
      "cell_type": "code",
      "execution_count": null,
      "metadata": {
        "colab": {
          "background_save": true
        },
        "id": "6LBO4vHWxu5p",
        "outputId": "c3ed9df8-df4a-49db-8f7f-96bedc73f932"
      },
      "outputs": [],
      "source": [
        "print(\"----------General feature information----------\")\n",
        "print(df.DistanceGroup.describe())\n",
        "print()\n",
        "print(\"----------Value information----------\")\n",
        "print(df.DistanceGroup.value_counts())\n",
        "print()\n",
        "print(\"----------Sorted value information----------\")\n",
        "print(df.groupby('DistanceGroup').DistanceGroup.value_counts())\n",
        "\n",
        "plt.figure(figsize=(10, 6))\n",
        "sns.histplot(data=df, x='DistanceGroup', bins=10,\n",
        "             stat='count', palette=\"light:m_r\", edgecolor=\".3\", linewidth=.5)\n",
        "plt.xlabel('DistanceGroup')\n",
        "plt.ylabel('Number of Values')\n",
        "plt.title('Number of Values for Each DistanceGroup')\n",
        "plt.show()"
      ]
    },
    {
      "cell_type": "code",
      "execution_count": null,
      "metadata": {
        "colab": {
          "background_save": true
        },
        "id": "YIEeq4Tdxu5p",
        "outputId": "482eac67-f25f-4aa2-d638-2d843d52085b"
      },
      "outputs": [],
      "source": [
        "data_1H_arr['DistanceGroup'] = data_1H_dep['DistanceGroup'] = data_1M_arr['DistanceGroup'] = data_1M_dep['DistanceGroup'] = data_6M_arr['DistanceGroup'] = data_6M_dep['DistanceGroup'] = df['DistanceGroup']\n",
        "data_1H_arr.info()"
      ]
    },
    {
      "cell_type": "markdown",
      "metadata": {
        "id": "vfJTRXTUxu5p"
      },
      "source": [
        "### Weather"
      ]
    },
    {
      "cell_type": "code",
      "execution_count": null,
      "metadata": {
        "colab": {
          "background_save": true
        },
        "id": "dSiSGfluxu5p"
      },
      "outputs": [],
      "source": [
        "hourly_weather_dep = ['HourlyAvgTemperatureDep',\n",
        "                      'HourlyAvgDewPointDep',\n",
        "                      'HourlyAvgRelativeHumidityDep',\n",
        "                      'HourlyAvgWindSpeedDep',\n",
        "                      'HourlyAvgVisibilityDep',]\n",
        "\n",
        "hourly_weather_arr = ['HourlyAvgTemperatureArr',\n",
        "                      'HourlyAvgDewPointArr',\n",
        "                      'HourlyAvgRelativeHumidityArr',\n",
        "                      'HourlyAvgWindSpeedArr',\n",
        "                      'HourlyAvgVisibilityArr']\n",
        "\n",
        "monthly_weather = ['MonthlyAvgTemperature',\n",
        "                   'MonthlyAvgDewPoint',\n",
        "                   'MonthlyAvgRelativeHumidity']"
      ]
    },
    {
      "cell_type": "code",
      "execution_count": null,
      "metadata": {
        "colab": {
          "background_save": true
        },
        "id": "6cd2N5zjxu5q"
      },
      "outputs": [],
      "source": [
        "for metric in hourly_weather_dep:\n",
        "    data_1H_dep[metric] = df[metric]\n",
        "\n",
        "for metric in hourly_weather_arr:\n",
        "    data_1H_arr[metric] = df[metric]\n",
        "\n",
        "for metric in monthly_weather:\n",
        "    data_1M_dep[metric] = df[metric]\n",
        "    data_1M_arr[metric] = df[metric]"
      ]
    },
    {
      "cell_type": "code",
      "execution_count": null,
      "metadata": {
        "colab": {
          "background_save": true
        },
        "id": "Qtru81ESxu5v",
        "outputId": "9e7b8208-56e3-4c52-c169-08bde6e765f9"
      },
      "outputs": [],
      "source": [
        "data_1H_arr.head()"
      ]
    },
    {
      "cell_type": "code",
      "execution_count": null,
      "metadata": {
        "colab": {
          "background_save": true
        },
        "id": "8gx8Atc8xu5v",
        "outputId": "c0e63180-8e08-49da-c588-82879a9cd1f2"
      },
      "outputs": [],
      "source": [
        "data_1H_arr.info()"
      ]
    },
    {
      "cell_type": "markdown",
      "metadata": {
        "id": "J0N7cEivxu5x"
      },
      "source": [
        "### Separate in Arrival and Departure Flights"
      ]
    },
    {
      "cell_type": "code",
      "execution_count": null,
      "metadata": {
        "colab": {
          "background_save": true
        },
        "id": "71DzzN5bxu5y",
        "outputId": "bbedfd3a-2bd4-4ee1-cb4e-1a34d74a6ca7"
      },
      "outputs": [],
      "source": [
        "print(\"Origin in 1H_dep:\", data_1H_dep.Origin.nunique())\n",
        "print(\"Dest in 1H_arr\", data_1H_arr.Dest.nunique())"
      ]
    },
    {
      "cell_type": "code",
      "execution_count": null,
      "metadata": {
        "colab": {
          "background_save": true
        },
        "id": "YTo6UuRpxu5y"
      },
      "outputs": [],
      "source": [
        "# Separate arriving and departing flights using boolean indexing\n",
        "data_1H_arr = data_1H_arr[data_1H_arr['Dest'] == 0]\n",
        "data_1H_dep = data_1H_dep[data_1H_dep['Origin'] == 0]\n",
        "data_1M_arr = data_1M_arr[data_1M_arr['Dest'] == 0]\n",
        "data_1M_dep = data_1M_dep[data_1M_dep['Origin'] == 0]\n",
        "data_6M_arr = data_6M_arr[data_6M_arr['Dest'] == 0]\n",
        "data_6M_dep = data_6M_dep[data_6M_dep['Origin'] == 0]"
      ]
    },
    {
      "cell_type": "code",
      "execution_count": null,
      "metadata": {
        "colab": {
          "background_save": true
        },
        "id": "MnnOgEgxxu5y",
        "outputId": "ba965dab-2d5e-486d-bd15-aef104d35a4f"
      },
      "outputs": [],
      "source": [
        "print(\"Origin in 1H_dep:\", data_1H_dep.Origin.nunique())\n",
        "print(\"Dest in 1H_arr\", data_1H_arr.Dest.nunique())"
      ]
    },
    {
      "cell_type": "code",
      "execution_count": null,
      "metadata": {
        "colab": {
          "background_save": true
        },
        "id": "dQk0rl48qpMg"
      },
      "outputs": [],
      "source": [
        "columns_to_drop = ['Dest', 'DestLongitude', 'DestLatitude']\n",
        "data_1H_arr.drop(columns=columns_to_drop, inplace=True)\n",
        "data_1M_arr.drop(columns=columns_to_drop, inplace=True)\n",
        "data_6M_arr.drop(columns=columns_to_drop, inplace=True)"
      ]
    },
    {
      "cell_type": "code",
      "execution_count": null,
      "metadata": {
        "colab": {
          "background_save": true
        },
        "id": "t13Hrfzmrnx2"
      },
      "outputs": [],
      "source": [
        "columns_to_drop = ['Origin', 'OriginLongitude', 'OriginLatitude']\n",
        "data_1H_dep.drop(columns=columns_to_drop, inplace=True)\n",
        "data_1M_dep.drop(columns=columns_to_drop, inplace=True)\n",
        "data_6M_dep.drop(columns=columns_to_drop, inplace=True)"
      ]
    },
    {
      "cell_type": "code",
      "execution_count": null,
      "metadata": {
        "colab": {
          "background_save": true
        },
        "id": "d0pXPwa7RHq3",
        "outputId": "4c530be4-4aff-4ef7-fe5f-8350e3321dc9"
      },
      "outputs": [],
      "source": [
        "data_1H_arr.head()"
      ]
    },
    {
      "cell_type": "code",
      "execution_count": null,
      "metadata": {
        "colab": {
          "background_save": true
        },
        "id": "jc7z3WUOxu5y",
        "outputId": "66287950-6408-4f26-a8ae-9f7fd9f0321a"
      },
      "outputs": [],
      "source": [
        "data_1H_dep.head()"
      ]
    },
    {
      "cell_type": "code",
      "execution_count": null,
      "metadata": {
        "colab": {
          "background_save": true
        },
        "id": "CtEYEGanxu5y",
        "outputId": "dfd2f995-8ded-44c1-ee26-634e84d228c6"
      },
      "outputs": [],
      "source": [
        "print(data_1H_dep.shape)"
      ]
    },
    {
      "cell_type": "code",
      "execution_count": null,
      "metadata": {
        "colab": {
          "background_save": true
        },
        "id": "NMWuWdvOxu5z",
        "outputId": "aabefaba-b37c-4824-cecb-772617a634a5"
      },
      "outputs": [],
      "source": [
        "print(data_1H_arr.shape)"
      ]
    },
    {
      "cell_type": "markdown",
      "metadata": {
        "id": "b8IQ5RQLxu5v"
      },
      "source": [
        "## Multivariable Exploration"
      ]
    },
    {
      "cell_type": "code",
      "execution_count": null,
      "metadata": {
        "colab": {
          "background_save": true
        },
        "id": "ZrkCyM2Bxu5v"
      },
      "outputs": [],
      "source": [
        "datasets = [data_1H_arr, data_1H_dep, data_1M_arr, data_1M_dep, data_6M_arr, data_6M_dep]"
      ]
    },
    {
      "cell_type": "code",
      "execution_count": null,
      "metadata": {
        "colab": {
          "background_save": true
        },
        "id": "00ueP94UO_LC",
        "outputId": "2bc70929-b4dc-4af4-8e15-01d83e0b8c6e"
      },
      "outputs": [],
      "source": [
        "for dataset in datasets:\n",
        "    print(dataset.isnull().sum())"
      ]
    },
    {
      "cell_type": "code",
      "execution_count": null,
      "metadata": {
        "colab": {
          "background_save": true
        },
        "id": "M84TSJyPO6VR"
      },
      "outputs": [],
      "source": [
        "# Drop NaN values since they make up 1% of the data\n",
        "data_1H_arr.dropna(inplace=True)\n",
        "data_1H_dep.dropna(inplace=True)\n",
        "data_1M_arr.dropna(inplace=True)\n",
        "data_1M_dep.dropna(inplace=True)\n",
        "data_6M_arr.dropna(inplace=True)\n",
        "data_6M_dep.dropna(inplace=True)"
      ]
    },
    {
      "cell_type": "markdown",
      "metadata": {
        "id": "XKb0BKKWSitb"
      },
      "source": [
        "### Pearson Correlation Matrix"
      ]
    },
    {
      "cell_type": "code",
      "execution_count": null,
      "metadata": {
        "colab": {
          "background_save": true
        },
        "id": "0Ko5hLULfaTi"
      },
      "outputs": [],
      "source": [
        "# Features to exclude from correlation analysis\n",
        "exclude_features = [\"ArrDelay\", \"DepDelay\"] # Target variables should never be excluded\n",
        "corr_features = []"
      ]
    },
    {
      "cell_type": "code",
      "execution_count": null,
      "metadata": {
        "colab": {
          "background_save": true
        },
        "id": "6r7QnSj4xu5w",
        "outputId": "1ee3552e-e086-40a8-8afa-f6b25d23afa1"
      },
      "outputs": [],
      "source": [
        "# Define the substring to identify Longitude and Latitude features\n",
        "longitude_substring = 'Longitude'\n",
        "latitude_substring = 'Latitude'\n",
        "\n",
        "for idx, dataset in enumerate(datasets):\n",
        "    # Exclude specified features from the correlation analysis\n",
        "    dataset_subset = dataset.drop(columns=exclude_features, errors='ignore')\n",
        "\n",
        "    correlation_matrix = dataset_subset.corr()\n",
        "    correlated_features = set()\n",
        "    correlated_pairs = []\n",
        "    processed_features = set()\n",
        "\n",
        "    for i in range(len(correlation_matrix.columns)):\n",
        "        for j in range(i):\n",
        "            if abs(correlation_matrix.iloc[i, j]) > 0.8:\n",
        "                feature_1 = correlation_matrix.columns[i]\n",
        "                feature_2 = correlation_matrix.columns[j]\n",
        "                colname = correlation_matrix.columns[i]\n",
        "                correlated_pairs.append((feature_1, feature_2, correlation_matrix.iloc[i, j]))\n",
        "\n",
        "                # Only remove sine and cosine as well as longitude and latitude features if both correlate above the threshold with the same feature\n",
        "                if ' (sin)' in feature_1:\n",
        "                    cosine_feature = feature_1.replace(' (sin)', ' (cos)')\n",
        "                    if cosine_feature in correlation_matrix.columns and cosine_feature not in processed_features:\n",
        "                        colname_cosine = feature_1.replace(' (sin)', '')\n",
        "                        correlated_pairs.append((feature_1, cosine_feature, correlation_matrix.loc[feature_1, cosine_feature]))\n",
        "                        correlated_features.add(colname)\n",
        "                        correlated_features.add(colname_cosine)\n",
        "                        processed_features.add(colname)\n",
        "                        processed_features.add(colname_cosine)\n",
        "                    else:\n",
        "                        correlated_features.add(colname)\n",
        "                        processed_features.add(colname)\n",
        "                elif ' (cos)' in feature_1 and feature_1 not in processed_features:\n",
        "                    sin_feature = feature_1.replace(' (cos)', ' (sin)')\n",
        "                    if sin_feature in correlation_matrix.columns:\n",
        "                        colname_sin = sin_feature.replace(' (sin)', '')\n",
        "                        correlated_pairs.append((sin_feature, feature_1, correlation_matrix.loc[sin_feature, feature_1]))\n",
        "                        correlated_features.add(colname_sin)\n",
        "                        correlated_features.add(colname)\n",
        "                        processed_features.add(colname_sin)\n",
        "                        processed_features.add(colname)\n",
        "                    else:\n",
        "                        correlated_features.add(colname)\n",
        "                        processed_features.add(colname)\n",
        "                elif longitude_substring in feature_1:\n",
        "                    latitude_feature = feature_1.replace(longitude_substring, latitude_substring)\n",
        "                    if latitude_feature in correlation_matrix.columns and latitude_feature not in processed_features:\n",
        "                        correlated_pairs.append((feature_1, latitude_feature, correlation_matrix.loc[feature_1, latitude_feature]))\n",
        "                        correlated_features.add(colname)\n",
        "                        correlated_features.add(latitude_feature.replace(latitude_substring, ''))\n",
        "                        processed_features.add(colname)\n",
        "                        processed_features.add(latitude_feature)\n",
        "                    else:\n",
        "                        correlated_features.add(colname)\n",
        "                        processed_features.add(colname)\n",
        "                else:\n",
        "                    correlated_features.add(colname)\n",
        "                    processed_features.add(colname)\n",
        "\n",
        "    print(correlated_features)\n",
        "    print(correlated_pairs)\n",
        "    corr_features.append(list(correlated_features))\n",
        "\n",
        "    # Set figsize based on the index of the dataset\n",
        "    figsize = (15, 21)\n",
        "\n",
        "    # Create a heatmap\n",
        "    mask = np.triu(np.ones_like(correlation_matrix, dtype=bool))\n",
        "    fig, ax = plt.subplots(figsize=figsize, dpi=300)\n",
        "\n",
        "    # Create a heatmap without annotations\n",
        "    heatmap = sns.heatmap(correlation_matrix, mask=mask, ax=ax, cmap='coolwarm', linewidths=.5, annot=False, vmin=-1, vmax=1, cbar_kws={})\n",
        "    cbar = heatmap.collections[0].colorbar\n",
        "    cbar.ax.tick_params(labelsize=16)\n",
        "\n",
        "    # Annotate only the correlated feature pairs within the matrix\n",
        "    for pair in correlated_pairs:\n",
        "        i = np.where(correlation_matrix.columns == pair[0])[0][0]\n",
        "        j = np.where(correlation_matrix.columns == pair[1])[0][0]\n",
        "        ax.text(j + 0.5, i + 0.5, f\"{pair[2]:.2f}\", ha='center', va='center', fontsize=12, color='white', rotation='vertical')\n",
        "\n",
        "    # ax.set_xticklabels(ax.get_xticklabels(), rotation=45, ha='right')\n",
        "    plt.xticks(fontsize=18)\n",
        "    plt.yticks(fontsize=18)\n",
        "\n",
        "    plt.show()"
      ]
    },
    {
      "cell_type": "markdown",
      "metadata": {
        "id": "u80tGv2N9SWb"
      },
      "source": [
        "### Feature Selection"
      ]
    },
    {
      "cell_type": "code",
      "execution_count": null,
      "metadata": {
        "colab": {
          "background_save": true
        },
        "id": "EAAKANUDlIOS",
        "outputId": "f9cbd5a0-6a5a-4e42-f7ab-9a3ff5ad9b69"
      },
      "outputs": [],
      "source": [
        "print(len(corr_features))"
      ]
    },
    {
      "cell_type": "code",
      "execution_count": null,
      "metadata": {
        "colab": {
          "background_save": true
        },
        "id": "zmT4KJWn9Py8",
        "outputId": "00b79286-f4e8-4c31-f556-e3956c663dbb"
      },
      "outputs": [],
      "source": [
        "print(corr_features)"
      ]
    },
    {
      "cell_type": "code",
      "execution_count": null,
      "metadata": {
        "colab": {
          "background_save": true
        },
        "id": "I5WHo3UplCsT"
      },
      "outputs": [],
      "source": [
        "# Remove non-existent feature\n",
        "for sublist in corr_features:\n",
        "    if 'CRSArrTime' in sublist:\n",
        "        sublist.remove('CRSArrTime')"
      ]
    },
    {
      "cell_type": "code",
      "execution_count": null,
      "metadata": {
        "colab": {
          "background_save": true
        },
        "id": "vmjdt-6xlFpV",
        "outputId": "200e3c96-3aba-49ce-add9-07b98804043f"
      },
      "outputs": [],
      "source": [
        "print(corr_features)"
      ]
    },
    {
      "cell_type": "code",
      "execution_count": null,
      "metadata": {
        "colab": {
          "background_save": true
        },
        "id": "kVRg9V-Y9Nsh"
      },
      "outputs": [],
      "source": [
        "data_1H_arr = data_1H_arr.drop(corr_features[0], axis=1)\n",
        "data_1H_dep = data_1H_dep.drop(corr_features[1], axis=1)\n",
        "data_1M_arr = data_1M_arr.drop(corr_features[2], axis=1)\n",
        "data_1M_dep = data_1M_dep.drop(corr_features[3], axis=1)\n",
        "data_6M_arr = data_6M_arr.drop(corr_features[4], axis=1)\n",
        "data_6M_dep = data_6M_dep.drop(corr_features[5], axis=1)"
      ]
    },
    {
      "cell_type": "code",
      "execution_count": null,
      "metadata": {
        "colab": {
          "background_save": true
        },
        "id": "RLPSU1D3-j6A"
      },
      "outputs": [],
      "source": [
        "cleaned_datasets = [data_1H_arr, data_1H_dep, data_1M_arr, data_1M_dep, data_6M_arr, data_6M_dep]"
      ]
    },
    {
      "cell_type": "markdown",
      "metadata": {
        "id": "Ou3rBw2aljzm"
      },
      "source": [
        "Check if the cleaned datasets still contain unallowed correlation pairs."
      ]
    },
    {
      "cell_type": "code",
      "execution_count": null,
      "metadata": {
        "colab": {
          "background_save": true
        },
        "id": "7hCgqSQu-fZ-",
        "outputId": "892da6c0-0fbe-4d32-b25d-d03b93ff8e97"
      },
      "outputs": [],
      "source": [
        "# Define the substring to identify Longitude and Latitude features\n",
        "longitude_substring = 'Longitude'\n",
        "latitude_substring = 'Latitude'\n",
        "\n",
        "for idx, dataset in enumerate(cleaned_datasets):\n",
        "    # Exclude specified features from the correlation analysis\n",
        "    dataset_subset = dataset.drop(columns=exclude_features, errors='ignore')\n",
        "\n",
        "    correlation_matrix = dataset_subset.corr()\n",
        "    correlated_features = set()\n",
        "    correlated_pairs = []\n",
        "    processed_features = set()\n",
        "\n",
        "    for i in range(len(correlation_matrix.columns)):\n",
        "        for j in range(i):\n",
        "            if abs(correlation_matrix.iloc[i, j]) > 0.8:\n",
        "                feature_1 = correlation_matrix.columns[i]\n",
        "                feature_2 = correlation_matrix.columns[j]\n",
        "                colname = correlation_matrix.columns[i]\n",
        "                correlated_pairs.append((feature_1, feature_2, correlation_matrix.iloc[i, j]))\n",
        "\n",
        "                # Only remove sine and cosine as well as longitude and latitude features if both correlate above the threshold with the same feature\n",
        "                if ' (sin)' in feature_1:\n",
        "                    cosine_feature = feature_1.replace(' (sin)', ' (cos)')\n",
        "                    if cosine_feature in correlation_matrix.columns and cosine_feature not in processed_features:\n",
        "                        colname_cosine = feature_1.replace(' (sin)', '')\n",
        "                        correlated_pairs.append((feature_1, cosine_feature, correlation_matrix.loc[feature_1, cosine_feature]))\n",
        "                        correlated_features.add(colname)\n",
        "                        correlated_features.add(colname_cosine)\n",
        "                        processed_features.add(colname)\n",
        "                        processed_features.add(colname_cosine)\n",
        "                    else:\n",
        "                        correlated_features.add(colname)\n",
        "                        processed_features.add(colname)\n",
        "                elif ' (cos)' in feature_1 and feature_1 not in processed_features:\n",
        "                    sin_feature = feature_1.replace(' (cos)', ' (sin)')\n",
        "                    if sin_feature in correlation_matrix.columns:\n",
        "                        colname_sin = sin_feature.replace(' (sin)', '')\n",
        "                        correlated_pairs.append((sin_feature, feature_1, correlation_matrix.loc[sin_feature, feature_1]))\n",
        "                        correlated_features.add(colname_sin)\n",
        "                        correlated_features.add(colname)\n",
        "                        processed_features.add(colname_sin)\n",
        "                        processed_features.add(colname)\n",
        "                    else:\n",
        "                        correlated_features.add(colname)\n",
        "                        processed_features.add(colname)\n",
        "                elif longitude_substring in feature_1:\n",
        "                    latitude_feature = feature_1.replace(longitude_substring, latitude_substring)\n",
        "                    if latitude_feature in correlation_matrix.columns and latitude_feature not in processed_features:\n",
        "                        correlated_pairs.append((feature_1, latitude_feature, correlation_matrix.loc[feature_1, latitude_feature]))\n",
        "                        correlated_features.add(colname)\n",
        "                        correlated_features.add(latitude_feature.replace(latitude_substring, ''))\n",
        "                        processed_features.add(colname)\n",
        "                        processed_features.add(latitude_feature)\n",
        "                    else:\n",
        "                        correlated_features.add(colname)\n",
        "                        processed_features.add(colname)\n",
        "                else:\n",
        "                    correlated_features.add(colname)\n",
        "                    processed_features.add(colname)\n",
        "\n",
        "    print(correlated_features)\n",
        "    print(correlated_pairs)\n",
        "    corr_features.append(list(correlated_features))\n",
        "\n",
        "    # Set figsize based on the index of the dataset\n",
        "    figsize = (15, 21)\n",
        "\n",
        "    # Create a heatmap\n",
        "    mask = np.triu(np.ones_like(correlation_matrix, dtype=bool))\n",
        "    fig, ax = plt.subplots(figsize=figsize, dpi=300)\n",
        "\n",
        "    # Create a heatmap without annotations\n",
        "    heatmap = sns.heatmap(correlation_matrix, mask=mask, ax=ax, cmap='coolwarm', linewidths=.5, annot=False, vmin=-1, vmax=1, cbar_kws={})\n",
        "    cbar = heatmap.collections[0].colorbar\n",
        "    cbar.ax.tick_params(labelsize=16)\n",
        "\n",
        "    # Annotate only the correlated feature pairs within the matrix\n",
        "    for pair in correlated_pairs:\n",
        "        i = np.where(correlation_matrix.columns == pair[0])[0][0]\n",
        "        j = np.where(correlation_matrix.columns == pair[1])[0][0]\n",
        "        ax.text(j + 0.5, i + 0.5, f\"{pair[2]:.2f}\", ha='center', va='center', fontsize=12, color='white', rotation='vertical')\n",
        "\n",
        "    # ax.set_xticklabels(ax.get_xticklabels(), rotation=45, ha='right')\n",
        "    plt.xticks(fontsize=18)\n",
        "    plt.yticks(fontsize=18)\n",
        "\n",
        "    plt.show()"
      ]
    },
    {
      "cell_type": "markdown",
      "metadata": {
        "id": "68Xz5PE3d-le"
      },
      "source": [
        "## Sampling"
      ]
    },
    {
      "cell_type": "code",
      "execution_count": null,
      "metadata": {
        "colab": {
          "background_save": true
        },
        "id": "woxM_2gDbFx0"
      },
      "outputs": [],
      "source": [
        "arrivals_data = [data_1H_arr, data_1M_arr, data_6M_arr]\n",
        "departures_data = [data_1H_dep, data_1M_dep, data_6M_dep]\n",
        "sampled_arrivals = []\n",
        "sampled_departures = []"
      ]
    },
    {
      "cell_type": "code",
      "execution_count": null,
      "metadata": {
        "colab": {
          "background_save": true
        },
        "id": "iOX0uw0bbPbl"
      },
      "outputs": [],
      "source": [
        "# Define the common bins for 'DepDelay' stratification\n",
        "bins = [-float('inf'), -75, -60, -45, -30, -15, 0, 15, 30, 45, 60, 75, 90, 105, 120, 135, 150, 165, float('inf')]\n",
        "\n",
        "# Define the maximum fraction to keep\n",
        "max_fraction_to_keep = 0.2\n",
        "\n",
        "# Loop through arrivals_data\n",
        "for arrival in arrivals_data:\n",
        "    # Stratified sampling based on 'ArrDelay'\n",
        "    strata = pd.cut(arrival['ArrDelay'], bins=bins)\n",
        "    proportions = strata.value_counts(normalize=True)\n",
        "\n",
        "    # Calculate the maximum allowed fraction based on the maximum limit\n",
        "    max_allowed_fraction = proportions * max_fraction_to_keep\n",
        "\n",
        "    # Sample from each stratum with the specified fraction, ensuring it doesn't exceed the maximum\n",
        "    sampled_data = arrival.groupby(strata, group_keys=False).apply(lambda x: x.sample(frac=min(max_allowed_fraction.loc[x.name], 1.0)))\n",
        "    sampled_arrivals.append(sampled_data)\n",
        "\n",
        "# Loop through departures_data\n",
        "for departure in departures_data:\n",
        "    # Stratified sampling based on 'DepDelay'\n",
        "    strata = pd.cut(departure['DepDelay'], bins=bins)\n",
        "    proportions = strata.value_counts(normalize=True)\n",
        "\n",
        "    # Calculate the maximum allowed fraction based on the maximum limit\n",
        "    max_allowed_fraction = proportions * max_fraction_to_keep\n",
        "\n",
        "    # Sample from each stratum with the specified fraction\n",
        "    sampled_data = departure.groupby(strata, group_keys=False).apply(lambda x: x.sample(frac=min(max_allowed_fraction.loc[x.name], 1.0)))\n",
        "    sampled_departures.append(sampled_data)"
      ]
    },
    {
      "cell_type": "code",
      "execution_count": null,
      "metadata": {
        "colab": {
          "background_save": true
        },
        "id": "R6YRLXoQbVd3"
      },
      "outputs": [],
      "source": [
        "data_1H_arr = sampled_arrivals[0]\n",
        "data_1H_dep = sampled_departures[0]\n",
        "data_1M_arr = sampled_arrivals[1]\n",
        "data_1M_dep = sampled_departures[1]\n",
        "data_6M_arr = sampled_arrivals[2]\n",
        "data_6M_dep = sampled_departures[2]"
      ]
    },
    {
      "cell_type": "markdown",
      "metadata": {
        "id": "7cQLKaTcxu5w"
      },
      "source": [
        "# 4 Splitting the Dataframes"
      ]
    },
    {
      "cell_type": "markdown",
      "metadata": {
        "id": "qJ5Y8vG8xu5z"
      },
      "source": [
        "### Split into x and y"
      ]
    },
    {
      "cell_type": "code",
      "execution_count": null,
      "metadata": {
        "colab": {
          "background_save": true
        },
        "id": "3UJUXx4Fxu5z"
      },
      "outputs": [],
      "source": [
        "data_1H_arr_x, data_1H_dep_x, data_1M_arr_x, data_1M_dep_x, data_6M_arr_x, data_6M_dep_x = data_1H_arr.drop('ArrDelay', axis = 1), data_1H_dep.drop('DepDelay', axis = 1), data_1M_arr.drop('ArrDelay', axis = 1), data_1M_dep.drop('DepDelay', axis = 1), data_6M_arr.drop('ArrDelay', axis = 1), data_6M_dep.drop('DepDelay', axis = 1)"
      ]
    },
    {
      "cell_type": "code",
      "execution_count": null,
      "metadata": {
        "colab": {
          "background_save": true
        },
        "id": "R_HGuY7sxu5z"
      },
      "outputs": [],
      "source": [
        "data_1H_arr_y = data_1H_arr['ArrDelay']\n",
        "data_1M_arr_y = data_1M_arr['ArrDelay']\n",
        "data_6M_arr_y = data_6M_arr['ArrDelay']\n",
        "data_1H_dep_y = data_1H_dep['DepDelay']\n",
        "data_1M_dep_y = data_1M_dep['DepDelay']\n",
        "data_6M_dep_y = data_6M_dep['DepDelay']"
      ]
    },
    {
      "cell_type": "code",
      "execution_count": null,
      "metadata": {
        "colab": {
          "background_save": true
        },
        "id": "MJmzODJuxu5z",
        "outputId": "597035b9-55ff-4eb8-d608-95658855bec3"
      },
      "outputs": [],
      "source": [
        "data_1H_arr_x.info()"
      ]
    },
    {
      "cell_type": "markdown",
      "metadata": {
        "id": "GnieKq30xu50"
      },
      "source": [
        "# 5 Scaling"
      ]
    },
    {
      "cell_type": "code",
      "execution_count": null,
      "metadata": {
        "colab": {
          "background_save": true
        },
        "id": "WUVBSbIWxu50",
        "outputId": "3107ee23-f721-464a-f9d9-c776a148d17f"
      },
      "outputs": [],
      "source": [
        "nscaler = preprocessing.MinMaxScaler()\n",
        "data_1H_arr_x.iloc[:,:], data_1H_dep_x.iloc[:,:], data_1M_arr_x.iloc[:,:], data_1M_dep_x.iloc[:,:], data_6M_arr_x.iloc[:,:], data_6M_dep_x.iloc[:,:] = nscaler.fit_transform(data_1H_arr_x.iloc[:,:]), nscaler.fit_transform(data_1H_dep_x.iloc[:,:]), nscaler.fit_transform(data_1M_arr_x.iloc[:,:]), nscaler.fit_transform(data_1M_dep_x.iloc[:,:]), nscaler.fit_transform(data_6M_arr_x.iloc[:,:]), nscaler.fit_transform(data_6M_dep_x.iloc[:,:])\n",
        "\n",
        "data_1H_arr_x.describe()"
      ]
    },
    {
      "cell_type": "code",
      "execution_count": null,
      "metadata": {
        "colab": {
          "background_save": true
        },
        "id": "CrwSgmojxu50",
        "outputId": "49939971-2bb7-491a-84c5-40176570224d"
      },
      "outputs": [],
      "source": [
        "data_1H_arr_x.head()"
      ]
    },
    {
      "cell_type": "code",
      "execution_count": null,
      "metadata": {
        "colab": {
          "background_save": true
        },
        "id": "HI3Lt5jQxu50",
        "outputId": "5d088f4a-9c57-41e4-907f-fe92955df8cb"
      },
      "outputs": [],
      "source": [
        "data_1H_arr_x.info()"
      ]
    },
    {
      "cell_type": "code",
      "execution_count": null,
      "metadata": {
        "colab": {
          "background_save": true
        },
        "id": "vYCaNBebxu51",
        "outputId": "2455d2bc-55f5-45cd-f48c-5342a61f6543"
      },
      "outputs": [],
      "source": [
        "print(data_1H_arr_x.isnull().sum())"
      ]
    },
    {
      "cell_type": "code",
      "execution_count": null,
      "metadata": {
        "colab": {
          "background_save": true
        },
        "id": "T5G5Xckdxu51",
        "outputId": "14c554c0-8b14-421c-f007-f56f8adfffb5"
      },
      "outputs": [],
      "source": [
        "print(data_1H_arr_x.dtypes)"
      ]
    },
    {
      "cell_type": "markdown",
      "metadata": {
        "id": "mrEYm0Tkxu51"
      },
      "source": [
        "# 6 Partitioning"
      ]
    },
    {
      "cell_type": "code",
      "execution_count": null,
      "metadata": {
        "colab": {
          "background_save": true
        },
        "id": "rIDg6n2rxu51"
      },
      "outputs": [],
      "source": [
        "training_set_percentage = 0.8 #@param {type:\"slider\", min:0, max:1, step:0.01}\n",
        "X_1_train, X_1_test, Y_1_train, Y_1_test = train_test_split(data_1H_arr_x, data_1H_arr_y, test_size = 1 - training_set_percentage, random_state=0)\n",
        "X_2_train, X_2_test, Y_2_train, Y_2_test = train_test_split(data_1H_dep_x, data_1H_dep_y, test_size = 1 - training_set_percentage, random_state=0)\n",
        "X_3_train, X_3_test, Y_3_train, Y_3_test = train_test_split(data_1M_arr_x, data_1M_arr_y, test_size = 1 - training_set_percentage, random_state=0)\n",
        "X_4_train, X_4_test, Y_4_train, Y_4_test = train_test_split(data_1M_dep_x, data_1M_dep_y, test_size = 1 - training_set_percentage, random_state=0)\n",
        "X_5_train, X_5_test, Y_5_train, Y_5_test = train_test_split(data_6M_arr_x, data_6M_arr_y, test_size = 1 - training_set_percentage, random_state=0)\n",
        "X_6_train, X_6_test, Y_6_train, Y_6_test = train_test_split(data_6M_dep_x, data_6M_dep_y, test_size = 1 - training_set_percentage, random_state=0)\n",
        "\n",
        "Y_1_train_mean,Y_2_train_mean,Y_3_train_mean,Y_4_train_mean,Y_5_train_mean,Y_6_train_mean = Y_1_test.mean(),Y_2_test.mean(),Y_3_test.mean(),Y_4_test.mean(),Y_5_test.mean(),Y_6_test.mean()\n",
        "Y_1_train_meandev,Y_2_train_meandev,Y_3_train_meandev,Y_4_train_meandev,Y_5_train_meandev,Y_6_train_meandev = sum((Y_1_train-Y_1_train_mean)**2),sum((Y_2_train-Y_2_train_mean)**2),sum((Y_3_train-Y_3_train_mean)**2),sum((Y_4_train-Y_4_train_mean)**2),sum((Y_5_train-Y_5_train_mean)**2),sum((Y_6_train-Y_6_train_mean)**2)\n",
        "Y_1_test_meandev,Y_2_test_meandev,Y_3_test_meandev,Y_4_test_meandev,Y_5_test_meandev,Y_6_test_meandev= sum((Y_1_test-Y_1_train_mean)**2),sum((Y_2_test-Y_2_train_mean)**2),sum((Y_3_test-Y_3_train_mean)**2),sum((Y_4_test-Y_4_train_mean)**2),sum((Y_5_test-Y_5_train_mean)**2),sum((Y_6_test-Y_6_train_mean)**2)"
      ]
    },
    {
      "cell_type": "markdown",
      "metadata": {
        "id": "lxPuJUNTxu51"
      },
      "source": [
        "Create a report dataframe to store the results."
      ]
    },
    {
      "cell_type": "code",
      "execution_count": null,
      "metadata": {
        "colab": {
          "background_save": true
        },
        "id": "FHZeRNoWxu52"
      },
      "outputs": [],
      "source": [
        "report = pd.DataFrame(columns=['Model', 'R2', 'Pseudo-R2', 'MeanTestScore', 'StdTestScore', 'MAE', 'MSE', 'RMSE', 'CRPS', 'Dataset'])"
      ]
    },
    {
      "cell_type": "markdown",
      "metadata": {
        "id": "12ixTWHIxu52"
      },
      "source": [
        "Create a list of datasets to be able to iterate through them quickly."
      ]
    },
    {
      "cell_type": "code",
      "execution_count": null,
      "metadata": {
        "colab": {
          "background_save": true
        },
        "id": "jyO2OJnMxu52"
      },
      "outputs": [],
      "source": [
        "datasets = [[X_1_train, Y_1_train, X_1_test, Y_1_test,Y_1_train_meandev,Y_1_test_meandev, '1H_arr', 0],\n",
        "            [X_2_train, Y_2_train, X_2_test, Y_2_test,Y_2_train_meandev,Y_2_test_meandev, '1H_dep', 1],\n",
        "            [X_3_train, Y_3_train, X_3_test, Y_3_test,Y_3_train_meandev,Y_3_test_meandev, '1M_arr', 2],\n",
        "            [X_4_train, Y_4_train, X_4_test, Y_4_test,Y_4_train_meandev,Y_4_test_meandev, '1M_dep', 3],\n",
        "            [X_5_train, Y_5_train, X_5_test, Y_5_test,Y_5_train_meandev,Y_5_test_meandev, '6M_arr', 4],\n",
        "            [X_6_train, Y_6_train, X_6_test, Y_6_test,Y_6_train_meandev,Y_6_test_meandev, '6M_dep', 5]]"
      ]
    },
    {
      "cell_type": "markdown",
      "metadata": {
        "id": "2eH_IVSVxu52"
      },
      "source": [
        "# 7 Algorithms"
      ]
    },
    {
      "cell_type": "markdown",
      "metadata": {
        "id": "RTLLjSxElW9g"
      },
      "source": [
        "### Styling"
      ]
    },
    {
      "cell_type": "code",
      "execution_count": null,
      "metadata": {
        "colab": {
          "background_save": true
        },
        "id": "rJpLinVhQeGV"
      },
      "outputs": [],
      "source": [
        "blue_shades = ['#ADD8E6', '#4682B4', '#000080']\n",
        "green_shades = ['#90EE90', '#008000', '#006400']\n",
        "orange_shades = ['#FFD700', '#FFA500', '#FF8C00']\n",
        "red_shades = ['#FFA07A', '#CD5C5C', '#8B0000']\n",
        "\n",
        "# Plotting colors\n",
        "colors = [blue_shades, green_shades, orange_shades, red_shades]\n",
        "dark_gray = '#A9A9A9'"
      ]
    },
    {
      "cell_type": "markdown",
      "metadata": {
        "id": "HlK3MyWvlY0X"
      },
      "source": [
        "### Metrics"
      ]
    },
    {
      "cell_type": "code",
      "execution_count": null,
      "metadata": {
        "colab": {
          "background_save": true
        },
        "id": "2MNsweeXlalj"
      },
      "outputs": [],
      "source": [
        "def calculate_cdf(predictions):\n",
        "    sorted_predictions = np.sort(predictions)\n",
        "    cdf = np.arange(1, len(sorted_predictions) + 1) / len(sorted_predictions)\n",
        "    return cdf\n",
        "\n",
        "def calculate_crps(predicted_cdf, observed_values):\n",
        "    crps_values = ps.crps_ensemble(observed_values, predicted_cdf)\n",
        "    return crps_values\n",
        "\n",
        "# Define a scorer for CRPS\n",
        "def crps_scorer(model, X, y):\n",
        "    # Make predictions with the model\n",
        "    predictions = model.predict(X)\n",
        "\n",
        "    # Calculate CRPS for each sample in the test set\n",
        "    crps_values = calculate_crps(calculate_cdf(predictions), y)\n",
        "\n",
        "    # Return the mean CRPS as the score\n",
        "    return np.mean(crps_values)"
      ]
    },
    {
      "cell_type": "markdown",
      "metadata": {
        "id": "3CPMiRRixu52"
      },
      "source": [
        "## Random Forrest"
      ]
    },
    {
      "cell_type": "code",
      "execution_count": null,
      "metadata": {
        "colab": {
          "base_uri": "https://localhost:8080/",
          "height": 417
        },
        "id": "3CDwvL9Zxu52",
        "outputId": "a5e61ecb-c5aa-45c8-f6c5-90f925e6f347"
      },
      "outputs": [],
      "source": [
        "from scipy.stats import gaussian_kde\n",
        "for X_train, Y_train, X_test, Y_test, Y_train_meandev, Y_test_meandev, data_set, data_set_id in datasets:\n",
        "    print(\"-------- Data Set:\", data_set, \"--------\")\n",
        "    # Define the random forest regressor\n",
        "    RForregCV = RandomForestRegressor(random_state=0)\n",
        "\n",
        "    # Define the parameter grid for grid search\n",
        "    param_grid = {\n",
        "        'max_depth': [8], # tested: [5, 8, 9, 10, 11, 12, 15, 20, 25]\n",
        "        'n_estimators': [250] # tested: [10, 50, 100, 150, 200, 250, 300, 400, 500]\n",
        "    }\n",
        "\n",
        "    xlabel = ''\n",
        "    color = 'green'\n",
        "    lightorange = '#ffcc66'\n",
        "\n",
        "    if data_set_id % 2 == 0:\n",
        "        xlabel = 'Arrival delay - STD at 0 [min]'\n",
        "        color = 'lightblue'\n",
        "    else:\n",
        "        xlabel = 'Departure delay - STA at 0 [min]'\n",
        "        color = lightorange\n",
        "\n",
        "    # Perform grid search with cross-validation\n",
        "    CV_rfmodel = GridSearchCV(estimator=RForregCV, param_grid=param_grid, cv=10, scoring=crps_scorer)\n",
        "    CV_rfmodel.fit(X_train, Y_train)\n",
        "    print(\"Best Parameters:\", CV_rfmodel.best_params_)\n",
        "\n",
        "    # Set the model with the best parameters\n",
        "    RForregCV = RForregCV.set_params(**CV_rfmodel.best_params_)\n",
        "\n",
        "    # Fit the model on the training data\n",
        "    RForregCV.fit(X_train, Y_train)\n",
        "\n",
        "    # Get predictions from individual trees\n",
        "    tree_predictions = [tree.predict(X_test) for tree in RForregCV.estimators_]\n",
        "\n",
        "    # Combine predictions by taking the average\n",
        "    combined_predictions = np.mean(np.vstack(tree_predictions), axis=0)\n",
        "\n",
        "    kde = gaussian_kde(combined_predictions.T)\n",
        "    # Evaluate the density at specific points\n",
        "    x_grid = np.linspace(min(combined_predictions.flatten()), max(combined_predictions.flatten()), 100)\n",
        "    density_values = kde.evaluate(x_grid)\n",
        "\n",
        "    # Generate a PDF for visualization\n",
        "    x_values = np.linspace(min(combined_predictions.flatten()), max(combined_predictions.flatten()), 100)\n",
        "    pdf_values = kde.evaluate(x_values)\n",
        "\n",
        "    # Convert Y_test to a NumPy array and then create a KDE\n",
        "    Y_test_array = np.array(Y_test)\n",
        "    kde_test = gaussian_kde(Y_test_array.T)\n",
        "\n",
        "    # Evaluate the density at specific points for test data\n",
        "    x_grid_test = np.linspace(min(Y_test_array.flatten()), max(Y_test_array.flatten()), 100)\n",
        "    density_values_test = kde_test.evaluate(x_grid_test)\n",
        "\n",
        "    # Generate a PDF for visualization\n",
        "    x_values_test = np.linspace(min(Y_test_array.flatten()), max(Y_test_array.flatten()), 100)\n",
        "    pdf_values_test = kde.evaluate(x_values)\n",
        "\n",
        "    num_samples = len(Y_test)  # Adjusted to the length of Y_test\n",
        "    individual_forecasts = kde.resample(size=num_samples).flatten()\n",
        "\n",
        "    # Set the figure size and DPI\n",
        "    plt.figure(figsize=(8, 4.5), dpi=300)\n",
        "    plt.plot(x_values, pdf_values, color=color, label='Predictions KDE')\n",
        "    plt.plot(x_values_test, pdf_values_test, color=dark_gray, label=\"True values\")\n",
        "    plt.xlim(-50, 150)\n",
        "    plt.xlabel(xlabel)\n",
        "    plt.ylabel('Estimated probability density')\n",
        "    plt.legend()\n",
        "    plt.show()\n",
        "\n",
        "    # R2\n",
        "    Y_train_pred = RForregCV.predict(X_train)\n",
        "    Y_train_dev = sum((Y_train-Y_train_pred)**2)\n",
        "    r2 = 1 - Y_train_dev/Y_train_meandev\n",
        "    print(\"R2 =\", r2)\n",
        "\n",
        "    # Pseudo R2\n",
        "    Y_test_pred = RForregCV.predict(X_test)\n",
        "    Y_test_dev = sum((Y_test-Y_test_pred)**2)\n",
        "    pseudor2 = 1 - Y_test_dev/Y_test_meandev\n",
        "    print(\"Pseudo-R2 =\", pseudor2)\n",
        "\n",
        "    # Mean Absolute Error (MAE)\n",
        "    mae = mean_absolute_error(Y_test, Y_test_pred)\n",
        "    print(f\"Mean Absolute Error (MAE): {mae}\")\n",
        "\n",
        "    # Mean Squared Error (MSE)\n",
        "    mse = mean_squared_error(Y_test, Y_test_pred)\n",
        "    print(f\"Mean Squared Error (MSE): {mse}\")\n",
        "\n",
        "    # Calculate RMSE\n",
        "    rmse = np.sqrt(mse)\n",
        "    print(f\"Root Mean Squared Error (RMSE): {rmse}\")\n",
        "\n",
        "    # Continuous Ranked Probability Score (CRPS)\n",
        "    pred = individual_forecasts\n",
        "    test = Y_test.values.flatten()\n",
        "    y_pred_prob = calculate_cdf(combined_predictions)\n",
        "    crps_old = np.mean(calculate_crps(y_pred_prob, Y_test))\n",
        "    crps = ps.crps_ensemble(test, forecasts=pred)\n",
        "    crps_mean = np.mean(crps)\n",
        "    crps_median = np.median(crps)\n",
        "    print(f\"Median CRPS: {crps_median}\")\n",
        "    print(f\"Continuous Ranked Probability Score (CRPS): {crps_mean}\")\n",
        "    print(f\"CRPS OLD: {crps_old}\")\n",
        "\n",
        "    report.loc[len(report)] = ['Random ForestCV',\n",
        "                               r2,\n",
        "                               pseudor2,\n",
        "                               CV_rfmodel.cv_results_['mean_test_score'][CV_rfmodel.best_index_],\n",
        "                               CV_rfmodel.cv_results_['std_test_score'][CV_rfmodel.best_index_],\n",
        "                               mae,\n",
        "                               mse,\n",
        "                               rmse,\n",
        "                               crps_mean,\n",
        "                               data_set]\n",
        "\n",
        "    xlabel = ''\n",
        "    color = 'green'\n",
        "    lightorange = '#ffcc66'\n",
        "\n",
        "    if data_set_id % 2 == 0:\n",
        "        xlabel = 'Arrival delay - STD at 0 [min]'\n",
        "        color = 'lightblue'\n",
        "    else:\n",
        "        xlabel = 'Departure delay - STA at 0 [min]'\n",
        "        color = lightorange\n",
        "\n",
        "    # Calculate the number of bins with 1-minute width\n",
        "    num_bins = int((150 - (-50)) / 1)\n",
        "\n",
        "    # Set the figure size and DPI\n",
        "    plt.figure(figsize=(8, 4.5), dpi=300)\n",
        "\n",
        "    # Initialize an array to accumulate histograms for predictions\n",
        "    combined_histogram = np.zeros(num_bins - 1)\n",
        "\n",
        "    # Convert individual tree predictions to histograms and accumulate\n",
        "    for i, predictions in enumerate(tree_predictions):\n",
        "        histogram, _ = np.histogram(predictions, bins=np.linspace(-50, 150, num=num_bins), density=True)\n",
        "        combined_histogram += histogram\n",
        "\n",
        "    # Normalize the combined histogram so that the probabilities sum to 1.0\n",
        "    combined_histogram /= np.sum(combined_histogram)\n",
        "\n",
        "    # Plot the combined histogram for predictions\n",
        "    plt.bar(\n",
        "        np.linspace(-50, 150, num=num_bins-1),\n",
        "        combined_histogram,\n",
        "        width=1,\n",
        "        color=color,\n",
        "        edgecolor='white',\n",
        "        linewidth=0.5,\n",
        "        label='Predictions'\n",
        "    )\n",
        "\n",
        "    # Create a histogram for true values (Y_test)\n",
        "    true_histogram, _ = np.histogram(Y_test, bins=np.linspace(-50, 150, num=num_bins), density=True)\n",
        "\n",
        "    # Plot the histogram for true values\n",
        "    plt.bar(\n",
        "        np.linspace(-50, 150, num=num_bins-1),\n",
        "        true_histogram,\n",
        "        width=1,\n",
        "        color=dark_gray,\n",
        "        alpha=0.5,\n",
        "        edgecolor='white',\n",
        "        linewidth=0.5,\n",
        "        label='True values'\n",
        "    )\n",
        "\n",
        "    plt.xlabel(xlabel)\n",
        "    plt.xlim(-50, 150)\n",
        "    plt.xticks(np.arange(-50, 151, 25))\n",
        "    plt.ylabel('Probability')\n",
        "    plt.legend()  # Add legend to distinguish between predictions and true values\n",
        "    plt.show()\n",
        "\n",
        "    # Set the figure size and DPI\n",
        "    plt.figure(figsize=(8, 4.5), dpi=300)\n",
        "\n",
        "    # Convert individual tree predictions to histograms\n",
        "    for i, predictions in enumerate(tree_predictions):\n",
        "        plt.hist(predictions, bins=np.linspace(-50, 150, num=num_bins), density=True, alpha=0.5)\n",
        "\n",
        "    plt.xlabel(xlabel)\n",
        "    plt.xlim(-50, 150)\n",
        "    plt.xticks(np.arange(-50, 151, 25))\n",
        "    plt.ylabel('Probability')\n",
        "    plt.show()\n",
        "\n",
        "    # Set the figure size and DPI\n",
        "    fig, ax = plt.subplots(figsize=(8, 4.5), dpi=300)\n",
        "    delay_range = np.arange(-50, 151, 1)\n",
        "\n",
        "    # Plot the combined histogram with equal-width bins and a white border\n",
        "    ax.hist(combined_predictions, bins=delay_range, density=True, label='Combined predictions', color=color, edgecolor='white', align='mid', linewidth=0.5)\n",
        "    ax.hist(Y_test, bins=delay_range, density=True, alpha=0.5, label='True values', color=dark_gray, edgecolor='white', align='mid', linewidth=0.5)\n",
        "\n",
        "    # Adding labels and title\n",
        "    ax.set_xlabel(xlabel)\n",
        "    ax.set_ylabel('Probability')\n",
        "    ax.set_xlim(-50, 150)\n",
        "\n",
        "    # Adding legend\n",
        "    ax.legend(['Combined predictions', 'True values'], loc='upper right')\n",
        "    plt.show()\n",
        "\n",
        "    if data_set_id > 3:\n",
        "        # Create a Shap explainer\n",
        "        explainer = shap.Explainer(RForregCV)\n",
        "        shap_values = explainer.shap_values(X_train)\n",
        "\n",
        "        # Display a summary plot with a specified DPI\n",
        "        dpi_value = 300  # Set your desired DPI value\n",
        "        shap.summary_plot(shap_values, X_train, show=False)\n",
        "        plt.gcf().set_dpi(dpi_value)\n",
        "        plt.show()\n",
        "\n",
        "    # Sample four data points from X_test as a pandas DataFrame\n",
        "    test_data_points = [X_test.sample(n=1, random_state=i) for i in range(4)]\n",
        "\n",
        "    for i, data_point in enumerate(test_data_points):\n",
        "        # Display the selected random data point id\n",
        "        id = data_point.index.item()\n",
        "        print(\"Selected Random Data Point ID:\")\n",
        "        print(id)\n",
        "\n",
        "        # Predictions\n",
        "        flight_prediction = RForregCV.predict(data_point)\n",
        "        actual_value = Y_test.loc[id]  # Assuming Y_test is a Series\n",
        "\n",
        "        # Get predictions from individual trees\n",
        "        data_tree_predictions = np.stack([tree.predict(data_point) for tree in RForregCV.estimators_])\n",
        "\n",
        "        # Combine predictions (mean for regression)\n",
        "        combined_predictions = np.mean(data_tree_predictions, axis=0)\n",
        "\n",
        "        # Set the figure size and DPI\n",
        "        plt.figure(figsize=(4, 3), dpi=300)\n",
        "\n",
        "        # Plot a histogram of the combined predictions\n",
        "        hist, bin_edges, _ = plt.hist(\n",
        "            data_tree_predictions,\n",
        "            bins=np.linspace(-50, 150, num=num_bins),  # Specify bin edges\n",
        "            color=colors[i][0],\n",
        "            label='Predictions',\n",
        "            density=True,\n",
        "            alpha=0.7\n",
        "        )\n",
        "\n",
        "        # Scatter plot for the regression prediction\n",
        "        scatter = plt.scatter(flight_prediction[0], 0, marker='^', color=colors[i][1], s=250, label='Prediction value')\n",
        "\n",
        "        # Line for the actual value\n",
        "        line = plt.axvline(x=actual_value, color=colors[i][2], linestyle='dashed', linewidth=2, label='Actual value')\n",
        "\n",
        "        # Set x-axis limits\n",
        "        plt.xlim(-50, 150)\n",
        "        plt.xlabel(xlabel)\n",
        "        plt.ylim(0, 0.6)\n",
        "        plt.ylabel('Probability')\n",
        "\n",
        "        # Set x-axis ticks to 5-minute intervals\n",
        "        plt.xticks(np.arange(-50, 151, 50))\n",
        "\n",
        "        # Set y-axis ticks to 0.05 intervals\n",
        "        plt.yticks(np.arange(0, 0.61, 0.15))\n",
        "        plt.title(f'Flight {id}')\n",
        "\n",
        "        # Create a custom legend with handles and labels\n",
        "        legend_handles = [plt.Rectangle((0,0),1,1, color=colors[i][0]), scatter, line]\n",
        "        legend_labels = ['RF Predictions', 'RF Prediction value', 'Actual value']\n",
        "        plt.legend(legend_handles, legend_labels, loc='upper right', fontsize=10, markerscale=0.5)\n",
        "        plt.show()"
      ]
    },
    {
      "cell_type": "markdown",
      "metadata": {},
      "source": [
        "## Mixture Density Network"
      ]
    },
    {
      "cell_type": "code",
      "execution_count": null,
      "metadata": {},
      "outputs": [],
      "source": [
        "def sample_from_mdn(params, num_samples=100):\n",
        "    mus, sigmas, pis = np.split(params, 3, axis=-1)\n",
        "\n",
        "    # Reshape pis to match the shape of mus and sigmas\n",
        "    pis = np.reshape(pis, mus.shape)\n",
        "\n",
        "    # Ensure probabilities are non-negative and sum to 1\n",
        "    pis = np.maximum(pis, 0)\n",
        "    pis /= np.sum(pis, axis=-1, keepdims=True)\n",
        "\n",
        "    # Choose components based on the mixture probabilities\n",
        "    chosen_components = np.random.choice(mus.shape[-1], size=num_samples, p=pis[0])\n",
        "\n",
        "    # Sample from the chosen components\n",
        "    samples = mus[0, chosen_components] + sigmas[0, chosen_components] * np.random.randn(num_samples)\n",
        "\n",
        "    return samples\n",
        "\n",
        "def mdn_loss(y_true, params):\n",
        "    mu, sigma, alpha = tf.split(params, 3, axis=1)\n",
        "\n",
        "    # Clip probabilities to avoid numerical instability\n",
        "    alpha = tf.clip_by_value(alpha, clip_value_min=1e-5, clip_value_max=0.999)\n",
        "\n",
        "    # Clip standard deviations (sigma)\n",
        "    sigma = tf.clip_by_value(sigma, clip_value_min=1e-5, clip_value_max=10.0)\n",
        "\n",
        "    gm = tfp.distributions.MixtureSameFamily(\n",
        "        mixture_distribution=tfp.distributions.Categorical(probs=alpha),\n",
        "        components_distribution=tfp.distributions.Normal(loc=mu, scale=sigma)\n",
        "    )\n",
        "    return -tf.reduce_mean(gm.log_prob(y_true))\n",
        "\n",
        "class MDN(tf.keras.Model):\n",
        "    def __init__(self, num_components=30):\n",
        "        super(MDN, self).__init__()\n",
        "        self.num_components = num_components\n",
        "        self.dense1 = layers.Dense(256, activation='relu')\n",
        "        self.dense2 = layers.Dense(256, activation='relu')\n",
        "        self.dense3 = layers.Dense(128, activation='relu')\n",
        "        self.dense4 = layers.Dense(128, activation='relu')\n",
        "        self.mixture_layer = layers.Dense(self.num_components * 3)\n",
        "\n",
        "    def call(self, inputs):\n",
        "        x = self.dense1(inputs)\n",
        "        x = self.dense2(x)\n",
        "        x = self.dense3(x)\n",
        "        x = self.dense4(x)\n",
        "        params = self.mixture_layer(x)\n",
        "        return params\n",
        "\n",
        "for X_train, Y_train, X_test, Y_test, Y_train_meandev, Y_test_meandev, data_set, data_set_id in datasets:\n",
        "    print(\"-------- Data Set:\", data_set, \"--------\")\n",
        "    # Create an instance of the MDN model\n",
        "    mdn_model = MDN(num_components=30)\n",
        "\n",
        "    # Compile the model\n",
        "    optimizer = tf.keras.optimizers.Adam(learning_rate=0.001)\n",
        "    mdn_model.compile(optimizer=optimizer, loss=mdn_loss)\n",
        "\n",
        "    # Train the MDN model\n",
        "    mdn_model.fit(X_train, Y_train)\n",
        "\n",
        "    # Make predictions using the trained MDN model\n",
        "    params = mdn_model.predict(X_test)\n",
        "    mu, sigma, alpha = tf.split(params, 3, axis=1)\n",
        "\n",
        "    # Sample from the MDN to get predictions\n",
        "    categorical_distribution = tfp.distributions.Categorical(probs=alpha)\n",
        "    samples = tf.convert_to_tensor(categorical_distribution.sample(len(X_test)))\n",
        "    mdn_predictions = tf.gather(mu, samples)\n",
        "\n",
        "    # Collapse the num_components dimension by taking the mean\n",
        "    mdn_predictions_mean = tf.reduce_mean(mdn_predictions, axis=1)\n",
        "    # Select the first column of mdn_predictions\n",
        "    mdn_predictions_col = mdn_predictions_mean[:, 0]\n",
        "\n",
        "    # Calculate R2\n",
        "    r2 = r2_score(Y_test, mdn_predictions_col)\n",
        "    print(\"R2 =\", r2)\n",
        "\n",
        "    # Pseudo R2\n",
        "    y_test_mean = np.mean(Y_test)\n",
        "    pseudo_r2 = 1 - (np.sum((mdn_predictions_col - Y_test)**2) / np.sum((y_test_mean - Y_test)**2))\n",
        "    print(\"Pseudo-R2 =\", pseudo_r2)\n",
        "\n",
        "    # Mean Absolute Error (MAE)\n",
        "    mae = mean_absolute_error(Y_test, mdn_predictions_col)\n",
        "    print(f\"Mean Absolute Error (MAE): {mae}\")\n",
        "\n",
        "    # Mean Squared Error (MSE)\n",
        "    mse = mean_squared_error(Y_test, mdn_predictions_col)\n",
        "    print(f\"Mean Squared Error (MSE): {mse}\")\n",
        "\n",
        "    # Calculate RMSE\n",
        "    rmse = np.sqrt(mse)\n",
        "    print(f\"Root Mean Squared Error (RMSE): {rmse}\")\n",
        "\n",
        "    # Continuous Ranked Probability Score (CRPS)\n",
        "    cdf_values = norm.cdf(X_test, loc=mu, scale=sigma)\n",
        "    crps = np.mean(ps.crps_ensemble(Y_test, mdn_predictions_col))\n",
        "    print(f\"Continuous Ranked Probability Score (CRPS): {crps}\")\n",
        "\n",
        "    xlabel = ''\n",
        "    color = 'green'\n",
        "    lightorange = '#ffcc66'\n",
        "\n",
        "    if data_set_id % 2 == 0:\n",
        "        xlabel = 'Arrival delay - STD at 0 [min]'\n",
        "        color = 'lightblue'\n",
        "    else:\n",
        "        xlabel = 'Departure delay - STA at 0 [min]'\n",
        "        color = lightorange\n",
        "\n",
        "    # Assuming 'params' is your MDN output\n",
        "    samples = sample_from_mdn(params, num_samples=1000)\n",
        "\n",
        "    # Plot the KDE of the samples\n",
        "    plt.figure(figsize=(8, 4.5), dpi=300)\n",
        "    sns.kdeplot(samples, color=color, label='Predicted PDF', fill=True)\n",
        "    sns.kdeplot(Y_test, color=dark_gray, alpha=0.5, label='True values', fill=True)\n",
        "    plt.xlim(-50, 150)\n",
        "    plt.xlabel(xlabel)\n",
        "    plt.ylabel('Probability density')\n",
        "    # plt.title('Probability Density Function (PDF) of MDN')\n",
        "    plt.legend()\n",
        "    plt.show()\n",
        "\n",
        "    # Set up plot\n",
        "    plt.figure(figsize=(8, 4.5), dpi=300)\n",
        "\n",
        "    # Plot KDE for the entire set of predictions\n",
        "    sns.kdeplot(mu[0], color=color, label='Predictions')\n",
        "    # Plot KDE for the actual values (Y_test)\n",
        "    sns.kdeplot(Y_test, color=dark_gray, alpha=0.5, label='True values')\n",
        "    plt.xlim(-50, 150)\n",
        "    plt.xlabel(xlabel)\n",
        "    plt.ylim(0, 1)\n",
        "    plt.ylabel('Probability density')\n",
        "    plt.legend()\n",
        "    plt.show()\n",
        "\n",
        "    # Wrap the MDN model's predict function with a function that outputs only mu\n",
        "    def predict_mu(X):\n",
        "        params = mdn_model.predict(X)\n",
        "        mu, _, _ = tf.split(params, 3, axis=1)\n",
        "        return mu.numpy()\n",
        "\n",
        "    if data_set_id > 3:\n",
        "        # Use shap.kmeans to summarize the background data\n",
        "        background_summary = shap.kmeans(X_train, 10)  # You can adjust the number of means (K) as needed\n",
        "\n",
        "        # Use the KernelExplainer with the summarized background data\n",
        "        explainer = shap.KernelExplainer(predict_mu, background_summary)\n",
        "        shap_values = explainer.shap_values(X_test[:100], nsamples=100)  # Use a subset of samples for visualization\n",
        "\n",
        "        # Set the figure size with DPI and plot the SHAP values for the first 100 samples\n",
        "        plt.figure(figsize=(10, 6), dpi=300)  # Adjust the size and DPI as needed\n",
        "        shap.summary_plot(shap_values, X_test[:100], show=False, plot_size=[10,6])\n",
        "        # Move the legend outside the plot area\n",
        "        plt.legend(bbox_to_anchor=(1.05, 1), loc='upper left')\n",
        "\n",
        "        # Display the plot\n",
        "        plt.show()\n",
        "\n",
        "    # Sample one data point from X_test as a pandas DataFrame\n",
        "    test_data_points = [X_test.sample(n=1, random_state=i) for i in range(4)]\n",
        "\n",
        "    for i, data_point in enumerate(test_data_points):\n",
        "        # Display the selected random data point id\n",
        "        id = data_point.index.item()\n",
        "        print(\"Selected Random Data Point ID:\")\n",
        "        print(id)\n",
        "\n",
        "        actual_value = Y_test.loc[id]  # Assuming Y_test is a Series\n",
        "\n",
        "        # Extract the features from the data point\n",
        "        x_data_point = data_point.values\n",
        "\n",
        "        # Make predictions using the trained MDN model\n",
        "        params_i = mdn_model.predict(x_data_point)\n",
        "        mu_i, sigma_i, alpha_i = tf.split(params_i, 3, axis=1)\n",
        "        samples_i = sample_from_mdn(params_i, num_samples=1000)\n",
        "\n",
        "        # Set up plot\n",
        "        plt.figure(figsize=(4, 3), dpi=300)\n",
        "\n",
        "        # Plot the PDF for the current data point\n",
        "        kde_plot = sns.kdeplot(samples_i, color=colors[i][0], label=\"MDN Predictions KDE\", fill=True)\n",
        "\n",
        "        # Scatter plot for the mean of the PDF\n",
        "        mean_value = tf.reduce_mean(samples_i)\n",
        "        scatter = plt.scatter(mean_value, 0, marker='^', color=colors[i][1], s=250, label='Mean value of PDF')\n",
        "\n",
        "        # Line for the actual value\n",
        "        line = plt.axvline(x=actual_value, color=colors[i][2], linestyle='dashed', linewidth=2, label='Actual value')\n",
        "\n",
        "        # Set x-axis limits\n",
        "        plt.xlim(-50, 150)\n",
        "        plt.xlabel(xlabel)\n",
        "        plt.ylim(0, 0.6)\n",
        "        plt.ylabel('Probability density')\n",
        "        # Set x-axis ticks to 5-minute intervals\n",
        "        plt.xticks(np.arange(-50, 151, 50))\n",
        "\n",
        "        # Set y-axis ticks to 0.05 intervals\n",
        "        plt.yticks(np.arange(0, 0.61, 0.15))\n",
        "        plt.title(f'Flight {id}')\n",
        "\n",
        "        # Create a custom legend with handles and labels\n",
        "        legend_handles = [\n",
        "            Line2D([0], [0], color=colors[i][0], linewidth=2),\n",
        "            scatter,\n",
        "            line\n",
        "        ]\n",
        "        legend_labels = ['MDN Predictions', 'MDN Prediction value', 'Actual value']\n",
        "        plt.legend(legend_handles, legend_labels, loc='upper right', fontsize=10, markerscale=0.5)\n",
        "        plt.show()"
      ]
    },
    {
      "cell_type": "markdown",
      "metadata": {
        "id": "_AZgXxuuxu54"
      },
      "source": [
        "## Final Report"
      ]
    },
    {
      "cell_type": "markdown",
      "metadata": {},
      "source": [
        "Get the indices of the random flights"
      ]
    },
    {
      "cell_type": "code",
      "execution_count": null,
      "metadata": {},
      "outputs": [],
      "source": [
        "for X_train, Y_train, X_test, Y_test, Y_train_meandev, Y_test_meandev, data_set, data_set_id in datasets:\n",
        "    # print(\"-------- Data Set:\", data_set, \"--------\")\n",
        "    # Sample one data point from X_test as a pandas DataFrame\n",
        "    test_data_points = [X_test.sample(n=1, random_state=i) for i in range(4)]\n",
        "    indices = []\n",
        "\n",
        "    for i, data_point in enumerate(test_data_points):\n",
        "        # Display the selected random data point id\n",
        "        id = data_point.index.item()\n",
        "        indices.append(id)\n",
        "\n",
        "    print(indices)"
      ]
    },
    {
      "cell_type": "markdown",
      "metadata": {},
      "source": [
        "Print the report"
      ]
    },
    {
      "cell_type": "code",
      "execution_count": null,
      "metadata": {
        "id": "qNXKTlaSxu54"
      },
      "outputs": [],
      "source": [
        "print(report)"
      ]
    }
  ],
  "metadata": {
    "colab": {
      "machine_shape": "hm",
      "provenance": [],
      "toc_visible": true
    },
    "kernelspec": {
      "display_name": "Python 3",
      "name": "python3"
    },
    "language_info": {
      "codemirror_mode": {
        "name": "ipython",
        "version": 3
      },
      "file_extension": ".py",
      "mimetype": "text/x-python",
      "name": "python",
      "nbconvert_exporter": "python",
      "pygments_lexer": "ipython3",
      "version": "3.9.6"
    },
    "widgets": {
      "application/vnd.jupyter.widget-state+json": {
        "05beb68db7654ce38c31a119d566f725": {
          "model_module": "@jupyter-widgets/controls",
          "model_module_version": "1.5.0",
          "model_name": "DescriptionStyleModel",
          "state": {
            "_model_module": "@jupyter-widgets/controls",
            "_model_module_version": "1.5.0",
            "_model_name": "DescriptionStyleModel",
            "_view_count": null,
            "_view_module": "@jupyter-widgets/base",
            "_view_module_version": "1.2.0",
            "_view_name": "StyleView",
            "description_width": ""
          }
        },
        "236b19a8c3a644f19fd8ff9d02f48371": {
          "model_module": "@jupyter-widgets/base",
          "model_module_version": "1.2.0",
          "model_name": "LayoutModel",
          "state": {
            "_model_module": "@jupyter-widgets/base",
            "_model_module_version": "1.2.0",
            "_model_name": "LayoutModel",
            "_view_count": null,
            "_view_module": "@jupyter-widgets/base",
            "_view_module_version": "1.2.0",
            "_view_name": "LayoutView",
            "align_content": null,
            "align_items": null,
            "align_self": null,
            "border": null,
            "bottom": null,
            "display": null,
            "flex": null,
            "flex_flow": null,
            "grid_area": null,
            "grid_auto_columns": null,
            "grid_auto_flow": null,
            "grid_auto_rows": null,
            "grid_column": null,
            "grid_gap": null,
            "grid_row": null,
            "grid_template_areas": null,
            "grid_template_columns": null,
            "grid_template_rows": null,
            "height": null,
            "justify_content": null,
            "justify_items": null,
            "left": null,
            "margin": null,
            "max_height": null,
            "max_width": null,
            "min_height": null,
            "min_width": null,
            "object_fit": null,
            "object_position": null,
            "order": null,
            "overflow": null,
            "overflow_x": null,
            "overflow_y": null,
            "padding": null,
            "right": null,
            "top": null,
            "visibility": null,
            "width": null
          }
        },
        "2755293509d0479b8cda5840fc858826": {
          "model_module": "@jupyter-widgets/controls",
          "model_module_version": "1.5.0",
          "model_name": "DescriptionStyleModel",
          "state": {
            "_model_module": "@jupyter-widgets/controls",
            "_model_module_version": "1.5.0",
            "_model_name": "DescriptionStyleModel",
            "_view_count": null,
            "_view_module": "@jupyter-widgets/base",
            "_view_module_version": "1.2.0",
            "_view_name": "StyleView",
            "description_width": ""
          }
        },
        "37aec1e472364c2e8d3fb0ec3b0fbf99": {
          "model_module": "@jupyter-widgets/controls",
          "model_module_version": "1.5.0",
          "model_name": "FloatProgressModel",
          "state": {
            "_dom_classes": [],
            "_model_module": "@jupyter-widgets/controls",
            "_model_module_version": "1.5.0",
            "_model_name": "FloatProgressModel",
            "_view_count": null,
            "_view_module": "@jupyter-widgets/controls",
            "_view_module_version": "1.5.0",
            "_view_name": "ProgressView",
            "bar_style": "success",
            "description": "",
            "description_tooltip": null,
            "layout": "IPY_MODEL_236b19a8c3a644f19fd8ff9d02f48371",
            "max": 100,
            "min": 0,
            "orientation": "horizontal",
            "style": "IPY_MODEL_d71f437f9e774dceaf0d8ac80c14e285",
            "value": 100
          }
        },
        "3ae09d5a0329409980feda05a8e0d2d1": {
          "model_module": "@jupyter-widgets/base",
          "model_module_version": "1.2.0",
          "model_name": "LayoutModel",
          "state": {
            "_model_module": "@jupyter-widgets/base",
            "_model_module_version": "1.2.0",
            "_model_name": "LayoutModel",
            "_view_count": null,
            "_view_module": "@jupyter-widgets/base",
            "_view_module_version": "1.2.0",
            "_view_name": "LayoutView",
            "align_content": null,
            "align_items": null,
            "align_self": null,
            "border": null,
            "bottom": null,
            "display": null,
            "flex": null,
            "flex_flow": null,
            "grid_area": null,
            "grid_auto_columns": null,
            "grid_auto_flow": null,
            "grid_auto_rows": null,
            "grid_column": null,
            "grid_gap": null,
            "grid_row": null,
            "grid_template_areas": null,
            "grid_template_columns": null,
            "grid_template_rows": null,
            "height": null,
            "justify_content": null,
            "justify_items": null,
            "left": null,
            "margin": null,
            "max_height": null,
            "max_width": null,
            "min_height": null,
            "min_width": null,
            "object_fit": null,
            "object_position": null,
            "order": null,
            "overflow": null,
            "overflow_x": null,
            "overflow_y": null,
            "padding": null,
            "right": null,
            "top": null,
            "visibility": null,
            "width": null
          }
        },
        "4ae411ba3d634b569a85abed36fe1745": {
          "model_module": "@jupyter-widgets/base",
          "model_module_version": "1.2.0",
          "model_name": "LayoutModel",
          "state": {
            "_model_module": "@jupyter-widgets/base",
            "_model_module_version": "1.2.0",
            "_model_name": "LayoutModel",
            "_view_count": null,
            "_view_module": "@jupyter-widgets/base",
            "_view_module_version": "1.2.0",
            "_view_name": "LayoutView",
            "align_content": null,
            "align_items": null,
            "align_self": null,
            "border": null,
            "bottom": null,
            "display": null,
            "flex": null,
            "flex_flow": null,
            "grid_area": null,
            "grid_auto_columns": null,
            "grid_auto_flow": null,
            "grid_auto_rows": null,
            "grid_column": null,
            "grid_gap": null,
            "grid_row": null,
            "grid_template_areas": null,
            "grid_template_columns": null,
            "grid_template_rows": null,
            "height": null,
            "justify_content": null,
            "justify_items": null,
            "left": null,
            "margin": null,
            "max_height": null,
            "max_width": null,
            "min_height": null,
            "min_width": null,
            "object_fit": null,
            "object_position": null,
            "order": null,
            "overflow": null,
            "overflow_x": null,
            "overflow_y": null,
            "padding": null,
            "right": null,
            "top": null,
            "visibility": null,
            "width": null
          }
        },
        "72ab337e56aa4143a62e00c88f2eb185": {
          "model_module": "@jupyter-widgets/controls",
          "model_module_version": "1.5.0",
          "model_name": "HBoxModel",
          "state": {
            "_dom_classes": [],
            "_model_module": "@jupyter-widgets/controls",
            "_model_module_version": "1.5.0",
            "_model_name": "HBoxModel",
            "_view_count": null,
            "_view_module": "@jupyter-widgets/controls",
            "_view_module_version": "1.5.0",
            "_view_name": "HBoxView",
            "box_style": "",
            "children": [
              "IPY_MODEL_a91530813e694a4ab497b7992cb4e854",
              "IPY_MODEL_37aec1e472364c2e8d3fb0ec3b0fbf99",
              "IPY_MODEL_b8911adc352a473198f4a001c4cd667d"
            ],
            "layout": "IPY_MODEL_4ae411ba3d634b569a85abed36fe1745"
          }
        },
        "72c4f79c51a44f1c92b67064932d99bf": {
          "model_module": "@jupyter-widgets/controls",
          "model_module_version": "1.5.0",
          "model_name": "HTMLModel",
          "state": {
            "_dom_classes": [],
            "_model_module": "@jupyter-widgets/controls",
            "_model_module_version": "1.5.0",
            "_model_name": "HTMLModel",
            "_view_count": null,
            "_view_module": "@jupyter-widgets/controls",
            "_view_module_version": "1.5.0",
            "_view_name": "HTMLView",
            "description": "",
            "description_tooltip": null,
            "layout": "IPY_MODEL_c85eb312009e4d4caef8889386b2bb0e",
            "placeholder": "​",
            "style": "IPY_MODEL_2755293509d0479b8cda5840fc858826",
            "value": "100%"
          }
        },
        "7802bea210984099968344e0357bafee": {
          "model_module": "@jupyter-widgets/controls",
          "model_module_version": "1.5.0",
          "model_name": "HBoxModel",
          "state": {
            "_dom_classes": [],
            "_model_module": "@jupyter-widgets/controls",
            "_model_module_version": "1.5.0",
            "_model_name": "HBoxModel",
            "_view_count": null,
            "_view_module": "@jupyter-widgets/controls",
            "_view_module_version": "1.5.0",
            "_view_name": "HBoxView",
            "box_style": "",
            "children": [
              "IPY_MODEL_72c4f79c51a44f1c92b67064932d99bf",
              "IPY_MODEL_8b3b47ddabdf4750ab8f7c6b35e52867",
              "IPY_MODEL_98ad343023ed4a9ab7b3dc10d57d44bb"
            ],
            "layout": "IPY_MODEL_95861cd48c4941f8a31694763089fdcf"
          }
        },
        "8b3b47ddabdf4750ab8f7c6b35e52867": {
          "model_module": "@jupyter-widgets/controls",
          "model_module_version": "1.5.0",
          "model_name": "FloatProgressModel",
          "state": {
            "_dom_classes": [],
            "_model_module": "@jupyter-widgets/controls",
            "_model_module_version": "1.5.0",
            "_model_name": "FloatProgressModel",
            "_view_count": null,
            "_view_module": "@jupyter-widgets/controls",
            "_view_module_version": "1.5.0",
            "_view_name": "ProgressView",
            "bar_style": "success",
            "description": "",
            "description_tooltip": null,
            "layout": "IPY_MODEL_3ae09d5a0329409980feda05a8e0d2d1",
            "max": 100,
            "min": 0,
            "orientation": "horizontal",
            "style": "IPY_MODEL_d7e9e7a89cfd4d17bda1e34f5cfbdfce",
            "value": 100
          }
        },
        "924f6e1fec2d40a8bbdb39765fba1ffb": {
          "model_module": "@jupyter-widgets/base",
          "model_module_version": "1.2.0",
          "model_name": "LayoutModel",
          "state": {
            "_model_module": "@jupyter-widgets/base",
            "_model_module_version": "1.2.0",
            "_model_name": "LayoutModel",
            "_view_count": null,
            "_view_module": "@jupyter-widgets/base",
            "_view_module_version": "1.2.0",
            "_view_name": "LayoutView",
            "align_content": null,
            "align_items": null,
            "align_self": null,
            "border": null,
            "bottom": null,
            "display": null,
            "flex": null,
            "flex_flow": null,
            "grid_area": null,
            "grid_auto_columns": null,
            "grid_auto_flow": null,
            "grid_auto_rows": null,
            "grid_column": null,
            "grid_gap": null,
            "grid_row": null,
            "grid_template_areas": null,
            "grid_template_columns": null,
            "grid_template_rows": null,
            "height": null,
            "justify_content": null,
            "justify_items": null,
            "left": null,
            "margin": null,
            "max_height": null,
            "max_width": null,
            "min_height": null,
            "min_width": null,
            "object_fit": null,
            "object_position": null,
            "order": null,
            "overflow": null,
            "overflow_x": null,
            "overflow_y": null,
            "padding": null,
            "right": null,
            "top": null,
            "visibility": null,
            "width": null
          }
        },
        "939b837ee524462b8bd80790f6a74c0e": {
          "model_module": "@jupyter-widgets/controls",
          "model_module_version": "1.5.0",
          "model_name": "DescriptionStyleModel",
          "state": {
            "_model_module": "@jupyter-widgets/controls",
            "_model_module_version": "1.5.0",
            "_model_name": "DescriptionStyleModel",
            "_view_count": null,
            "_view_module": "@jupyter-widgets/base",
            "_view_module_version": "1.2.0",
            "_view_name": "StyleView",
            "description_width": ""
          }
        },
        "95861cd48c4941f8a31694763089fdcf": {
          "model_module": "@jupyter-widgets/base",
          "model_module_version": "1.2.0",
          "model_name": "LayoutModel",
          "state": {
            "_model_module": "@jupyter-widgets/base",
            "_model_module_version": "1.2.0",
            "_model_name": "LayoutModel",
            "_view_count": null,
            "_view_module": "@jupyter-widgets/base",
            "_view_module_version": "1.2.0",
            "_view_name": "LayoutView",
            "align_content": null,
            "align_items": null,
            "align_self": null,
            "border": null,
            "bottom": null,
            "display": null,
            "flex": null,
            "flex_flow": null,
            "grid_area": null,
            "grid_auto_columns": null,
            "grid_auto_flow": null,
            "grid_auto_rows": null,
            "grid_column": null,
            "grid_gap": null,
            "grid_row": null,
            "grid_template_areas": null,
            "grid_template_columns": null,
            "grid_template_rows": null,
            "height": null,
            "justify_content": null,
            "justify_items": null,
            "left": null,
            "margin": null,
            "max_height": null,
            "max_width": null,
            "min_height": null,
            "min_width": null,
            "object_fit": null,
            "object_position": null,
            "order": null,
            "overflow": null,
            "overflow_x": null,
            "overflow_y": null,
            "padding": null,
            "right": null,
            "top": null,
            "visibility": null,
            "width": null
          }
        },
        "98ad343023ed4a9ab7b3dc10d57d44bb": {
          "model_module": "@jupyter-widgets/controls",
          "model_module_version": "1.5.0",
          "model_name": "HTMLModel",
          "state": {
            "_dom_classes": [],
            "_model_module": "@jupyter-widgets/controls",
            "_model_module_version": "1.5.0",
            "_model_name": "HTMLModel",
            "_view_count": null,
            "_view_module": "@jupyter-widgets/controls",
            "_view_module_version": "1.5.0",
            "_view_name": "HTMLView",
            "description": "",
            "description_tooltip": null,
            "layout": "IPY_MODEL_924f6e1fec2d40a8bbdb39765fba1ffb",
            "placeholder": "​",
            "style": "IPY_MODEL_939b837ee524462b8bd80790f6a74c0e",
            "value": " 100/100 [00:45&lt;00:00,  1.89it/s]"
          }
        },
        "9c42183fda8d49de93891d761c1bd4ca": {
          "model_module": "@jupyter-widgets/base",
          "model_module_version": "1.2.0",
          "model_name": "LayoutModel",
          "state": {
            "_model_module": "@jupyter-widgets/base",
            "_model_module_version": "1.2.0",
            "_model_name": "LayoutModel",
            "_view_count": null,
            "_view_module": "@jupyter-widgets/base",
            "_view_module_version": "1.2.0",
            "_view_name": "LayoutView",
            "align_content": null,
            "align_items": null,
            "align_self": null,
            "border": null,
            "bottom": null,
            "display": null,
            "flex": null,
            "flex_flow": null,
            "grid_area": null,
            "grid_auto_columns": null,
            "grid_auto_flow": null,
            "grid_auto_rows": null,
            "grid_column": null,
            "grid_gap": null,
            "grid_row": null,
            "grid_template_areas": null,
            "grid_template_columns": null,
            "grid_template_rows": null,
            "height": null,
            "justify_content": null,
            "justify_items": null,
            "left": null,
            "margin": null,
            "max_height": null,
            "max_width": null,
            "min_height": null,
            "min_width": null,
            "object_fit": null,
            "object_position": null,
            "order": null,
            "overflow": null,
            "overflow_x": null,
            "overflow_y": null,
            "padding": null,
            "right": null,
            "top": null,
            "visibility": null,
            "width": null
          }
        },
        "a91530813e694a4ab497b7992cb4e854": {
          "model_module": "@jupyter-widgets/controls",
          "model_module_version": "1.5.0",
          "model_name": "HTMLModel",
          "state": {
            "_dom_classes": [],
            "_model_module": "@jupyter-widgets/controls",
            "_model_module_version": "1.5.0",
            "_model_name": "HTMLModel",
            "_view_count": null,
            "_view_module": "@jupyter-widgets/controls",
            "_view_module_version": "1.5.0",
            "_view_name": "HTMLView",
            "description": "",
            "description_tooltip": null,
            "layout": "IPY_MODEL_9c42183fda8d49de93891d761c1bd4ca",
            "placeholder": "​",
            "style": "IPY_MODEL_e68e2f6d97d4447dbfebb901478771e6",
            "value": "100%"
          }
        },
        "b8911adc352a473198f4a001c4cd667d": {
          "model_module": "@jupyter-widgets/controls",
          "model_module_version": "1.5.0",
          "model_name": "HTMLModel",
          "state": {
            "_dom_classes": [],
            "_model_module": "@jupyter-widgets/controls",
            "_model_module_version": "1.5.0",
            "_model_name": "HTMLModel",
            "_view_count": null,
            "_view_module": "@jupyter-widgets/controls",
            "_view_module_version": "1.5.0",
            "_view_name": "HTMLView",
            "description": "",
            "description_tooltip": null,
            "layout": "IPY_MODEL_d399555af48445d4ac6e52e4ced85367",
            "placeholder": "​",
            "style": "IPY_MODEL_05beb68db7654ce38c31a119d566f725",
            "value": " 100/100 [00:47&lt;00:00,  2.22it/s]"
          }
        },
        "c85eb312009e4d4caef8889386b2bb0e": {
          "model_module": "@jupyter-widgets/base",
          "model_module_version": "1.2.0",
          "model_name": "LayoutModel",
          "state": {
            "_model_module": "@jupyter-widgets/base",
            "_model_module_version": "1.2.0",
            "_model_name": "LayoutModel",
            "_view_count": null,
            "_view_module": "@jupyter-widgets/base",
            "_view_module_version": "1.2.0",
            "_view_name": "LayoutView",
            "align_content": null,
            "align_items": null,
            "align_self": null,
            "border": null,
            "bottom": null,
            "display": null,
            "flex": null,
            "flex_flow": null,
            "grid_area": null,
            "grid_auto_columns": null,
            "grid_auto_flow": null,
            "grid_auto_rows": null,
            "grid_column": null,
            "grid_gap": null,
            "grid_row": null,
            "grid_template_areas": null,
            "grid_template_columns": null,
            "grid_template_rows": null,
            "height": null,
            "justify_content": null,
            "justify_items": null,
            "left": null,
            "margin": null,
            "max_height": null,
            "max_width": null,
            "min_height": null,
            "min_width": null,
            "object_fit": null,
            "object_position": null,
            "order": null,
            "overflow": null,
            "overflow_x": null,
            "overflow_y": null,
            "padding": null,
            "right": null,
            "top": null,
            "visibility": null,
            "width": null
          }
        },
        "d399555af48445d4ac6e52e4ced85367": {
          "model_module": "@jupyter-widgets/base",
          "model_module_version": "1.2.0",
          "model_name": "LayoutModel",
          "state": {
            "_model_module": "@jupyter-widgets/base",
            "_model_module_version": "1.2.0",
            "_model_name": "LayoutModel",
            "_view_count": null,
            "_view_module": "@jupyter-widgets/base",
            "_view_module_version": "1.2.0",
            "_view_name": "LayoutView",
            "align_content": null,
            "align_items": null,
            "align_self": null,
            "border": null,
            "bottom": null,
            "display": null,
            "flex": null,
            "flex_flow": null,
            "grid_area": null,
            "grid_auto_columns": null,
            "grid_auto_flow": null,
            "grid_auto_rows": null,
            "grid_column": null,
            "grid_gap": null,
            "grid_row": null,
            "grid_template_areas": null,
            "grid_template_columns": null,
            "grid_template_rows": null,
            "height": null,
            "justify_content": null,
            "justify_items": null,
            "left": null,
            "margin": null,
            "max_height": null,
            "max_width": null,
            "min_height": null,
            "min_width": null,
            "object_fit": null,
            "object_position": null,
            "order": null,
            "overflow": null,
            "overflow_x": null,
            "overflow_y": null,
            "padding": null,
            "right": null,
            "top": null,
            "visibility": null,
            "width": null
          }
        },
        "d71f437f9e774dceaf0d8ac80c14e285": {
          "model_module": "@jupyter-widgets/controls",
          "model_module_version": "1.5.0",
          "model_name": "ProgressStyleModel",
          "state": {
            "_model_module": "@jupyter-widgets/controls",
            "_model_module_version": "1.5.0",
            "_model_name": "ProgressStyleModel",
            "_view_count": null,
            "_view_module": "@jupyter-widgets/base",
            "_view_module_version": "1.2.0",
            "_view_name": "StyleView",
            "bar_color": null,
            "description_width": ""
          }
        },
        "d7e9e7a89cfd4d17bda1e34f5cfbdfce": {
          "model_module": "@jupyter-widgets/controls",
          "model_module_version": "1.5.0",
          "model_name": "ProgressStyleModel",
          "state": {
            "_model_module": "@jupyter-widgets/controls",
            "_model_module_version": "1.5.0",
            "_model_name": "ProgressStyleModel",
            "_view_count": null,
            "_view_module": "@jupyter-widgets/base",
            "_view_module_version": "1.2.0",
            "_view_name": "StyleView",
            "bar_color": null,
            "description_width": ""
          }
        },
        "e68e2f6d97d4447dbfebb901478771e6": {
          "model_module": "@jupyter-widgets/controls",
          "model_module_version": "1.5.0",
          "model_name": "DescriptionStyleModel",
          "state": {
            "_model_module": "@jupyter-widgets/controls",
            "_model_module_version": "1.5.0",
            "_model_name": "DescriptionStyleModel",
            "_view_count": null,
            "_view_module": "@jupyter-widgets/base",
            "_view_module_version": "1.2.0",
            "_view_name": "StyleView",
            "description_width": ""
          }
        }
      }
    }
  },
  "nbformat": 4,
  "nbformat_minor": 0
}
