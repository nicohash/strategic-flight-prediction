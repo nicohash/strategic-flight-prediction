{
 "cells": [
  {
   "cell_type": "code",
   "execution_count": 12,
   "metadata": {},
   "outputs": [
    {
     "name": "stdout",
     "output_type": "stream",
     "text": [
      "<class 'pandas.core.frame.DataFrame'>\n",
      "RangeIndex: 20698 entries, 0 to 20697\n",
      "Data columns (total 7 columns):\n",
      " #   Column   Non-Null Count  Dtype  \n",
      "---  ------   --------------  -----  \n",
      " 0   station  20698 non-null  object \n",
      " 1   valid    20698 non-null  object \n",
      " 2   tmpf     20697 non-null  float64\n",
      " 3   dwpf     20696 non-null  float64\n",
      " 4   relh     20696 non-null  float64\n",
      " 5   sknt     20686 non-null  float64\n",
      " 6   vsby     20697 non-null  float64\n",
      "dtypes: float64(5), object(2)\n",
      "memory usage: 1.1+ MB\n"
     ]
    }
   ],
   "source": [
    "import pandas as pd\n",
    "\n",
    "# Load data into a DataFrame\n",
    "df = pd.read_csv('../data/weather/atl_weather.csv')\n",
    "\n",
    "df.info()"
   ]
  },
  {
   "cell_type": "code",
   "execution_count": 13,
   "metadata": {},
   "outputs": [
    {
     "name": "stdout",
     "output_type": "stream",
     "text": [
      "['station', 'valid', 'tmpf', 'dwpf', 'relh', 'sknt', 'vsby']\n"
     ]
    }
   ],
   "source": [
    "print(list(df))"
   ]
  },
  {
   "cell_type": "code",
   "execution_count": 14,
   "metadata": {},
   "outputs": [],
   "source": [
    "df['valid'] = pd.to_datetime(df['valid'])"
   ]
  },
  {
   "cell_type": "code",
   "execution_count": 15,
   "metadata": {},
   "outputs": [
    {
     "name": "stdout",
     "output_type": "stream",
     "text": [
      "<class 'pandas.core.frame.DataFrame'>\n",
      "RangeIndex: 20698 entries, 0 to 20697\n",
      "Data columns (total 7 columns):\n",
      " #   Column   Non-Null Count  Dtype         \n",
      "---  ------   --------------  -----         \n",
      " 0   station  20698 non-null  object        \n",
      " 1   valid    20698 non-null  datetime64[ns]\n",
      " 2   tmpf     20697 non-null  float64       \n",
      " 3   dwpf     20696 non-null  float64       \n",
      " 4   relh     20696 non-null  float64       \n",
      " 5   sknt     20686 non-null  float64       \n",
      " 6   vsby     20697 non-null  float64       \n",
      "dtypes: datetime64[ns](1), float64(5), object(1)\n",
      "memory usage: 1.1+ MB\n"
     ]
    }
   ],
   "source": [
    "df.info()\n",
    "# 20698 entries, 0 to 20697\n",
    "# 7 columns"
   ]
  },
  {
   "cell_type": "markdown",
   "metadata": {},
   "source": [
    "## Daily Averages"
   ]
  },
  {
   "cell_type": "code",
   "execution_count": 16,
   "metadata": {},
   "outputs": [
    {
     "name": "stdout",
     "output_type": "stream",
     "text": [
      "<class 'pandas.core.frame.DataFrame'>\n",
      "RangeIndex: 730 entries, 0 to 729\n",
      "Data columns (total 4 columns):\n",
      " #   Column                    Non-Null Count  Dtype  \n",
      "---  ------                    --------------  -----  \n",
      " 0   FlightDate                730 non-null    object \n",
      " 1   DailyAvgTemperature       730 non-null    float64\n",
      " 2   DailyAvgDewPoint          730 non-null    float64\n",
      " 3   DailyAvgRelativeHumidity  730 non-null    float64\n",
      "dtypes: float64(3), object(1)\n",
      "memory usage: 22.9+ KB\n"
     ]
    }
   ],
   "source": [
    "# Group by day and calculate the mean for each variable\n",
    "daily_avg = df.groupby(df['valid'].dt.date).agg({'tmpf': 'mean', 'dwpf': 'mean', 'relh': 'mean'}).reset_index()\n",
    "\n",
    "# Round the mean values to the 2nd decimal place\n",
    "daily_avg['tmpf'] = daily_avg['tmpf'].round(2)\n",
    "daily_avg['dwpf'] = daily_avg['dwpf'].round(2)\n",
    "daily_avg['relh'] = daily_avg['relh'].round(2)\n",
    "\n",
    "# Rename the columns for clarity\n",
    "daily_avg.columns = ['FlightDate', 'DailyAvgTemperature', 'DailyAvgDewPoint', 'DailyAvgRelativeHumidity']\n",
    "\n",
    "daily_avg.info()\n",
    "# 730 entries"
   ]
  },
  {
   "cell_type": "code",
   "execution_count": 17,
   "metadata": {},
   "outputs": [
    {
     "data": {
      "text/html": [
       "<div>\n",
       "<style scoped>\n",
       "    .dataframe tbody tr th:only-of-type {\n",
       "        vertical-align: middle;\n",
       "    }\n",
       "\n",
       "    .dataframe tbody tr th {\n",
       "        vertical-align: top;\n",
       "    }\n",
       "\n",
       "    .dataframe thead th {\n",
       "        text-align: right;\n",
       "    }\n",
       "</style>\n",
       "<table border=\"1\" class=\"dataframe\">\n",
       "  <thead>\n",
       "    <tr style=\"text-align: right;\">\n",
       "      <th></th>\n",
       "      <th>FlightDate</th>\n",
       "      <th>DailyAvgTemperature</th>\n",
       "      <th>DailyAvgDewPoint</th>\n",
       "      <th>DailyAvgRelativeHumidity</th>\n",
       "    </tr>\n",
       "  </thead>\n",
       "  <tbody>\n",
       "    <tr>\n",
       "      <th>0</th>\n",
       "      <td>2021-08-01</td>\n",
       "      <td>80.61</td>\n",
       "      <td>70.79</td>\n",
       "      <td>73.38</td>\n",
       "    </tr>\n",
       "    <tr>\n",
       "      <th>1</th>\n",
       "      <td>2021-08-02</td>\n",
       "      <td>79.32</td>\n",
       "      <td>64.76</td>\n",
       "      <td>63.65</td>\n",
       "    </tr>\n",
       "    <tr>\n",
       "      <th>2</th>\n",
       "      <td>2021-08-03</td>\n",
       "      <td>75.00</td>\n",
       "      <td>68.06</td>\n",
       "      <td>79.92</td>\n",
       "    </tr>\n",
       "    <tr>\n",
       "      <th>3</th>\n",
       "      <td>2021-08-04</td>\n",
       "      <td>74.63</td>\n",
       "      <td>65.17</td>\n",
       "      <td>74.24</td>\n",
       "    </tr>\n",
       "    <tr>\n",
       "      <th>4</th>\n",
       "      <td>2021-08-05</td>\n",
       "      <td>76.36</td>\n",
       "      <td>64.46</td>\n",
       "      <td>68.23</td>\n",
       "    </tr>\n",
       "  </tbody>\n",
       "</table>\n",
       "</div>"
      ],
      "text/plain": [
       "   FlightDate  DailyAvgTemperature  DailyAvgDewPoint  DailyAvgRelativeHumidity\n",
       "0  2021-08-01                80.61             70.79                     73.38\n",
       "1  2021-08-02                79.32             64.76                     63.65\n",
       "2  2021-08-03                75.00             68.06                     79.92\n",
       "3  2021-08-04                74.63             65.17                     74.24\n",
       "4  2021-08-05                76.36             64.46                     68.23"
      ]
     },
     "execution_count": 17,
     "metadata": {},
     "output_type": "execute_result"
    }
   ],
   "source": [
    "daily_avg.head()"
   ]
  },
  {
   "cell_type": "code",
   "execution_count": 18,
   "metadata": {},
   "outputs": [
    {
     "name": "stdout",
     "output_type": "stream",
     "text": [
      "(730, 4)\n"
     ]
    }
   ],
   "source": [
    "print(daily_avg.shape)"
   ]
  },
  {
   "cell_type": "code",
   "execution_count": 19,
   "metadata": {},
   "outputs": [],
   "source": [
    "# Save the daily data to a CSV file\n",
    "daily_avg.to_csv('../data/weather/atl_weather_daily_averages.csv', index=False)"
   ]
  },
  {
   "cell_type": "markdown",
   "metadata": {},
   "source": [
    "## Monthly Averages"
   ]
  },
  {
   "cell_type": "code",
   "execution_count": 20,
   "metadata": {},
   "outputs": [
    {
     "name": "stdout",
     "output_type": "stream",
     "text": [
      "<class 'pandas.core.frame.DataFrame'>\n",
      "RangeIndex: 24 entries, 0 to 23\n",
      "Data columns (total 4 columns):\n",
      " #   Column                      Non-Null Count  Dtype    \n",
      "---  ------                      --------------  -----    \n",
      " 0   FlightMonth                 24 non-null     period[M]\n",
      " 1   MonthlyAvgTemperature       24 non-null     float64  \n",
      " 2   MonthlyAvgDewPoint          24 non-null     float64  \n",
      " 3   MonthlyAvgRelativeHumidity  24 non-null     float64  \n",
      "dtypes: float64(3), period[M](1)\n",
      "memory usage: 896.0 bytes\n"
     ]
    }
   ],
   "source": [
    "# Group by month and calculate the mean for each variable\n",
    "monthly_avg = df.groupby(df['valid'].dt.to_period('M')).agg({'tmpf': 'mean', 'dwpf': 'mean', 'relh': 'mean'}).reset_index()\n",
    "\n",
    "# Round the mean values to the 2nd decimal place\n",
    "monthly_avg['tmpf'] = monthly_avg['tmpf'].round(2)\n",
    "monthly_avg['dwpf'] = monthly_avg['dwpf'].round(2)\n",
    "monthly_avg['relh'] = monthly_avg['relh'].round(2)\n",
    "\n",
    "# Rename the columns for clarity\n",
    "monthly_avg.columns = ['FlightMonth', 'MonthlyAvgTemperature', 'MonthlyAvgDewPoint', 'MonthlyAvgRelativeHumidity']\n",
    "\n",
    "monthly_avg.info()"
   ]
  },
  {
   "cell_type": "code",
   "execution_count": 21,
   "metadata": {},
   "outputs": [
    {
     "data": {
      "text/html": [
       "<div>\n",
       "<style scoped>\n",
       "    .dataframe tbody tr th:only-of-type {\n",
       "        vertical-align: middle;\n",
       "    }\n",
       "\n",
       "    .dataframe tbody tr th {\n",
       "        vertical-align: top;\n",
       "    }\n",
       "\n",
       "    .dataframe thead th {\n",
       "        text-align: right;\n",
       "    }\n",
       "</style>\n",
       "<table border=\"1\" class=\"dataframe\">\n",
       "  <thead>\n",
       "    <tr style=\"text-align: right;\">\n",
       "      <th></th>\n",
       "      <th>FlightMonth</th>\n",
       "      <th>MonthlyAvgTemperature</th>\n",
       "      <th>MonthlyAvgDewPoint</th>\n",
       "      <th>MonthlyAvgRelativeHumidity</th>\n",
       "    </tr>\n",
       "  </thead>\n",
       "  <tbody>\n",
       "    <tr>\n",
       "      <th>0</th>\n",
       "      <td>2021-08</td>\n",
       "      <td>78.67</td>\n",
       "      <td>69.68</td>\n",
       "      <td>75.58</td>\n",
       "    </tr>\n",
       "    <tr>\n",
       "      <th>1</th>\n",
       "      <td>2021-09</td>\n",
       "      <td>73.56</td>\n",
       "      <td>63.83</td>\n",
       "      <td>73.74</td>\n",
       "    </tr>\n",
       "    <tr>\n",
       "      <th>2</th>\n",
       "      <td>2021-10</td>\n",
       "      <td>66.32</td>\n",
       "      <td>57.69</td>\n",
       "      <td>75.78</td>\n",
       "    </tr>\n",
       "    <tr>\n",
       "      <th>3</th>\n",
       "      <td>2021-11</td>\n",
       "      <td>52.52</td>\n",
       "      <td>37.33</td>\n",
       "      <td>59.47</td>\n",
       "    </tr>\n",
       "    <tr>\n",
       "      <th>4</th>\n",
       "      <td>2021-12</td>\n",
       "      <td>56.46</td>\n",
       "      <td>48.80</td>\n",
       "      <td>77.46</td>\n",
       "    </tr>\n",
       "  </tbody>\n",
       "</table>\n",
       "</div>"
      ],
      "text/plain": [
       "  FlightMonth  MonthlyAvgTemperature  MonthlyAvgDewPoint  \\\n",
       "0     2021-08                  78.67               69.68   \n",
       "1     2021-09                  73.56               63.83   \n",
       "2     2021-10                  66.32               57.69   \n",
       "3     2021-11                  52.52               37.33   \n",
       "4     2021-12                  56.46               48.80   \n",
       "\n",
       "   MonthlyAvgRelativeHumidity  \n",
       "0                       75.58  \n",
       "1                       73.74  \n",
       "2                       75.78  \n",
       "3                       59.47  \n",
       "4                       77.46  "
      ]
     },
     "execution_count": 21,
     "metadata": {},
     "output_type": "execute_result"
    }
   ],
   "source": [
    "monthly_avg.head()"
   ]
  },
  {
   "cell_type": "code",
   "execution_count": 22,
   "metadata": {},
   "outputs": [
    {
     "name": "stdout",
     "output_type": "stream",
     "text": [
      "(24, 4)\n"
     ]
    }
   ],
   "source": [
    "print(monthly_avg.shape)"
   ]
  },
  {
   "cell_type": "code",
   "execution_count": 23,
   "metadata": {},
   "outputs": [],
   "source": [
    "# Save the monthly data to a CSV file\n",
    "monthly_avg.to_csv('../data/weather/atl_weather_monthly_averages.csv', index=False)"
   ]
  }
 ],
 "metadata": {
  "kernelspec": {
   "display_name": "Python 3",
   "language": "python",
   "name": "python3"
  },
  "language_info": {
   "codemirror_mode": {
    "name": "ipython",
    "version": 3
   },
   "file_extension": ".py",
   "mimetype": "text/x-python",
   "name": "python",
   "nbconvert_exporter": "python",
   "pygments_lexer": "ipython3",
   "version": "3.9.6"
  }
 },
 "nbformat": 4,
 "nbformat_minor": 2
}
